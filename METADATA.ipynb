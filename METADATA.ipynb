{
 "cells": [
  {
   "cell_type": "markdown",
   "metadata": {},
   "source": [
    "#                      CORD-19 DATA ANALYSIS PROJECT"
   ]
  },
  {
   "cell_type": "markdown",
   "metadata": {},
   "source": [
    "### Author : Oke Victor Oluwaseun\n",
    "\n"
   ]
  },
  {
   "cell_type": "markdown",
   "metadata": {},
   "source": [
    "### Date: 30/09/2021"
   ]
  },
  {
   "cell_type": "markdown",
   "metadata": {},
   "source": [
    "#### The learning outcomes covered by this project are:\n",
    "• Provide a broad overview of the general field of ‘big data systems’\n",
    "\n",
    "• Developing specialised knowledge in areas that demonstrate the interaction and synergy between ongoing research and practical deployment of this field of study.\n",
    "Key skills to be assessed\n",
    "This project aims at assessing your skills in:\n",
    "\n",
    "• The usage of common big data tools and techniques\n",
    "\n",
    "• Your ability to implement a standard data analysis process\n",
    "\n",
    "– Loading the data\n",
    "\n",
    "– Cleansing the data\n",
    "\n",
    "– Analysis\n",
    "\n",
    "– Visualisation / Reporting"
   ]
  },
  {
   "cell_type": "markdown",
   "metadata": {},
   "source": [
    "## Data Description"
   ]
  },
  {
   "cell_type": "markdown",
   "metadata": {},
   "source": [
    "Covid-19, a highly contagious disease with its epicentre in Wuhan, China, caused by coronavirus which is an enveloped RNA virus found diversely in human and wildlife. WHO has declared this outbreak as public health emergency of international concern. Almost 14,761,814 cases have been identified across the world as on 19 July 2020. The damage mechanism of disease is still unclear. This review will introduce and systematically summarizes the origin and spread of disease along with its epidemiology, pathogenesis, clinical characters with different stages, diagnosis and treatment strategies. This is expected that this review will be helpful for the public in recognising and deal with threatening disease and can also provide a reference for further studies. It will also provide a means to raise awareness about the pandemic among the public and healthcare"
   ]
  },
  {
   "cell_type": "markdown",
   "metadata": {},
   "source": [
    "### CONTENT OF THE CORD-19 DATASET"
   ]
  },
  {
   "cell_type": "markdown",
   "metadata": {},
   "source": [
    "Each row represents a patient, each column contains patient’s features and what they go through on the columns for Metadata.\n",
    "\n"
   ]
  },
  {
   "cell_type": "markdown",
   "metadata": {},
   "source": [
    "# Importing Basic Libraries"
   ]
  },
  {
   "cell_type": "code",
   "execution_count": 1,
   "metadata": {},
   "outputs": [],
   "source": [
    "import pandas as pd\n",
    "import numpy as np\n",
    "import seaborn as sns\n",
    "import matplotlib.pyplot as plt\n",
    "%matplotlib inline"
   ]
  },
  {
   "cell_type": "markdown",
   "metadata": {},
   "source": [
    "# Import Data"
   ]
  },
  {
   "cell_type": "code",
   "execution_count": 2,
   "metadata": {
    "scrolled": true
   },
   "outputs": [
    {
     "name": "stderr",
     "output_type": "stream",
     "text": [
      "C:\\Users\\oluwaseun gfx\\anaconda3\\New folder\\lib\\site-packages\\IPython\\core\\interactiveshell.py:3063: DtypeWarning: Columns (14) have mixed types.Specify dtype option on import or set low_memory=False.\n",
      "  interactivity=interactivity, compiler=compiler, result=result)\n"
     ]
    }
   ],
   "source": [
    "metadata = pd.read_csv('metadata.csv')"
   ]
  },
  {
   "cell_type": "markdown",
   "metadata": {},
   "source": [
    "# Exploratory Data Analysis(EDA)"
   ]
  },
  {
   "cell_type": "markdown",
   "metadata": {},
   "source": [
    "## Show the head and tail of the data"
   ]
  },
  {
   "cell_type": "code",
   "execution_count": 4,
   "metadata": {},
   "outputs": [
    {
     "name": "stdout",
     "output_type": "stream",
     "text": [
      "Head of the Data\n"
     ]
    },
    {
     "data": {
      "text/html": [
       "<div>\n",
       "<style scoped>\n",
       "    .dataframe tbody tr th:only-of-type {\n",
       "        vertical-align: middle;\n",
       "    }\n",
       "\n",
       "    .dataframe tbody tr th {\n",
       "        vertical-align: top;\n",
       "    }\n",
       "\n",
       "    .dataframe thead th {\n",
       "        text-align: right;\n",
       "    }\n",
       "</style>\n",
       "<table border=\"1\" class=\"dataframe\">\n",
       "  <thead>\n",
       "    <tr style=\"text-align: right;\">\n",
       "      <th></th>\n",
       "      <th>cord_uid</th>\n",
       "      <th>sha</th>\n",
       "      <th>source_x</th>\n",
       "      <th>title</th>\n",
       "      <th>doi</th>\n",
       "      <th>pmcid</th>\n",
       "      <th>pubmed_id</th>\n",
       "      <th>license</th>\n",
       "      <th>abstract</th>\n",
       "      <th>publish_time</th>\n",
       "      <th>authors</th>\n",
       "      <th>journal</th>\n",
       "      <th>Microsoft Academic Paper ID</th>\n",
       "      <th>WHO #Covidence</th>\n",
       "      <th>arxiv_id</th>\n",
       "      <th>has_pdf_parse</th>\n",
       "      <th>has_pmc_xml_parse</th>\n",
       "      <th>full_text_file</th>\n",
       "      <th>url</th>\n",
       "    </tr>\n",
       "  </thead>\n",
       "  <tbody>\n",
       "    <tr>\n",
       "      <th>0</th>\n",
       "      <td>zjufx4fo</td>\n",
       "      <td>b2897e1277f56641193a6db73825f707eed3e4c9</td>\n",
       "      <td>PMC</td>\n",
       "      <td>Sequence requirements for RNA strand transfer ...</td>\n",
       "      <td>10.1093/emboj/20.24.7220</td>\n",
       "      <td>PMC125340</td>\n",
       "      <td>11742998.0</td>\n",
       "      <td>unk</td>\n",
       "      <td>Nidovirus subgenomic mRNAs contain a leader se...</td>\n",
       "      <td>2001-12-17</td>\n",
       "      <td>Pasternak, Alexander O.; van den Born, Erwin; ...</td>\n",
       "      <td>The EMBO Journal</td>\n",
       "      <td>NaN</td>\n",
       "      <td>NaN</td>\n",
       "      <td>NaN</td>\n",
       "      <td>True</td>\n",
       "      <td>True</td>\n",
       "      <td>custom_license</td>\n",
       "      <td>http://europepmc.org/articles/pmc125340?pdf=re...</td>\n",
       "    </tr>\n",
       "    <tr>\n",
       "      <th>1</th>\n",
       "      <td>ymceytj3</td>\n",
       "      <td>e3d0d482ebd9a8ba81c254cc433f314142e72174</td>\n",
       "      <td>PMC</td>\n",
       "      <td>Crystal structure of murine sCEACAM1a[1,4]: a ...</td>\n",
       "      <td>10.1093/emboj/21.9.2076</td>\n",
       "      <td>PMC125375</td>\n",
       "      <td>11980704.0</td>\n",
       "      <td>unk</td>\n",
       "      <td>CEACAM1 is a member of the carcinoembryonic an...</td>\n",
       "      <td>2002-05-01</td>\n",
       "      <td>Tan, Kemin; Zelus, Bruce D.; Meijers, Rob; Liu...</td>\n",
       "      <td>The EMBO Journal</td>\n",
       "      <td>NaN</td>\n",
       "      <td>NaN</td>\n",
       "      <td>NaN</td>\n",
       "      <td>True</td>\n",
       "      <td>True</td>\n",
       "      <td>custom_license</td>\n",
       "      <td>http://europepmc.org/articles/pmc125375?pdf=re...</td>\n",
       "    </tr>\n",
       "    <tr>\n",
       "      <th>2</th>\n",
       "      <td>wzj2glte</td>\n",
       "      <td>00b1d99e70f779eb4ede50059db469c65e8c1469</td>\n",
       "      <td>PMC</td>\n",
       "      <td>Synthesis of a novel hepatitis C virus protein...</td>\n",
       "      <td>10.1093/emboj/20.14.3840</td>\n",
       "      <td>PMC125543</td>\n",
       "      <td>11447125.0</td>\n",
       "      <td>no-cc</td>\n",
       "      <td>Hepatitis C virus (HCV) is an important human ...</td>\n",
       "      <td>2001-07-16</td>\n",
       "      <td>Xu, Zhenming; Choi, Jinah; Yen, T.S.Benedict; ...</td>\n",
       "      <td>EMBO J</td>\n",
       "      <td>NaN</td>\n",
       "      <td>NaN</td>\n",
       "      <td>NaN</td>\n",
       "      <td>True</td>\n",
       "      <td>True</td>\n",
       "      <td>custom_license</td>\n",
       "      <td>https://www.ncbi.nlm.nih.gov/pmc/articles/PMC1...</td>\n",
       "    </tr>\n",
       "    <tr>\n",
       "      <th>3</th>\n",
       "      <td>2sfqsfm1</td>\n",
       "      <td>cf584e00f637cbd8f1bb35f3f09f5ed07b71aeb0</td>\n",
       "      <td>PMC</td>\n",
       "      <td>Structure of coronavirus main proteinase revea...</td>\n",
       "      <td>10.1093/emboj/cdf327</td>\n",
       "      <td>PMC126080</td>\n",
       "      <td>12093723.0</td>\n",
       "      <td>unk</td>\n",
       "      <td>The key enzyme in coronavirus polyprotein proc...</td>\n",
       "      <td>2002-07-01</td>\n",
       "      <td>Anand, Kanchan; Palm, Gottfried J.; Mesters, J...</td>\n",
       "      <td>The EMBO Journal</td>\n",
       "      <td>NaN</td>\n",
       "      <td>NaN</td>\n",
       "      <td>NaN</td>\n",
       "      <td>True</td>\n",
       "      <td>True</td>\n",
       "      <td>custom_license</td>\n",
       "      <td>http://europepmc.org/articles/pmc126080?pdf=re...</td>\n",
       "    </tr>\n",
       "    <tr>\n",
       "      <th>4</th>\n",
       "      <td>i0zym7iq</td>\n",
       "      <td>dde02f11923815e6a16a31dd6298c46b109c5dfa</td>\n",
       "      <td>PMC</td>\n",
       "      <td>Discontinuous and non-discontinuous subgenomic...</td>\n",
       "      <td>10.1093/emboj/cdf635</td>\n",
       "      <td>PMC136939</td>\n",
       "      <td>12456663.0</td>\n",
       "      <td>unk</td>\n",
       "      <td>Arteri-, corona-, toro- and roniviruses are ev...</td>\n",
       "      <td>2002-12-01</td>\n",
       "      <td>van Vliet, A.L.W.; Smits, S.L.; Rottier, P.J.M...</td>\n",
       "      <td>The EMBO Journal</td>\n",
       "      <td>NaN</td>\n",
       "      <td>NaN</td>\n",
       "      <td>NaN</td>\n",
       "      <td>True</td>\n",
       "      <td>True</td>\n",
       "      <td>custom_license</td>\n",
       "      <td>http://europepmc.org/articles/pmc136939?pdf=re...</td>\n",
       "    </tr>\n",
       "  </tbody>\n",
       "</table>\n",
       "</div>"
      ],
      "text/plain": [
       "   cord_uid                                       sha source_x  \\\n",
       "0  zjufx4fo  b2897e1277f56641193a6db73825f707eed3e4c9      PMC   \n",
       "1  ymceytj3  e3d0d482ebd9a8ba81c254cc433f314142e72174      PMC   \n",
       "2  wzj2glte  00b1d99e70f779eb4ede50059db469c65e8c1469      PMC   \n",
       "3  2sfqsfm1  cf584e00f637cbd8f1bb35f3f09f5ed07b71aeb0      PMC   \n",
       "4  i0zym7iq  dde02f11923815e6a16a31dd6298c46b109c5dfa      PMC   \n",
       "\n",
       "                                               title  \\\n",
       "0  Sequence requirements for RNA strand transfer ...   \n",
       "1  Crystal structure of murine sCEACAM1a[1,4]: a ...   \n",
       "2  Synthesis of a novel hepatitis C virus protein...   \n",
       "3  Structure of coronavirus main proteinase revea...   \n",
       "4  Discontinuous and non-discontinuous subgenomic...   \n",
       "\n",
       "                        doi      pmcid   pubmed_id license  \\\n",
       "0  10.1093/emboj/20.24.7220  PMC125340  11742998.0     unk   \n",
       "1   10.1093/emboj/21.9.2076  PMC125375  11980704.0     unk   \n",
       "2  10.1093/emboj/20.14.3840  PMC125543  11447125.0   no-cc   \n",
       "3      10.1093/emboj/cdf327  PMC126080  12093723.0     unk   \n",
       "4      10.1093/emboj/cdf635  PMC136939  12456663.0     unk   \n",
       "\n",
       "                                            abstract publish_time  \\\n",
       "0  Nidovirus subgenomic mRNAs contain a leader se...   2001-12-17   \n",
       "1  CEACAM1 is a member of the carcinoembryonic an...   2002-05-01   \n",
       "2  Hepatitis C virus (HCV) is an important human ...   2001-07-16   \n",
       "3  The key enzyme in coronavirus polyprotein proc...   2002-07-01   \n",
       "4  Arteri-, corona-, toro- and roniviruses are ev...   2002-12-01   \n",
       "\n",
       "                                             authors           journal  \\\n",
       "0  Pasternak, Alexander O.; van den Born, Erwin; ...  The EMBO Journal   \n",
       "1  Tan, Kemin; Zelus, Bruce D.; Meijers, Rob; Liu...  The EMBO Journal   \n",
       "2  Xu, Zhenming; Choi, Jinah; Yen, T.S.Benedict; ...            EMBO J   \n",
       "3  Anand, Kanchan; Palm, Gottfried J.; Mesters, J...  The EMBO Journal   \n",
       "4  van Vliet, A.L.W.; Smits, S.L.; Rottier, P.J.M...  The EMBO Journal   \n",
       "\n",
       "   Microsoft Academic Paper ID WHO #Covidence arxiv_id  has_pdf_parse  \\\n",
       "0                          NaN            NaN      NaN           True   \n",
       "1                          NaN            NaN      NaN           True   \n",
       "2                          NaN            NaN      NaN           True   \n",
       "3                          NaN            NaN      NaN           True   \n",
       "4                          NaN            NaN      NaN           True   \n",
       "\n",
       "   has_pmc_xml_parse  full_text_file  \\\n",
       "0               True  custom_license   \n",
       "1               True  custom_license   \n",
       "2               True  custom_license   \n",
       "3               True  custom_license   \n",
       "4               True  custom_license   \n",
       "\n",
       "                                                 url  \n",
       "0  http://europepmc.org/articles/pmc125340?pdf=re...  \n",
       "1  http://europepmc.org/articles/pmc125375?pdf=re...  \n",
       "2  https://www.ncbi.nlm.nih.gov/pmc/articles/PMC1...  \n",
       "3  http://europepmc.org/articles/pmc126080?pdf=re...  \n",
       "4  http://europepmc.org/articles/pmc136939?pdf=re...  "
      ]
     },
     "execution_count": 4,
     "metadata": {},
     "output_type": "execute_result"
    }
   ],
   "source": [
    "print('Head of the Data')\n",
    "metadata.head()\n"
   ]
  },
  {
   "cell_type": "code",
   "execution_count": 4,
   "metadata": {},
   "outputs": [
    {
     "name": "stdout",
     "output_type": "stream",
     "text": [
      "Tail of the Data\n"
     ]
    },
    {
     "data": {
      "text/html": [
       "<div>\n",
       "<style scoped>\n",
       "    .dataframe tbody tr th:only-of-type {\n",
       "        vertical-align: middle;\n",
       "    }\n",
       "\n",
       "    .dataframe tbody tr th {\n",
       "        vertical-align: top;\n",
       "    }\n",
       "\n",
       "    .dataframe thead th {\n",
       "        text-align: right;\n",
       "    }\n",
       "</style>\n",
       "<table border=\"1\" class=\"dataframe\">\n",
       "  <thead>\n",
       "    <tr style=\"text-align: right;\">\n",
       "      <th></th>\n",
       "      <th>cord_uid</th>\n",
       "      <th>sha</th>\n",
       "      <th>source_x</th>\n",
       "      <th>title</th>\n",
       "      <th>doi</th>\n",
       "      <th>pmcid</th>\n",
       "      <th>pubmed_id</th>\n",
       "      <th>license</th>\n",
       "      <th>abstract</th>\n",
       "      <th>publish_time</th>\n",
       "      <th>authors</th>\n",
       "      <th>journal</th>\n",
       "      <th>Microsoft Academic Paper ID</th>\n",
       "      <th>WHO #Covidence</th>\n",
       "      <th>arxiv_id</th>\n",
       "      <th>has_pdf_parse</th>\n",
       "      <th>has_pmc_xml_parse</th>\n",
       "      <th>full_text_file</th>\n",
       "      <th>url</th>\n",
       "    </tr>\n",
       "  </thead>\n",
       "  <tbody>\n",
       "    <tr>\n",
       "      <th>59882</th>\n",
       "      <td>pwq5gir9</td>\n",
       "      <td>20f185b11fa23da8938efb5c839c6c078c66f1e9</td>\n",
       "      <td>Elsevier</td>\n",
       "      <td>Cutting-Edge Infectious Disease Diagnostics wi...</td>\n",
       "      <td>10.1016/j.chom.2018.05.016</td>\n",
       "      <td>PMC7105017</td>\n",
       "      <td>29902435.0</td>\n",
       "      <td>els-covid</td>\n",
       "      <td>Three recent Science articles (Chen et al., 20...</td>\n",
       "      <td>2018-06-13</td>\n",
       "      <td>Chiu, Charles</td>\n",
       "      <td>Cell Host &amp; Microbe</td>\n",
       "      <td>NaN</td>\n",
       "      <td>NaN</td>\n",
       "      <td>NaN</td>\n",
       "      <td>True</td>\n",
       "      <td>False</td>\n",
       "      <td>custom_license</td>\n",
       "      <td>https://doi.org/10.1016/j.chom.2018.05.016</td>\n",
       "    </tr>\n",
       "    <tr>\n",
       "      <th>59883</th>\n",
       "      <td>3racv2qe</td>\n",
       "      <td>e84532333db8f219f20ae0a8fe18130c0d010b04</td>\n",
       "      <td>Elsevier</td>\n",
       "      <td>Intranasal administration of oxytocin: Behavio...</td>\n",
       "      <td>10.1016/j.neubiorev.2013.04.012</td>\n",
       "      <td>PMC7112651</td>\n",
       "      <td>23648680.0</td>\n",
       "      <td>els-covid</td>\n",
       "      <td>Abstract The intranasal (IN-) administration o...</td>\n",
       "      <td>2013-09-30</td>\n",
       "      <td>Veening, Jan G.; Olivier, Berend</td>\n",
       "      <td>Neuroscience &amp; Biobehavioral Reviews</td>\n",
       "      <td>NaN</td>\n",
       "      <td>NaN</td>\n",
       "      <td>NaN</td>\n",
       "      <td>True</td>\n",
       "      <td>False</td>\n",
       "      <td>custom_license</td>\n",
       "      <td>https://doi.org/10.1016/j.neubiorev.2013.04.012</td>\n",
       "    </tr>\n",
       "    <tr>\n",
       "      <th>59884</th>\n",
       "      <td>jngto9kv</td>\n",
       "      <td>31105078a2953217223699d09c6a80d0f5edfdf6</td>\n",
       "      <td>Elsevier</td>\n",
       "      <td>Infecciones virales graves en pacientes inmuno...</td>\n",
       "      <td>10.1016/j.medin.2011.01.001</td>\n",
       "      <td>PMC7130729</td>\n",
       "      <td>21353339.0</td>\n",
       "      <td>els-covid</td>\n",
       "      <td>Resumen Los virus tienen un papel importante d...</td>\n",
       "      <td>2011-04-30</td>\n",
       "      <td>Díaz, A.; Zaragoza, R.; Granada, R.; Salavert, M.</td>\n",
       "      <td>Medicina Intensiva</td>\n",
       "      <td>NaN</td>\n",
       "      <td>NaN</td>\n",
       "      <td>NaN</td>\n",
       "      <td>True</td>\n",
       "      <td>False</td>\n",
       "      <td>custom_license</td>\n",
       "      <td>https://doi.org/10.1016/j.medin.2011.01.001</td>\n",
       "    </tr>\n",
       "    <tr>\n",
       "      <th>59885</th>\n",
       "      <td>td0776wj</td>\n",
       "      <td>b1f977d58a0eba25acdee5912ef71c372b0632de</td>\n",
       "      <td>Elsevier</td>\n",
       "      <td>18 Omics, Bioinformatics, and Infectious Disea...</td>\n",
       "      <td>10.1016/b978-0-12-384890-1.00018-2</td>\n",
       "      <td>PMC7149799</td>\n",
       "      <td>NaN</td>\n",
       "      <td>els-covid</td>\n",
       "      <td>Bioinformatics and the ‘omics’ studies are rap...</td>\n",
       "      <td>2011-12-31</td>\n",
       "      <td>Paszkiewicz, Konrad H.; Giezen, Mark van der</td>\n",
       "      <td>Genetics and Evolution of Infectious Disease</td>\n",
       "      <td>NaN</td>\n",
       "      <td>NaN</td>\n",
       "      <td>NaN</td>\n",
       "      <td>True</td>\n",
       "      <td>False</td>\n",
       "      <td>custom_license</td>\n",
       "      <td>https://doi.org/10.1016/b978-0-12-384890-1.000...</td>\n",
       "    </tr>\n",
       "    <tr>\n",
       "      <th>59886</th>\n",
       "      <td>jxbr6hbk</td>\n",
       "      <td>4eb170db0dd666fc669649d0e6b15e513b6598d6; 9403...</td>\n",
       "      <td>PMC</td>\n",
       "      <td>Identifying spatio-temporal dynamics of Ebola ...</td>\n",
       "      <td>10.1098/rsif.2017.0583</td>\n",
       "      <td>PMC5721162</td>\n",
       "      <td>29187639.0</td>\n",
       "      <td>cc-by</td>\n",
       "      <td>Containing the recent West African outbreak of...</td>\n",
       "      <td>2017-11-29</td>\n",
       "      <td>Gustafson, Kyle B.; Proctor, Joshua L.</td>\n",
       "      <td>J R Soc Interface</td>\n",
       "      <td>NaN</td>\n",
       "      <td>NaN</td>\n",
       "      <td>1704.07866</td>\n",
       "      <td>True</td>\n",
       "      <td>True</td>\n",
       "      <td>comm_use_subset</td>\n",
       "      <td>https://www.ncbi.nlm.nih.gov/pmc/articles/PMC5...</td>\n",
       "    </tr>\n",
       "  </tbody>\n",
       "</table>\n",
       "</div>"
      ],
      "text/plain": [
       "       cord_uid                                                sha  source_x  \\\n",
       "59882  pwq5gir9           20f185b11fa23da8938efb5c839c6c078c66f1e9  Elsevier   \n",
       "59883  3racv2qe           e84532333db8f219f20ae0a8fe18130c0d010b04  Elsevier   \n",
       "59884  jngto9kv           31105078a2953217223699d09c6a80d0f5edfdf6  Elsevier   \n",
       "59885  td0776wj           b1f977d58a0eba25acdee5912ef71c372b0632de  Elsevier   \n",
       "59886  jxbr6hbk  4eb170db0dd666fc669649d0e6b15e513b6598d6; 9403...       PMC   \n",
       "\n",
       "                                                   title  \\\n",
       "59882  Cutting-Edge Infectious Disease Diagnostics wi...   \n",
       "59883  Intranasal administration of oxytocin: Behavio...   \n",
       "59884  Infecciones virales graves en pacientes inmuno...   \n",
       "59885  18 Omics, Bioinformatics, and Infectious Disea...   \n",
       "59886  Identifying spatio-temporal dynamics of Ebola ...   \n",
       "\n",
       "                                      doi       pmcid   pubmed_id    license  \\\n",
       "59882          10.1016/j.chom.2018.05.016  PMC7105017  29902435.0  els-covid   \n",
       "59883     10.1016/j.neubiorev.2013.04.012  PMC7112651  23648680.0  els-covid   \n",
       "59884         10.1016/j.medin.2011.01.001  PMC7130729  21353339.0  els-covid   \n",
       "59885  10.1016/b978-0-12-384890-1.00018-2  PMC7149799         NaN  els-covid   \n",
       "59886              10.1098/rsif.2017.0583  PMC5721162  29187639.0      cc-by   \n",
       "\n",
       "                                                abstract publish_time  \\\n",
       "59882  Three recent Science articles (Chen et al., 20...   2018-06-13   \n",
       "59883  Abstract The intranasal (IN-) administration o...   2013-09-30   \n",
       "59884  Resumen Los virus tienen un papel importante d...   2011-04-30   \n",
       "59885  Bioinformatics and the ‘omics’ studies are rap...   2011-12-31   \n",
       "59886  Containing the recent West African outbreak of...   2017-11-29   \n",
       "\n",
       "                                                 authors  \\\n",
       "59882                                      Chiu, Charles   \n",
       "59883                   Veening, Jan G.; Olivier, Berend   \n",
       "59884  Díaz, A.; Zaragoza, R.; Granada, R.; Salavert, M.   \n",
       "59885       Paszkiewicz, Konrad H.; Giezen, Mark van der   \n",
       "59886             Gustafson, Kyle B.; Proctor, Joshua L.   \n",
       "\n",
       "                                            journal  \\\n",
       "59882                           Cell Host & Microbe   \n",
       "59883          Neuroscience & Biobehavioral Reviews   \n",
       "59884                            Medicina Intensiva   \n",
       "59885  Genetics and Evolution of Infectious Disease   \n",
       "59886                             J R Soc Interface   \n",
       "\n",
       "       Microsoft Academic Paper ID WHO #Covidence    arxiv_id  has_pdf_parse  \\\n",
       "59882                          NaN            NaN         NaN           True   \n",
       "59883                          NaN            NaN         NaN           True   \n",
       "59884                          NaN            NaN         NaN           True   \n",
       "59885                          NaN            NaN         NaN           True   \n",
       "59886                          NaN            NaN  1704.07866           True   \n",
       "\n",
       "       has_pmc_xml_parse   full_text_file  \\\n",
       "59882              False   custom_license   \n",
       "59883              False   custom_license   \n",
       "59884              False   custom_license   \n",
       "59885              False   custom_license   \n",
       "59886               True  comm_use_subset   \n",
       "\n",
       "                                                     url  \n",
       "59882         https://doi.org/10.1016/j.chom.2018.05.016  \n",
       "59883    https://doi.org/10.1016/j.neubiorev.2013.04.012  \n",
       "59884        https://doi.org/10.1016/j.medin.2011.01.001  \n",
       "59885  https://doi.org/10.1016/b978-0-12-384890-1.000...  \n",
       "59886  https://www.ncbi.nlm.nih.gov/pmc/articles/PMC5...  "
      ]
     },
     "execution_count": 4,
     "metadata": {},
     "output_type": "execute_result"
    }
   ],
   "source": [
    "print('Tail of the Data')\n",
    "metadata.tail()"
   ]
  },
  {
   "cell_type": "code",
   "execution_count": 5,
   "metadata": {},
   "outputs": [
    {
     "name": "stdout",
     "output_type": "stream",
     "text": [
      "Shape of the Data\n",
      "(59887, 19)\n"
     ]
    }
   ],
   "source": [
    "print('Shape of the Data')\n",
    "print(metadata.shape)"
   ]
  },
  {
   "cell_type": "markdown",
   "metadata": {},
   "source": [
    "## Info"
   ]
  },
  {
   "cell_type": "code",
   "execution_count": 6,
   "metadata": {},
   "outputs": [
    {
     "name": "stdout",
     "output_type": "stream",
     "text": [
      "<class 'pandas.core.frame.DataFrame'>\n",
      "RangeIndex: 59887 entries, 0 to 59886\n",
      "Data columns (total 19 columns):\n",
      " #   Column                       Non-Null Count  Dtype  \n",
      "---  ------                       --------------  -----  \n",
      " 0   cord_uid                     59887 non-null  object \n",
      " 1   sha                          45763 non-null  object \n",
      " 2   source_x                     59887 non-null  object \n",
      " 3   title                        59724 non-null  object \n",
      " 4   doi                          55801 non-null  object \n",
      " 5   pmcid                        48139 non-null  object \n",
      " 6   pubmed_id                    41328 non-null  float64\n",
      " 7   license                      59887 non-null  object \n",
      " 8   abstract                     48757 non-null  object \n",
      " 9   publish_time                 59879 non-null  object \n",
      " 10  authors                      57296 non-null  object \n",
      " 11  journal                      52828 non-null  object \n",
      " 12  Microsoft Academic Paper ID  964 non-null    float64\n",
      " 13  WHO #Covidence               1768 non-null   object \n",
      " 14  arxiv_id                     676 non-null    object \n",
      " 15  has_pdf_parse                59887 non-null  bool   \n",
      " 16  has_pmc_xml_parse            59887 non-null  bool   \n",
      " 17  full_text_file               51426 non-null  object \n",
      " 18  url                          59447 non-null  object \n",
      "dtypes: bool(2), float64(2), object(15)\n",
      "memory usage: 4.5+ MB\n"
     ]
    }
   ],
   "source": [
    "metadata.info()"
   ]
  },
  {
   "cell_type": "code",
   "execution_count": 7,
   "metadata": {},
   "outputs": [
    {
     "name": "stdout",
     "output_type": "stream",
     "text": [
      "Clinical Infectious Diseases\n"
     ]
    }
   ],
   "source": [
    "print(metadata['journal'][898])"
   ]
  },
  {
   "cell_type": "markdown",
   "metadata": {},
   "source": [
    "## Data Types"
   ]
  },
  {
   "cell_type": "code",
   "execution_count": 8,
   "metadata": {},
   "outputs": [
    {
     "name": "stdout",
     "output_type": "stream",
     "text": [
      "cord_uid                        object\n",
      "sha                             object\n",
      "source_x                        object\n",
      "title                           object\n",
      "doi                             object\n",
      "pmcid                           object\n",
      "pubmed_id                      float64\n",
      "license                         object\n",
      "abstract                        object\n",
      "publish_time                    object\n",
      "authors                         object\n",
      "journal                         object\n",
      "Microsoft Academic Paper ID    float64\n",
      "WHO #Covidence                  object\n",
      "arxiv_id                        object\n",
      "has_pdf_parse                     bool\n",
      "has_pmc_xml_parse                 bool\n",
      "full_text_file                  object\n",
      "url                             object\n",
      "dtype: object\n"
     ]
    }
   ],
   "source": [
    "print(metadata.dtypes)"
   ]
  },
  {
   "cell_type": "markdown",
   "metadata": {},
   "source": [
    "## Columns"
   ]
  },
  {
   "cell_type": "code",
   "execution_count": 9,
   "metadata": {},
   "outputs": [
    {
     "name": "stdout",
     "output_type": "stream",
     "text": [
      "Index(['cord_uid', 'sha', 'source_x', 'title', 'doi', 'pmcid', 'pubmed_id',\n",
      "       'license', 'abstract', 'publish_time', 'authors', 'journal',\n",
      "       'Microsoft Academic Paper ID', 'WHO #Covidence', 'arxiv_id',\n",
      "       'has_pdf_parse', 'has_pmc_xml_parse', 'full_text_file', 'url'],\n",
      "      dtype='object')\n"
     ]
    }
   ],
   "source": [
    "print(metadata.columns)"
   ]
  },
  {
   "cell_type": "markdown",
   "metadata": {},
   "source": [
    "## Descriptive Statistics"
   ]
  },
  {
   "cell_type": "code",
   "execution_count": 10,
   "metadata": {},
   "outputs": [
    {
     "data": {
      "text/html": [
       "<div>\n",
       "<style scoped>\n",
       "    .dataframe tbody tr th:only-of-type {\n",
       "        vertical-align: middle;\n",
       "    }\n",
       "\n",
       "    .dataframe tbody tr th {\n",
       "        vertical-align: top;\n",
       "    }\n",
       "\n",
       "    .dataframe thead th {\n",
       "        text-align: right;\n",
       "    }\n",
       "</style>\n",
       "<table border=\"1\" class=\"dataframe\">\n",
       "  <thead>\n",
       "    <tr style=\"text-align: right;\">\n",
       "      <th></th>\n",
       "      <th>pubmed_id</th>\n",
       "      <th>Microsoft Academic Paper ID</th>\n",
       "    </tr>\n",
       "  </thead>\n",
       "  <tbody>\n",
       "    <tr>\n",
       "      <th>count</th>\n",
       "      <td>4.132800e+04</td>\n",
       "      <td>9.640000e+02</td>\n",
       "    </tr>\n",
       "    <tr>\n",
       "      <th>mean</th>\n",
       "      <td>2.221192e+07</td>\n",
       "      <td>2.709918e+09</td>\n",
       "    </tr>\n",
       "    <tr>\n",
       "      <th>std</th>\n",
       "      <td>7.660752e+06</td>\n",
       "      <td>4.839708e+08</td>\n",
       "    </tr>\n",
       "    <tr>\n",
       "      <th>min</th>\n",
       "      <td>2.142000e+03</td>\n",
       "      <td>3.912630e+07</td>\n",
       "    </tr>\n",
       "    <tr>\n",
       "      <th>25%</th>\n",
       "      <td>1.752223e+07</td>\n",
       "      <td>2.393002e+09</td>\n",
       "    </tr>\n",
       "    <tr>\n",
       "      <th>50%</th>\n",
       "      <td>2.362835e+07</td>\n",
       "      <td>3.003251e+09</td>\n",
       "    </tr>\n",
       "    <tr>\n",
       "      <th>75%</th>\n",
       "      <td>2.834866e+07</td>\n",
       "      <td>3.005639e+09</td>\n",
       "    </tr>\n",
       "    <tr>\n",
       "      <th>max</th>\n",
       "      <td>3.233575e+07</td>\n",
       "      <td>3.006672e+09</td>\n",
       "    </tr>\n",
       "  </tbody>\n",
       "</table>\n",
       "</div>"
      ],
      "text/plain": [
       "          pubmed_id  Microsoft Academic Paper ID\n",
       "count  4.132800e+04                 9.640000e+02\n",
       "mean   2.221192e+07                 2.709918e+09\n",
       "std    7.660752e+06                 4.839708e+08\n",
       "min    2.142000e+03                 3.912630e+07\n",
       "25%    1.752223e+07                 2.393002e+09\n",
       "50%    2.362835e+07                 3.003251e+09\n",
       "75%    2.834866e+07                 3.005639e+09\n",
       "max    3.233575e+07                 3.006672e+09"
      ]
     },
     "execution_count": 10,
     "metadata": {},
     "output_type": "execute_result"
    }
   ],
   "source": [
    "metadata.describe()"
   ]
  },
  {
   "cell_type": "code",
   "execution_count": 11,
   "metadata": {},
   "outputs": [
    {
     "data": {
      "text/html": [
       "<div>\n",
       "<style scoped>\n",
       "    .dataframe tbody tr th:only-of-type {\n",
       "        vertical-align: middle;\n",
       "    }\n",
       "\n",
       "    .dataframe tbody tr th {\n",
       "        vertical-align: top;\n",
       "    }\n",
       "\n",
       "    .dataframe thead th {\n",
       "        text-align: right;\n",
       "    }\n",
       "</style>\n",
       "<table border=\"1\" class=\"dataframe\">\n",
       "  <thead>\n",
       "    <tr style=\"text-align: right;\">\n",
       "      <th></th>\n",
       "      <th>pubmed_id</th>\n",
       "      <th>Microsoft Academic Paper ID</th>\n",
       "      <th>has_pdf_parse</th>\n",
       "      <th>has_pmc_xml_parse</th>\n",
       "    </tr>\n",
       "  </thead>\n",
       "  <tbody>\n",
       "    <tr>\n",
       "      <th>pubmed_id</th>\n",
       "      <td>1.000000</td>\n",
       "      <td>0.090191</td>\n",
       "      <td>0.194366</td>\n",
       "      <td>0.298196</td>\n",
       "    </tr>\n",
       "    <tr>\n",
       "      <th>Microsoft Academic Paper ID</th>\n",
       "      <td>0.090191</td>\n",
       "      <td>1.000000</td>\n",
       "      <td>0.112891</td>\n",
       "      <td>0.059670</td>\n",
       "    </tr>\n",
       "    <tr>\n",
       "      <th>has_pdf_parse</th>\n",
       "      <td>0.194366</td>\n",
       "      <td>0.112891</td>\n",
       "      <td>1.000000</td>\n",
       "      <td>0.339778</td>\n",
       "    </tr>\n",
       "    <tr>\n",
       "      <th>has_pmc_xml_parse</th>\n",
       "      <td>0.298196</td>\n",
       "      <td>0.059670</td>\n",
       "      <td>0.339778</td>\n",
       "      <td>1.000000</td>\n",
       "    </tr>\n",
       "  </tbody>\n",
       "</table>\n",
       "</div>"
      ],
      "text/plain": [
       "                             pubmed_id  Microsoft Academic Paper ID  \\\n",
       "pubmed_id                     1.000000                     0.090191   \n",
       "Microsoft Academic Paper ID   0.090191                     1.000000   \n",
       "has_pdf_parse                 0.194366                     0.112891   \n",
       "has_pmc_xml_parse             0.298196                     0.059670   \n",
       "\n",
       "                             has_pdf_parse  has_pmc_xml_parse  \n",
       "pubmed_id                         0.194366           0.298196  \n",
       "Microsoft Academic Paper ID       0.112891           0.059670  \n",
       "has_pdf_parse                     1.000000           0.339778  \n",
       "has_pmc_xml_parse                 0.339778           1.000000  "
      ]
     },
     "execution_count": 11,
     "metadata": {},
     "output_type": "execute_result"
    }
   ],
   "source": [
    "metadata.corr()"
   ]
  },
  {
   "cell_type": "code",
   "execution_count": 12,
   "metadata": {},
   "outputs": [
    {
     "data": {
      "image/png": "[encoded data removed]",
      "text/plain": [
       "<Figure size 432x288 with 2 Axes>"
      ]
     },
     "metadata": {
      "needs_background": "light"
     },
     "output_type": "display_data"
    }
   ],
   "source": [
    "sns.heatmap(metadata.corr())\n",
    "plt.show()"
   ]
  },
  {
   "cell_type": "markdown",
   "metadata": {},
   "source": [
    "## Data Cleaning "
   ]
  },
  {
   "cell_type": "code",
   "execution_count": 13,
   "metadata": {},
   "outputs": [
    {
     "name": "stdout",
     "output_type": "stream",
     "text": [
      "cord_uid                           0\n",
      "sha                            14124\n",
      "source_x                           0\n",
      "title                            163\n",
      "doi                             4086\n",
      "pmcid                          11748\n",
      "pubmed_id                      18559\n",
      "license                            0\n",
      "abstract                       11130\n",
      "publish_time                       8\n",
      "authors                         2591\n",
      "journal                         7059\n",
      "Microsoft Academic Paper ID    58923\n",
      "WHO #Covidence                 58119\n",
      "arxiv_id                       59211\n",
      "has_pdf_parse                      0\n",
      "has_pmc_xml_parse                  0\n",
      "full_text_file                  8461\n",
      "url                              440\n",
      "dtype: int64\n"
     ]
    }
   ],
   "source": [
    "print(metadata.isnull().sum())\n",
    "# we use this to check the column that occupies non value"
   ]
  },
  {
   "cell_type": "code",
   "execution_count": 14,
   "metadata": {},
   "outputs": [
    {
     "data": {
      "image/png": "[encoded data removed]",
      "text/plain": [
       "<Figure size 432x288 with 1 Axes>"
      ]
     },
     "metadata": {
      "needs_background": "light"
     },
     "output_type": "display_data"
    }
   ],
   "source": [
    "sns.heatmap(metadata.isnull(),yticklabels=False,cmap='viridis',cbar=False)\n",
    "# The visuals of the checking of non values in a column \n",
    "plt.show()"
   ]
  },
  {
   "cell_type": "markdown",
   "metadata": {},
   "source": [
    "###### In the look of the visual  above some of the columns have non values mostly"
   ]
  },
  {
   "cell_type": "code",
   "execution_count": 15,
   "metadata": {},
   "outputs": [],
   "source": [
    "metadata=metadata.drop(['Microsoft Academic Paper ID',\n",
    "'WHO #Covidence','arxiv_id','pubmed_id','sha','pmcid','doi'],axis=1)\n",
    "# so we delist them by using this code"
   ]
  },
  {
   "cell_type": "code",
   "execution_count": 16,
   "metadata": {},
   "outputs": [
    {
     "data": {
      "image/png": "[encoded data removed]",
      "text/plain": [
       "<Figure size 432x288 with 1 Axes>"
      ]
     },
     "metadata": {
      "needs_background": "light"
     },
     "output_type": "display_data"
    }
   ],
   "source": [
    "# So let recheck \n",
    "sns.heatmap(metadata.isnull(),yticklabels=False,cmap='viridis',cbar=False) \n",
    "plt.show()"
   ]
  },
  {
   "cell_type": "code",
   "execution_count": 17,
   "metadata": {},
   "outputs": [],
   "source": [
    "metadata['abstract'].fillna(value='-',inplace=True)\n",
    "# we use this code to fill the non values in abstract column to -"
   ]
  },
  {
   "cell_type": "code",
   "execution_count": 18,
   "metadata": {},
   "outputs": [
    {
     "data": {
      "text/plain": [
       "Journal of Virology                           1753\n",
       "PLoS One                                      1576\n",
       "Virology                                       937\n",
       "Emerg Infect Dis                               749\n",
       "The Lancet                                     688\n",
       "                                              ... \n",
       "Technovation                                     1\n",
       "International Security in the Asia-Pacific       1\n",
       "PM R                                             1\n",
       "Textbook of Membrane Biology                     1\n",
       "European Journal of Rheumatology                 1\n",
       "Name: journal, Length: 6928, dtype: int64"
      ]
     },
     "execution_count": 18,
     "metadata": {},
     "output_type": "execute_result"
    }
   ],
   "source": [
    "metadata['journal'].value_counts()"
   ]
  },
  {
   "cell_type": "code",
   "execution_count": 19,
   "metadata": {},
   "outputs": [
    {
     "name": "stdout",
     "output_type": "stream",
     "text": [
      "custom_license        35614\n",
      "comm_use_subset        9593\n",
      "biorxiv_medrxiv        3073\n",
      "noncomm_use_subset     2365\n",
      "arxiv                   781\n",
      "Name: full_text_file, dtype: int64\n"
     ]
    }
   ],
   "source": [
    "print(metadata['full_text_file'].value_counts())"
   ]
  },
  {
   "cell_type": "code",
   "execution_count": 20,
   "metadata": {},
   "outputs": [],
   "source": [
    "metadata['full_text_file'].fillna(value='custom_license',inplace=True)\n",
    "# we use this code to fill the non values in authors column to -"
   ]
  },
  {
   "cell_type": "code",
   "execution_count": 21,
   "metadata": {},
   "outputs": [
    {
     "data": {
      "image/png": "[encoded data removed]",
      "text/plain": [
       "<Figure size 432x288 with 1 Axes>"
      ]
     },
     "metadata": {
      "needs_background": "light"
     },
     "output_type": "display_data"
    }
   ],
   "source": [
    "# So let recheck again\n",
    "sns.heatmap(metadata.isnull(),yticklabels=False,cmap='viridis',cbar=False) \n",
    "plt.show()"
   ]
  },
  {
   "cell_type": "markdown",
   "metadata": {},
   "source": [
    " In the look of the visual above you can see that our data is quitely more okay now "
   ]
  },
  {
   "cell_type": "markdown",
   "metadata": {},
   "source": [
    "## Changing of Variables where neccessary"
   ]
  },
  {
   "cell_type": "code",
   "execution_count": 22,
   "metadata": {},
   "outputs": [
    {
     "name": "stdout",
     "output_type": "stream",
     "text": [
      "2020          591\n",
      "2006-12-31    372\n",
      "2020-04-17    346\n",
      "2020-03-31    337\n",
      "2016-12-31    315\n",
      "Name: publish_time, dtype: int64\n"
     ]
    }
   ],
   "source": [
    "print(metadata['publish_time'].value_counts().head())"
   ]
  },
  {
   "cell_type": "code",
   "execution_count": 23,
   "metadata": {},
   "outputs": [],
   "source": [
    "metadata['publish_time']=pd.to_datetime(metadata['publish_time'],dayfirst=True,errors='coerce')\n",
    "# we use this code to change publish_time that is in object datatype to datetime datatype"
   ]
  },
  {
   "cell_type": "code",
   "execution_count": 24,
   "metadata": {},
   "outputs": [
    {
     "name": "stdout",
     "output_type": "stream",
     "text": [
      "2020-01-01    627\n",
      "2006-12-31    372\n",
      "2020-04-17    346\n",
      "2020-03-31    337\n",
      "2016-12-31    315\n",
      "Name: publish_time, dtype: int64\n"
     ]
    }
   ],
   "source": [
    "print(metadata['publish_time'].value_counts().head())"
   ]
  },
  {
   "cell_type": "code",
   "execution_count": 25,
   "metadata": {},
   "outputs": [
    {
     "name": "stdout",
     "output_type": "stream",
     "text": [
      "1951-03-01 00:00:00\n"
     ]
    }
   ],
   "source": [
    "print(metadata['publish_time'].min())"
   ]
  },
  {
   "cell_type": "code",
   "execution_count": 26,
   "metadata": {},
   "outputs": [
    {
     "name": "stdout",
     "output_type": "stream",
     "text": [
      "2021-12-31 00:00:00\n"
     ]
    }
   ],
   "source": [
    "print(metadata['publish_time'].max())"
   ]
  },
  {
   "cell_type": "markdown",
   "metadata": {},
   "source": [
    "# Data Exploration"
   ]
  },
  {
   "cell_type": "code",
   "execution_count": 27,
   "metadata": {},
   "outputs": [
    {
     "name": "stdout",
     "output_type": "stream",
     "text": [
      "cord_uid                                                      ymceytj3\n",
      "source_x                                                           PMC\n",
      "title                Crystal structure of murine sCEACAM1a[1,4]: a ...\n",
      "license                                                            unk\n",
      "abstract             CEACAM1 is a member of the carcinoembryonic an...\n",
      "publish_time                                       2002-05-01 00:00:00\n",
      "authors              Tan, Kemin; Zelus, Bruce D.; Meijers, Rob; Liu...\n",
      "journal                                               The EMBO Journal\n",
      "has_pdf_parse                                                     True\n",
      "has_pmc_xml_parse                                                 True\n",
      "full_text_file                                          custom_license\n",
      "url                  http://europepmc.org/articles/pmc125375?pdf=re...\n",
      "Name: 1, dtype: object\n"
     ]
    }
   ],
   "source": [
    "print(metadata.loc[1])\n",
    "# we used this to check the information of the first person"
   ]
  },
  {
   "cell_type": "code",
   "execution_count": 28,
   "metadata": {},
   "outputs": [
    {
     "data": {
      "text/plain": [
       "Journal of Virology                           1753\n",
       "PLoS One                                      1576\n",
       "Virology                                       937\n",
       "Emerg Infect Dis                               749\n",
       "The Lancet                                     688\n",
       "                                              ... \n",
       "Technovation                                     1\n",
       "International Security in the Asia-Pacific       1\n",
       "PM R                                             1\n",
       "Textbook of Membrane Biology                     1\n",
       "European Journal of Rheumatology                 1\n",
       "Name: journal, Length: 6928, dtype: int64"
      ]
     },
     "execution_count": 28,
     "metadata": {},
     "output_type": "execute_result"
    }
   ],
   "source": [
    "metadata['journal'].value_counts()\n",
    "# we used this code to check the full abstract column of number 1"
   ]
  },
  {
   "cell_type": "code",
   "execution_count": 29,
   "metadata": {},
   "outputs": [
    {
     "name": "stdout",
     "output_type": "stream",
     "text": [
      "A1 Pirfenidone inhibits TGF-b1-induced extracellular matrix production in nasal polyp-derived fibroblasts Jae-Min Shin, Heung-Man Lee, Il-Ho Park A2 The efficacy of a 2-week course of oral steroid in the treatment of chronic spontaneous urticaria refractory to antihistamines Hyun-Sun Yoon, Gyeong Yul Park A3 The altered distribution of follicular t helper cells may predict a more pronounced clinical course of primary sjögren’s syndrome Margit Zeher A4 Betamethasone suppresses Th2 cell development induced by langerhans cell like dendritic cells Katsuhiko Matsui, Saki Tamai, Reiko Ikeda A5 An evaluation of variousallergens in cases of allergic bronchial asthma at lucknow and neighbouring districts by intradermal skintest Drsushil Suri, Dranu Suri A6 Evaluation ferqency of ADHD in childhood asthma Marzieh Heidarzadeh Arani A7 Steven johnson syndrome caused by typhoid fever in a child Azwin Lubis, Anang Endaryanto A8 Chronic Bronchitis with Radio Contrast Media Hypersensitivity: A Case with Hypothesized GINA Step 1 Asthma Shinichiro Koga A9 The association between asthma and depression in Korean adult : An analysis of the fifth korea national health and nutrition examination survey (2010-2012) Lee Ju Suk A10 Management of allergic disease exacerbations in pregnancy Yasunobu Tsuzuki A11 Subcutaneous immunotherapy mouse model for atopic dermatitis Seo Hyeong Kim, Jung U Shin, Ji Yeon Noh, Shan Jin, Shan Jin, Hemin Lee, Jungsoo Lee, Chang Ook Park, Kwang Hoon Lee, Kwang Hoon Lee A12 Atopic disease and/or atopy are risk factors for local anesthetic allergy in patients with history of hypersensitivity reactions to drugs? Fatma Merve Tepetam A13 Food hypersensitivity in patients with atopic dermatitis in Korea Chun Wook Park, Jee Hee Son, Soo Ick Cho, Yong Se Cho, Yun Sun Byun, Yoon Seok Yang, Bo Young Chung, Hye One Kim, Hee Jin Cho A14 Anaphylaxis caused by an ant (Brachyponera chinensis) in Japan Yoshinori Katada, Toshio Tanaka, Akihiko Nakabayashi, Koji Nishida, Kenichi Aoyagi, Yuki Tsukamoto, Kazushi Konma, Motoo Matsuura, Jung-Won Park, Yoshinori Harada, Kyoung Yong Jeong, Akiko Yura, Maiko Yoshimura A15 Anti-allergic effect of anti-IL-33 by suppression of immunoglobulin light chain and inducible nitric oxide synthase Tae-Suk Kyung, Young Hyo Kim, Chang-Shin Park, Tae Young Jang, Min-Jeong Heo, Ah-Yeoun Jung, Seung-Chan Yang A16 Food hypersensitivity in patients with chronic urticaria in Korea Hye One Kim, Yong Se Cho, Yun Sun Byun, Yoon Seok Yang, Bo Young Chung, Jee Hee Son, Chun Wook Park, Hee Jin Cho A17 Dose optimizing study of a depigmented polymerized allergen extract of phleum pollen by means of conjunctival provocation test (CPT) Angelika Sager, Oliver Pfaar A18 Correlation of cutaneous sensitivity and cytokine response in children with asthma Amit Agarwal, Meenu Singh, Bishnupda Chatterjee, Anil Chauhan A19 Colabomycin E, a Streptomycete-Derived Secondary Metabolite, Inhibits Proinflammatory Cytokines in Human Monocytes/Macrophages Ilja Striz, Eva Cecrdlova, Katerina Petrickova, Libor Kolesar, Alena Sekerkova, Veronika Svachova, Miroslav Petricek A20 Intravenous immunoglobluin treatment in a child with resistant atopic dermatitis: A brief review on this therapeutic regimen Hyuck Hoon Kwon, Kyu Han Kim A21 Wheat allergy is difficult to diagnose then other food allergens Suman Kumar A22 The effects of spirulina (Arthrospira platensis) dietary supplement as an adjunct therapy for children aged 7 to 14 years old with asthma: A randomized - double blind placebo controlled clinical trial Lou Ver Leigh Arciaga Manzon, Pilar Agnes Gonzalez Andaya A23 The study about cause and clinicopathological findings of injection induced dermatitis Bark-Lynn Lew, Youngjun Oh, Dongwoo Suh, Woo-Young Sim A24 IgE reactivity of recombinant allergen pac c 3 of the Asian needle ant pachycondyla chinensis Kyoung Yong Jeong, Myung-Hee Yi, Mina Son, Dongpyo Lyu, Jae-Hyun Lee, Tai-Soon Yong, Chein-Soo Hong, Jung-Won Park A25 Characterization of specific IgE antibody related to antigen 5 of echinococcus granulosus Mohammadreza Siavashi A26 Development of binary forecast model of asthma exacerbation: Asthma index Hey Suk Yun, Ha-Na Kang, Jae-Won Oh, Young Jin Choi A27 Different levels in rantes, IL-5 and TNF-á between the nasal polyps of adolescents with allergic, local allergic and non-allergic rhinitis Ha-Na Kang, Jae-Won Oh, Young Jin Choi A28 Tgfβ1 level is associated with VDR gene polymorphism in children with allergy diseases Tatiana Sentsova, Ilya Vorozhko, Olga Chernyak, Vera Revyakina, Anna Timopheeva, Andrey Donnikov A29 Dynamics of immunological biomarkers in children with food allergy fed goat milk formula Tatiana Sentsova, Ilya Vorozhko, Olga Chernyak, Vera Revyakina, Anna Timopheeva A30 Association between obesity, abdominal obesity and adiposity and the prevalence of atopic dermatitis in young Korean adults: The korea national health and nutrition examination survey, 2008–2010 Ji Hyun Lee, Young Min Park, Sang Soo Choi, Kyung Do Han, Han Mi Jung, Young Hoon Youn, Jun Young Lee, Yong Gyu Park, Seung-Hwan Lee A31 Associations of natural history and environmental factors with asthma among children in rural and urban areas of guangdong, China Zhaowei Yang, Jing Li, Mulin Feng, Marjut Roponen, Bianca Schaub, Gary WK Wong A32 The effect of CO2-enriched atmospheres to producing of allergenic pollen by ragweed Young Jin Choi, Ha-Na Kang, Jae-Won Oh A33 Application evaluation of house dust mite and components specific-IgE and IgG4 in specific immunotherapy with allergic diseases Baoqing Sun, Peiyan Zheng A34 Effect of Asian dust events on asthma according to the socioeconomic status using claim data in KOREA Yoon-Sung Park A35 TSLP downregulates human â-defensin 2 through STAT3-dependent pathway in keratinocytes Sang Wook Son A36 Effects of anti-IgE on IL-4, IL-5, IL-17, and CD19,20,200 in a case of netherton syndrome (SPINK5 mutation) Arzu Didem Yalcin, Sukran Kose, Kemal Kiraz A37 Augmentation of arginase 1 expression exacerbates airway inflammation in murine asthma models Jin-Young Lee, Sehyo Yune, Jae-Won Paeng, Mi-Jung Oh, Byung-Jae Lee, Dong-Chull Choi, Young Hee Lim, Kyoung Won Ha A38 Caregivers of children with no food allergy – their experiences and perception of the condition Kiwako Yamamoto-Hanada, Masami Narita, Masaki Futamura, Yukihiro Ohya A39 Evaluation of Drug Provocation Tests in Korean Children: A Single Center Experience Jihyun Kim, Jinwha Choi, Kwanghoon Kim, Jaehee Choi, Kangmo Ahn A40 Danyoung classification 2015 update by digital HD endoscopic evaluation SUN-HO/Brian Chang A41 Effect on quality of life of the mixed house dust mite/weed pollen extract immunotherapy in polysensitized patients Lisha Li A42 Ambient desert dust and allergic symptoms: A time series analysis from a national birth cohort (JECS) Kumiko Tsuji Kanatani, Yu-Ichi Adachi A43 Individuals Allergic to Cow’s Milk Should be Vigilant When Consuming Beef Because It May be Injected Beef Shigeyuki Narabayashi, Ikuo Okafuji, Yuya Tanaka, Satoru Tsuruta, Nobue Takamatsu A44 Quality of life of chronic rhinosinusitis patients with or without nasal polyps in Korea Soo Whan Kim, Do Hyun Kim A45 House dust mite sensitization and exacerbation of asthma in the fall in children Jong-Seo Yoon, Jin Tack Kim, Hwan Soo Kim, Yoon Hong Chun, Hyun Hee Kim, Sul Mui Won A46 Evidence-based health advice for childhood eczema and household pets Kam Lun E. Hon, Chung Mo Chow, Ting Fan Leung A47 Relationship between allergic rhinitis and mental health in korea Do Hyun Kim, Soo Whan Kim A48 Oscillometric bronchodilator response in 3 to 5 years old healthy and asthmatic Filipino children Gemmalyn Esguerra, Emily Resurreccion, Kristine Elisa Kionisala, Jenni Rose Dela Cruz A49 The use of aeroallergen immunotherapy to treat eosinophilic esophagitis Muhammad Imran A50 A study of the eczema herpeticum in Korean Yun Seon Choe, Kyu Han Kim, Mira Choi A51 Specific sublingual immunotherapy in Korean patients with atopic dermatitis Byung Soo Kim, Hyun-Joo Lee, Jeong-Min Kim, Jeong-Min Kim, Gun-Wook Kim, Je-Ho Mun, Je-Ho Mun, Hoon-Soo Kim, Margaret Song, Hyun-Chang Ko, Hyun-Chang Ko, Moon-Bum Kim A52 Association between polymorphisms in bitter taste receptors genes and clinical features in Korean asthmatics Sun-Young Yoon A53 Effect of glycosides based standardized fenugreek seed extract in bleomycin-induced pulmonary fibrosis in rats Amit Kandhare A54 A kampo formula, ogi-kenchu-to, decreases side-effects of steroid ointment for infantile atopic dermatitis: Three cases report Noriko Yahiro A55 To test use of jet nebulizers NE-C802 as a drug delivery system in the children with asthma Amit Agarwal, Meenu Singh, Jasleen Kaur, Ruby Pawankar, Pankaj Pant, Sukhmanjeet Singh A56 Immunoglobulin e to allergen components of house dust mite in Korean children with allergic disease Hwan Soo Kim, Jong-Seo Yoon, Sul Mui Won, Yoon Hong Chun, Jin Tack Kim, Hyun Hee Kim A57 Effectiveness of premedication and rapid desensitization in hypersensitivity to l-asparaginase Hwan Soo Kim, Sul Mui Won, Yoon Hong Chun, Jong-Seo Yoon, Hyun Hee Kim, Jin Tack Kim A58 Angioedema with Eosinophilia: The First Report from Thailand Thatchai Kampitak A59 Evaluation of anti-pruritic and anti-inflammatory effects of Korean red ginseng extract on atopic dermatitis murine model So Min Kim, Hyun Joo Lee, Hei Sung Kim, Jeong Deuk Lee, Sang Hyun Cho A60 Subcutaneous autologous serum therapy in chronic urticaria Kiran Godse A61 Allergic bronchopulmonary aspergillosis in asthma and lung tuberculosis Juwita Soekarno, Sarie Ratnasari, E. Alwi Datau, Eko Surachmanto, JC Matheos A62 Infantile eczema is associated with campylobacter and roseburia subpopulations but not microbial diversity in stool samples of Chinese newborns Ting Fan Leung, Jamie Sui-Lam Kwok, Christine Kit-Ching Tung, Man Fung Tang, Stephen Kwok-Wing Tsui, Gary WK Wong, Kam Lun Ellis Hon, Wing Hung Tam, Hing Yee Sy A63 Association between serum chitinase level and toll-like receptor polymorphisms in bakery workers Sohee Lee A64 IFN-gamma contributes to nasal polypogenesis by inducing epithelial-to-mesenchymal transition via non-smad pathway Hyun-Woo Shin, Mingyu Lee, Dae Woo Kim, Roza Khalmuratova A65 Management and education status of anaphylaxis patients who visit our emergency room (ER) Mi Yeoung Kim, Jaewon Jeong, Chansun Park A66 Hypoallergen-Encoding DNA Plasmids As Immunoprophylactic Vaccines of Shrimp Tropomyosin Hypersensitivity Christine Yee Yan Wai, Patrick S.C. Leung, Nicki Y.H. Leung, Ka Hou Chu A67 The relationship between sputum pentraxin 3 levels and childhood asthma Hee Seon Lee, Kyung Eun Lee, Jung Yeon Hong, Mi Na Kim, Min Jung Kim, Yoon Hee Kim, In Suk Sol, Seo Hee Yoon, Kyung Won Kim, Myung Hyun Sohn, Kyu-Earn Kim A68 The role of local antibody responses in the nasal inflammation of allergic rhinitis (AR) patients Ji Hye Kim, Hae-Sim Park, Yoo Seob Shin, Young Min Ye, Daehong Seo, Moon Gyeong Yoon, Young Mok Lee A69 A case of ofloxacin-induced anaphylaxis by non-IgE, but specific IgG4-mediated responses Daehong Seo, Ji Hye Kim, Young-Mok Lee, Young Min Ye, Hae-Sim Park A70 Serum LTE4 metabolite as a biomarker for aspirin exacerbated respiratory disease Ga Young Ban, Kumsun Cho, Seung-Hyun Kim, Yong Eun Kwon, Moon Gyeong Yoon, Ji Hye Kim, Yoo Seob Shin, Young Min Ye, Dong-Ho Nahm, Hae-Sim Park A71 Local and systemic reactions of dust mite subcutaneous immunotherapy (SCIT) among children in a tertiary care hospital Pilar Agnes Gonzalez Andaya A72 Effects of carboxymethyl glucan (CM-glucan) in children with allergic rhinitis and asthma: A randomized controlled trial Pilar Agnes Gonzalez Andaya A73 Autophagy mechanisms in patients with severe asthma: A new therapeutic target Ga Young Ban, Chang Gyu Jung, Seung-Ihm Lee, Duy Le Pham, Dong-Hyeon Suh, Eun-Mi Yang, Young Min Ye, Yoo Seob Shin, Hae-Sim Park A74 Aggravation of airway inflammation and hypperresponsiveness following nasal challenge with dermatophagoides pteronyssinus in perennial allergic rhinitis patients without symptoms of asthma Wan Jun Wang, MO Xian, Yan Qing Xie, Jing Ping Zheng, Jing Li A75 Serum 25-hydroxyvitamin d in early childhood is non-linearly associated with allergy Emma Merike Savilahti, Outi Mäkitie, Anna Kaarina Kukkonen, Sture Andersson, Heli Viljakainen, Erkki Savilahti, Mikael Kuitunen A76 Fric test in dermographism Kiran Godse A77 Neutrophil autophagy and extracellular trap could contribute to asthma severity Duy Le Pham, Ga Young Ban, Seung-Hyun Kim, Eun-Mi Yang, Hae-Sim Park, Ji-Ho Lee, Yong-Joon Chwae A78 Redox Modulation for the Treatment of Toluene Diisocyanates-Induced Lung Inflammation Li-Ming Chin, Chi-Chang Shieh A79 A case of occupational asthma and rhinitis with anaphylaxis to Korean ginseng and sanyak Ji Hye Kim, Hye-Soo Yoo, Moon Gyeong Yoon, Ga Young Ban, Ga Young Ban, Yoo Seob Shin, Young Min Ye, Hae-Sim Park A80 Factors of influencing epidermal permeability barrier defects in atopic dermatitis children Myong Soon Sung, Jin Uck Choi, Sung Won Kim, Yong Jin Hwang A81 Innate type 2 response to aspergillusfumigatus in a murine model of atopic dermatitis-like skin inflammation Arum Park, Eun Lee, Song-I Yang, Hyun-Ju Cho, Jinho Yu A82 Activin a receptor 1C may implicate in the development of sensitive skin Dong Hun Lee, Eun Ju Kim, Yeon Kyung Kim, Eun Jin Doh, Hee Chul Eun, Jin Ho Chung, Young Mee Lee, Seon Pil Jin A83 Genetic association and eQTL analyses of genes associated with allergy in atopic/non-atopic asthma Xingnan Li, Naftali Kaminski, Sally Wenzel, Eugene Bleecker, Deborah Meyers A84 Gastroscope feature and clinical characteristics in 172 cases of children with henoch-schonlein purpura Zeng Huasong A85 The role of TRPV1 in CD4+ t cell mediated inflammatory response of allergic rhinitis Ji-Hun Mo, Ramachandran Samivel, Eun-Hee Kim, Ji-Hye Kim, Jun-Sang Bae, Young-Jun Chung, Dae Woo Kim A86 A Phenotype of Rhinitis from School Children Is Associated with the Development of Bronchial Hyperresponsiveness Eun Lee, Si Hyeon Lee, Young-Ho Kim, Hyun-Ju Cho, Ho-Sung Yu, Mi-Jin Kang, Song-I Yang, Young-Ho Jung, Hyung Young Kim, Ju-Hee Seo, Byoung-Ju Kim, Hyo-Bin Kim, So-Yeon Lee, Ho-Jang Kwon, Soo-Jong Hong A87 Increased basal activation status was noted in adult anaphylaxis patients Sailesh Palikhe, Hae-Sim Park, Seung-Hyun Kim, Ji Hye Kim, Eun-Mi Yang A88 Clinical values of interferon-gamma enzyme-linked immunospot assays for management of antibiotic hypersensitivity in hospitalized patients Suda Sibunruang, Jettanong Klaewsongkram A89 VDR gene polymorphism and 25-hydroxy vitamin d levels in children with food allergy Tatiana Sentsova, Ilya Vorozhko, Anna Timopheeva, Olga Chernyak, Vera Revyakina, Andrey Sokolnikov A90 An analysis of 145 oral almond challenge tests Makoto Nisihino, Yu Okada, Noriyuki Yanagida, Motohiro Ebisawa, Sakura Sato, Kiyotake Ogura, Tomoyuki Asaumi, Kenichi Nagakura, Tetsuharu Manabe, Hirotoshi Unno A91 Effect of creatine supplementation in fish allergenic potential; A proteomics study Pedro M Rodrigues, Denise Schrama, Gadija Mohamed, Lizex Hüsselmann, Lizex Hüsselmann, Bongani Ndimba A92 Flagellin modulates the function of invariant NKT cells via dendritic cells in asthma patients Jae-Uoong Shim, Young Il Koh, Joon Haeng Rhee, Ji-Ung Jeong A93 Clinical and subclinical manifestations of allopurinol – induced severe cutaneous adverse reactions in Vietnam Dinh Van Nguyen, Hieu Chi Chu, Mui Thi Tran, Christopher Vidal, Suran Fernando, Sheryl Van Nunen, Sy Van Than A94 Time course of serum inhibitory activity for facilitated allergen-IgE binding during house dust mite immunotherapy Mulin Feng, Jing Li A95 Periostin is a novel biomarker in eosinophilic nasal polyps of chronic rhinosinusitis Dong-Kyu Kim, Seung-No Hong, Kyoung Mi Eun, Hong Ryul Jin, Dae Woo Kim A96 Dominance of Th1-response in children with refractory mycoplasma pneumoniae pneumonia Jun Bao, Yi-Xiao Bao A97 Studies on the role of CD14 polymorphism among pollen and mold induced asthmatics of kolkata, India Sanjoy Podder, Goutam Kumar, Shampa Dutta, Amlan Ghosh A98 House dust mite allergy – Indian perspective Goutam Kumar Saha, Sanjoy Podder, Salil Kumar Gupta A99 Increased expression of purinergic (P2Y12) receptor and cysteinyl leukotriene receptors in the lung tissue of a mouse model of allergic asthma Tu/Hoang Kim Trinh, Yoo Seob Shin, Hae-Sim Park, Jing-Nan Liu, Duy Le Pham A100 Autologous serum skin test in chronic idiopathic urticaria - relationship with autoimmune markers and disease severity Hyun-Chang Ko, Byung Soo Kim, Moon-Bum Kim A101 Anxiety and depression levels in severe asthma patients treated with omalizumab Ömer Özbudak, Fatih Üzer A102 Economic burden of refractory chronic spontaneous urticaria on Kuwait health system Mona Al-Ahmad, Maryam Alowayesh, Norman Carroll A103 IgE-mediated maize allergy in India: A 28 kd protein responsible for food-induced allergic reaction Anand Bahadur Singh A104 Liposomal encapsulation of house dust mite allergens and dexamethasone modulates allergic response in a murine model of asthma Yordanis Pérez-Llano, María Del Carmen Luzardo Lorenzo, Wendy Ramírez González, Carlos Calcines Cruz, Rady Laborde Quintana, Alain Morejón, Virgilio Bourg, Marilé Hechavarría Stoker A105 Immune Suppressive Effects of Tonsil-Derived Mesenchymal Stem Cells for Eosinophilic Rhinosinusitis with Nasal Polyps in a Mouse Model Jun-Sang Bae, Ramachandran Samivel, Eun-Hee Kim, Ji-Hye Kim, Ji-Hun Mo A106 Second line treatments of dermographic urticaria refractory to antihistamines Keiko Hanaoka, Michihiro Hide, Akio Tanaka, Makiko Hiragun, Mikio Kawai A107 Diagnostic Value of Specific IgE to Peanut and Ara h 2 in Korean Children with Peanut Allergy Kwanghoon Kim, Kwanghoon Kim, Hye-Young Kim, Jihyun Kim, Kangmo Ahn, Youngshin Han A108 Inappropriate amounts of topical tacrolimus applied on Korean patients with eczema Gun-Wook Kim, Hyun-Chang Ko, Byung Soo Kim, Moon-Bum Kim, Margaret Song A109 Identification of an IgG1-mediated anaphylaxis marker and its application in evaluating the antigenicity of infant formulas Takeshi Matsubara, Hiroshi Iwamoto, Yuki Nakazato, Kazuyoshi Namba, Yasuhiro Takeda A110 Nitric oxide as a screening tool for evaluation of postoperative state of chronic rhinosinusitis Jae Hoon Lee, Woo Yong Bae A111 Comparison of different medical treatment options for crswnp: Doxycycline, methylprednisolone, mepolizumab, omalizumab Els De Schryver, Lien Calus, Philippe Gevaert, Thibaut Van Zele, Claus Bachert A112 Successful treatment of steroid resistant asthma model by blocking CD28 signal Akio Mori, Satoshi Kouyama, Miyako Yamaguchi, Yo Iijima, Akemi Abe-Ohtomo, Hiroaki Hayashi, Kentaroh Watai, Chihiro Mitsui, Chiyako Oshikata, Kiyoshi Sekiya, Takahiro Tsuburai, Mamoru Ohtomo, Yuma Fukutomi, Masami Taniguchi A113 Serum periostin levels was not associated with allergic rhinitis and allergic sensitization in Korean children Ju Wan Kang, Jeong Hong Kim, Jeong Hong Kim, Keun-Hwa Lee, Hye-Sook Lee, Seong-Chul Hong, Jaechun Lee A114 Roles of ADAM10 and ADAM17 in allergic rhinitis Ji Won Seo, Jae Hoon Lee, Woo Yong Bae A115 Mechanism of oral and topical polyprenol action in atopic dermatitis Ivans Sergejs Kuznecovs, Galina Kuznecova A116 Technical and clinical validation of a mobile chamber for allergen exposure tests Karl-Christian Bergmann, Torsten Zuberbier, Joseph Salame, Torsten Sehlinger, Georg Bölke A117 The association between serum lead level and total immunoglobulin e according to allergic sensitization Yoo Suk Kim, Jung Hyun Chang, Jeong Hong Kim, Ju Wan Kang A118 Clinical and laboratory characteristics of nasal obstruction dominant allergic sensitization Seung-No Hong, Doo Hee Han, Chae-Seo Rhee A119 Nasal provocation test is useful for the diagnoses of allergic, non- allergic, and local allergic rhinitis Young-Joo Ko, Young Hyo Kim, Dae-Young Kim, Tae Young Jang A120 Aspirin facilitates the intestinal absorption and oral sensitization of food allergens in rats Tomoharu Yokooji, Taiki Hirano, Hiroaki Matsuo A121 Gestational Secondhand Smoke Exposure Could Affect Maternal n-Glycosylation and Cause Filaggrin Loss in Children with Atopic Dermatitis Galina Kuznecova, Ivans Sergejs Kuznecovs A122 Allergen specific immunotherapy in the treatment of allergic rhinitis and asthma--a randomized prospective study from kashmir valley-north of India Roohi Rasool Wani, Shafia Alam Syed, Ghulam Hassan, Ayaz Gul, Saniya Nissar, Zaffar Amin Shah A123 Sleep disorders in latin-American children with asthma and/or allergic rhinitis and normal controls Marilyn Urrutia Pereira, Carmen Fernandez, Dirceu Sole, Herberto Jose Chong Neto, Veronica Acosta, Alfonso Mario Cepeda, Mirta Alvarez Castello, Claudia Almendarez, Jose Santos Lozano Saenz, Juan C. Sisul, Nelson Rosario Filho, Antonio Castillo, Marylin Valentin Rostan, Jennifer Avila, Hector Badellino, Maria Carolina Manotas, Raúl Lázaro Castro Almarales, Mayda González León A124 Association between respiratory symptoms and exhaled nitric oxide in Afghanistan Woo Kyung Kim, Hae-Sun Yoon A125 ATP, a danger signal, activates human eosinophils via P2 purinergic receptors Takehito Kobayashi, Tooru Noguchi, Tomoyuki Soma, Kazuyuki Nakagome, Hidetomo Nakamoto, Hirohito Kita, Makoto Nagata A126 Atopic dermatitis and sleep disorders in latin American children Marilyn Urrutia Pereira, Dirceu Sole, Herberto Jose Chong Neto, Alfonso Mario Cepeda, Raúl Lázaro Castro Almarales, Juan C. Sisul, Marylin Valentin Rostan, Hector Badellino, Miguel Alejandro Medina Avalos, Antonio Castillo, Claudia Almendarez, Nelson Rosario Filho, Caridad Sanchez Silot, Jennifer Avila, Felicia Berroa Rodriguez, Jose Santos Lozano Saenz, Mirta Alvarez Castello, Carmen Fernandez A127 Der p 23: A Major House Dust Mite Allergen in Spite of Limited Release from Fecal Pellets and Prominent Protease Sensitivity Wai Tuck Soh, Alain Jacquet, Kiat Ruxrungtham, Emmanuel Nony, Maxime Le Mignon A128 Anaphylactic Reaction After Inhalation of Budesonide Mary Lee-Wong, Suzanne McClelland, Suzanne McClelland, Nanette B. Silverberg, Christian E. Song A129 Lipidomic analysis of mattress dust from urban and rural schoolchildren in China Zhaowei Yang, Jiukai Zhang, Wentao Zheng, Nanshan Zhong, Jing Li A130 Improvements in quality of life in children with allergic rhinitis after adenotonsillectomy Jung Ho Bae, Young Joo Cho, Joo Yeon Kim A131 The seasonal variation of asthma exacerbations in patients allergic to pollens in Greece Konstantinos Petalas, Dimitrios Vourdas, Christos Grigoreas A132 Whole-genome sequencing study in allergic rhinitis nuclear families Yuan Zhang A133 Effect of the production of extracellular matrix from nasal fibroblasts by eosinophils activated with airborne fungi Seung-Heon Shin, Mi-Kyung Ye, Jeong-Kyu Kim A134 The study of clinical characteristics, lung function and bronchodilator responsiveness in infants with RSV bronchiolitis Yong Feng, Yunxiao Shang A135 GIS-based association between PM10 and allergic diseases in seoul: Implication for health and environmental policy Sungchul Seo, Ji Tae Choung, Dohyeong Kim, Young Yoo, Hyunwook Lim A136 The relationship between rhinovirus and recurrent wheezing Wenjing Zhu, Chuanhe Liu, Li Sha, Li Chang, Min Zhao, Linqing Zhao, Yuan Qian, Yuzhi Chen A137 Dominancy of Staphylcoccus Aureus in the Skin of Atopic Dermatitis Patients Compared to Healthy Subjects through Metagenomic Analysis Min-Hye Kim, Young Joo Cho, Mina Rho, Jung-Won Kim, Yeon-Mi Kang, Kyung-Eun Yum, Hyeon-Il Choi, Jun-Pyo Choi, Han-Ki Park, Taek-Ki Min, Bok-Yang Pyun, Yoon-Keun Kim A138 Micronized Cellulose Powder Reduces the Dose of Locally Applied Glucocorticoids in Patients with Allergic Rhinitis Xueyan Wang A139 New strategy for atopic dermatitis therapy with modulation of calcium ion channels Woo Kyung Kim, Yu Ran Nam, Joo Hyun Nam A140 Difference in the Systemic Bacterial Composition of Atopic Dermatitis Patients Compared to Healthy Subjects through Metagenomic Analysis of Urine Jung-Won Kim, Min-Hye Kim, Mina Rho, Yeon-Mi Kang, Kyung-Eun Yum, Hyeon-Il Choi, Jun-Pyo Choi, Han-Ki Park, Taek-Ki Min, Young Joo Cho, Bok-Yang Pyun, Yoon-Keun Kim A141 Occurrence and physiological function of immune complexes of food proteins and IgA in human saliva Hiroshi Narita, Junko Hirose, Kumiko Kizu, Ayu Matsunaga A142 Association between DNA hypomethylation at IL13 gene and allergic rhinitis in house dust mite-sensitized subjects Jingyun Li, Yuan Zhang, Luo Zhang A143 Effect of dietary methyl donors on asthma and atopy is modified by MTHFR polymorphism Yean Jung Choi, Hye Lim Shin, Song-I Yang, So-Yeon Lee, Sung-Ok Kwon, Young-Ho Jung, Ji-Won Kwon, Hyung Young Kim, Ju-Hee Seo, Byoung-Ju Kim, Hyo-Bin Kim, Se-Young Oh, Ho-Jang Kwon, Eun Lee, Mi-Jin Kang, Soo-Jong Hong, Yun-Jeong Lee, Joonil Kim A144 The effect of TSLP in a murine model of allergic asthma Joon Young Choi, Ji Young Kang, Seok Chan Kim, Sei Won Kim, Seung Joon Kim, Young Kyoon Kim, Chin Kook Rhee, Hea Yon Lee, Hwa Young Lee, Sook Young Lee A145 Evaluation of Aspirin Hypersensitivity in Chronic Rhinosinusitis Patients Tae Kyung Koh, Sung Wan Kim, Kun Hee Lee, Chul Kwon, Joong-Saeng Jo, Sung-Hwa Dong, Young Seok Byun A146 Chronic cough without wheezing in young children as a manifestation of chronic sinusitis Charles Song A147 Expression of muscarinic receptors and effect of tiotropium bromide on chronic asthma according to age in a murine model Ji Young Kang, Hwa Young Lee, In Kyoung Kim, Sei Won Kim, Chin Kook Rhee, Seung Joon Kim, Seok Chan Kim, Sook Young Lee, Young Kyoon Kim, Soon Seog Kwon, Joon Young Choi A148 Discrimination between non-eosinophilic and eosinophilic chronic rhinosinusitis with nasal polyps Pona Park, Hong Ryul Jin, Dong-Kyu Kim, Dae Woo Kim A149 Significant reduction in allergic features in the offspring of mice supplemented with specific non-digestible oligosaccharides during lactation Astrid Hogenkamp A150 Allergenicity assessment of hydrolysed infant formula; A multicenter comparison of a mouse model and a Guinea pig model for cow’s milk allergy Leon Knippels, Betty C.a.m. Van Esch, Jolanda Van Bilsen, Prescilla V. Jeurink; Marjan Gros, Johan Garssen, Joost J Smit, Raymond H.H. Pieters A151 Clinical significance between the allergic test and serum eosinophil cationic protein Boo-Young Kim, Soo Whan Kim A152 Hydroclorothiazide-induced acute non-cardiogenic pulmonary edema Ramon Lleonart A153 A Synbiotic Mixture of Scgos/Lcfos and Bifidobacterium Breve M-16V Is Able to Restore the Delayed Colonization of Bifidobacterium Observed in C-Section Delivered Infants Christophe Lay, Kaouther Benamor, Chua Mei Chen, Jan Knol, Charmaine Chew, Voranush Chongsrisawat, Anne Goh, Wen Chin Chiang, Rajeshwar Rao, Surasith Chaithongwongwatthana, Nipon Khemapech A154 Atopic characteristics of patients with asthma-COPD overlap syndrome Ji Young Yhi, Sang-Heon Kim, Dong Won Park, Ji-Yong Moon, Tae Hyung Kim, Jang Won Sohn, Dong Ho Shin, Ho Joo Yoon, Seok Hyun Cho A155 Perceptions and practices of severe asthma and asthma-COPD overlap syndrome among specialists: A questionnaire survey Sang-Heon Kim, Ji-Yong Moon, Jae-Hyun Lee, Ga Young Ban, Sujeong Kim, Mi-Ae Kim, Joo-Hee Kim, Min-Hye Kim, Chan-Sun Park, Hyouk-Soo Kwon, Jae-Woo Kwon, Jae Woo Jung, Hye-Ryun Kang, Jong-Sook Park, Tae-Bum Kim, Heung Woo Park, You Sook Cho, Kwang-Ha Yoo, Yeon-Mok Oh A156 A case of surgical diagnosed eosinophilic enteritis with intussusception in adult patient Sang-Rok Lee A157 Reference values of total IgE in estonian children Kaja Julge, Maire Vasar, Tiia Voor, Tiina Rebane A158 A case of eosinophilic granulomatosis with polyangiitis accompanied by rapidly progressive glomerulonephritis Yu Jin Kim, Sang Min Lee, Shin Myung Kang, Sojeong Kim, Sun Young Kyung, Sung Hwan Jeong, Jeong-Woong Park, Hyunjung Hwang, Yong Han Seon, Sanghui Park, Sang Pyo Lee A159 Associations Between Infectious Diseases and Urticaria Marius Iordache A160 Sleep in infants in korea – finding of bisq survey Yeongsang Jeong, Sohee Eun, Byung Min Choi, Ji Tae Choung, Wonhee Seo A161 Increased Expression of Filaggrin, TSLP, Periostin, IL13 and IL-33 in Nasal Polyps Liang Zhang, Ruby Pawankar, Manabu Nonaka, Miyuki Hayashi, Shingo Yamanishi, Harumi Suzaki, Yasuhiko Itoh, So Watanabe, Hitome Kobayashi A162 Asymptomatic bacteruria increases the risk of edematous attacks in patients with hereditary angioedema due to C1 inhibitor deficency (C1-INH-HAE) Zsuzsanna Zotter, Henriette Farkas, Lilian Varga, Nora Veszeli, Eva Imreh, Gabor Kovacs, Marsel Nallbani A163 Gastric Erosions Cause Spontaneous Urticaria Independent of Helicobacter Pylori Semen Zheleznov, Galina Urzhumtseva, Natalia Petrova, Zhanna Sarsaniia, Nikolai Didkovskii, Torsten Zuberbier A164 The Effect of G2 Vaccine on the Gene Expression NKG2D and Receptor Presenting on the Surface of NK Cells in Peripheral Blood Nader Dashti Gerdabi, Ali Khodadadi, Zahra Abdoli, Mehri Ghafourian, Mohammad Ali Assarehzadegan, Khodayar Ghorban A165 Ethnic differences in lifetime prevalence and indoor environmental factors for childhood eczema Hyo-Bin Kim, Hui Zhou, Jeong Hee Kim, Rima Habre, Theresa Bastain, Frank Gilliland A166 A case of methazolamide-induced toxic epidermal necrolysis Jong-Wook Bae, Kyu-Hyung Han, Young-Koo Jee, Misoo Choi, Seung-Phil Hong, Seung-Hyun Kim A167 Inflammatory responses of human adipose-tissue derived stem cells to LPS and nanoparticles Hee-Kyoo Kim, Gil-Soon Choi, Jeonghoon Heo, Young-Ho Kim, Eun-Kee Park A168 Analysis of 71 Cashew Nut Oral Challenge Tests Takashi Inoue, Kiyotake Ogura, Noriyuki Yanagida, Hirotoshi Unno, Kenichi Nagakura, Tetsuharu Manabe, Tomoyuki Asaumi, Sakura Sato, Yu Okada, Motohiro Ebisawa A169 Fungal sensitization is associated with asthma exacerbation Min-Gu Kim, You Sook Cho, Tae-Bum Kim, Hee-Bom Moon, Jung-Hyun Kim, Hyo-Jung Kim, So-Young Park, Bomi Seo, Hyouk-Soo Kwon, Jaemoon Lee, Taehoon Lee A170 Individual therapeutic patient education and consultation in children with atopic dermatitis Hye-Soo Yoo, Jieun Kim, Inok Kim, Haejin Kim, Younhee Chang, Hae-Sim Park, Sooyoung Lee A171 Utility of Alpha-Lactalbumin Specific IgE Levels Using Immulite 2000 3gAllergy in Predicting Clinical Severity of Milk Allergy Kazuyo Kuzume, Munemitsu Koizumi, Koji Nishimura, Michiko Okamoto A172 Isoniazid/rifampicin-specific t-cell responses in patients with anti-tuberculosis –induced dress syndrome Seung-Hyun Kim, Young Min Ye, Gyu Young Hur, Hae-Sim Park, Sang-Heon Kim, Young-Koo Jee A173 Genetic biomarkers associated with aspirin-exacerbated respiratory disease (AERD) phenotype based on genome-wide association study Seung-Hyun Kim, Hyunna Choi, Young Min Ye, Hae-Sim Park A174 Assessment of ORAL drug provocation test in the diagnosis of NON-steroidal ANTI-inflammatory drugs hypersensitivity Bui VAN Khanh, Hieu Chi Chu, Nguyen Nhu Nguyet, Nguyen Hoang Phuong A175 Korean treatment guideline of atopic dermatitis Joo Young Roh, Hyun Jeong Kim, Jung Eun Kim, Bark-Lynn Lew, Kyung Ho Lee, Seung-Phil Hong, Yong Hyun Jang, Kui Young Park, Seong Jun Seo, Jung Min Bae, Eung Ho Choi, Ki Beom Suhr, Seung Chul Lee, Hyun-Chang Ko, Young Lip Park, Sang Wook Son, Young Jun Seo, Yang Won Lee, Sang Hyun Cho, Chun Wook Park A176 Systemic side reaction of subcutaneous immunotherapy(SCIT) for perennial allergic rhinitis Kun Hee Lee, Sung Wan Kim A177 Clinical baseline characteristics of Asian patients suffering from refractory chronic spontaneous urticaria (CSU) in three phase 3 omalizumab clinical trials Chia-Yu CHU, Derrick Aw, Young-Min Ye, Giovanni Bader, Fabrizio Dolfi, Nathalie Oliveira A178 A metagenomic approach through t-RFLP to the microbiome of asthma Jae Chol Choi, Jae Woo Jung, Hye-Ryun Kang, Kijeong Kim, Byoung Whui Choi A179 Clinical characteristics and ten-year trend of peripheral blood eosinophilia among health screening program recipients at a tertiary hospital of South Korea Jong Wook Shin, Jae Woo Jung, Jae Chol Choi, In Won Park, Byoung Whui Choi, Jae Yeol Kim A180 The prevalence of toxocariasis and diagnostic value of serologic tests in asymptomatic Korean adults Jin-Young Lee, Kyoung Won Ha, Yun-Jin Jeung, Sehyo Yune, Byung-Jae Lee, Dong-Chull Choi, Mi-Jung Oh, Young Hee Lim A181 Cutaneous Drug Hypersensitivity Reaction in Korean Children: An Analysis of KAERS Database on 2012-2013 Eui Jun Lee, Dongin Suh, Sung-Il Woo, Hwa Jin Cho, Eun Hee Chung, Soo Youn Chung A182 Comparison of clinical characteristics, quality of life and sleep in patients with allergic rhinitis when categorised as “sneezers and runners” and “blockers” Kamal Gera, Ashok Shah A183 Role of s-nitrosoglutathione reductase (GSNOR) in the murine strain differences of airway hyperresponsiveness Jin-Young Lee, Kyoung Won Ha, Mi-Jung Oh, Young Hee Lim, Sehyo Yune, Jae-Won Paeng, Mi-Jin Jang, Byung-Jae Lee, Dong-Chull Choi A184 Protection from airway bronchoconstriction by gsno Jin-Young Lee, Mi-Jin Jang, Jae-Won Paeng, Yun-Jin Jeung, Young Hee Lim, Mi-Jung Oh, Kyoung Won Ha, Byung-Jae Lee, Dong-Chull Choi, Sehyo Yune A185 Does EIA-targeted asthma treatment improve daily physical activity of children? Takahiro Ito A186 Wheezing as a clue to the diagnosis of cough variant asthma and nonasthmatic eosinophilic bronchitis Jihye Kim, Jin-Young Lee, Sehyo Yune, Byung-Jae Lee, Dong-Chull Choi, Mi-Jin Jang, Jae-Won Paeng, Young Eun Kim, Young Nam Kim, Yongseok Lee A187 Antagonism of microRNA-21 suppressed the airway inflammation in a mouse model of bronchial asthma Hwa Young Lee, Sook Young Lee, Soon Seog Kwon, Young Kyoon Kim, Chin Kook Rhee, Sei Won Kim, Hea Yon Lee, Joon Young Choi, In Kyoung Kim A188 Chlorhexidine anaphylaxis: A report of two cases Jose Antonio Navarro, Maria Ascension Aranzabal, Alejandro Joral, Susana Lizarza, Miguel Echenagusia, EVA Maria Lasa A189 Effects of Particulate Matter on Respiratory Allergic Diseases Considering Meteorological Factors in Busan, Korea Eun-Jung Jo, Sun-Mi Jang, Seung-Eon Song, Hae-Jung Na, Chang-Hoon Kim, Woo-Seop Lee, Hye-Kyung Park A190 Clinical characteristics of neutrophilic asthma Sachiko Miyauchi, Yoshitaka Uchida, Tomoyuki Soma, Susumu Yamazaki, Toru Noguchi, Takehito Kobayashi, Kazuyuki Nakagome, Makoto Nagata A191 Current Practice of Infants and Children with Acute Urticaria at a Single Wide Regional Emergency Medical Center Hea Lin Oh, Do Kyun Kim, Dongin Suh, Young Yull Koh A192 Discordance between sputum eosinophilia and exhaled nitric oxide Sehyo Yune, Jin-Young Lee, Byung-Jae Lee, Dong-Chull Choi, Jae-Won Paeng, Mi-Jin Jang, Jihye Kim, Young Nam Kim A193 Association between genetic polymorphisms of costimulatory molecules and antituberculosis drugs induced hepatitis Sang-Heon Kim, Sang-Hoon Kim, Jang Won Sohn, Ho Joo Yoon, Dong Ho Shin, Jae Hyung Lee, Byoung Hoon Lee, Youn-Seup Kim, Jae-Seuk Park, Young-Koo Jee A194 The prevalence of gastroesophageal reflux disease in chronic unexplained cough Sehyo Yune, Jin-Young Lee, Jae-Won Paeng, Mi-Jin Jang, Dong-Chull Choi, Byung-Jae Lee, Yongseok Lee, Young Eun Kim A195 Risk Factors of Allergic Rhinitis in Preschool Children and Clinical Utility of Feno Jisun Yoon A196 Relationship between serum 25-hydroxyvitamin d and asthma exacerbation severity in children Yong Feng, Li Zhang, Xuxu Cai A197 Usefulness of Specific IgE Antibody Levels to Wheat, Gluten and Ï-5 Gliadin for Wheat Allergy in Korean Children Jong-Seo Yoon, Kyunguk Jeong, Hye-Soo Yoo, Sooyoung Lee, Sooyoung Lee A198 Neutralization of stratum corneum accelerates the progress from atopic dermatitis to asthma-like lesion in flaky tail mice treated by house dust mite allergen Hae-Jin Lee, Noo Ri Lee, Bo-Kyung Kim, Minyoung Jung, Dong Hye Kim, Catharina S. Moniaga, Kenji Kabashima, Eung Ho Choi A199 Trends in oral food challenges in Japan: A six-year prospective study Noriyuki Yanagida, Sakura Sato, Chizuko Sugizaki, Motohiro Ebisawa A200 The Gut Microbiome in the Food Allergic Host Jamie Kiehm, Punita Ponda, Sherry Farzan, Jared Weiss, Claudia Elera, Catherine Destio, Cristina Sison, Annette Lee A201 Cord blood cytokines and maternal environmental exposure during pregnancy Soo Hyun Ri, Chang Hoon Lim A202 Rupatadine pharmacokinetics in Japanese healthy volunteers after single and repeated oral doses of 10, 20 and 40 mg Iñaki Izquierdo Pulido, Jorg Taubel, Georg Ferber, Eva Santamaria Masdeu A203 A safe and effective method to desensitize patients with wheat allergy Alireza Khayatzadeh, Masoud Movahedi, Motohiro Ebisawa, Mohammad Gharagozlou A204 RNA Binding Protein Hur Regulates CD4+ T Cell Differentiation and Is Required for Allergic Airway Inflammation and Normal IL-2 Homeostasis Ulus Atasoy, Patsharaporn Techasintana, Matt Gubin, Jacqueline Glascock, Suzanne Ridenhour, Joseph Magee A205 Time Trends in the Epidemiology of Recurrent Wheezing in Infants from South America Nelson Rosario Filho; Herberto Jose Chong Neto, Gustavo Falbo Wandalsen, Ana Caroline Dela Bianca, Carolina Aranda, Dirceu Sole, Javier Mallol, Luis Garcia-Marcos, Luis Garcia-Marcos A206 Successful Cyclophosphamide Desensitization in a Pediatric Patient with Systemic Lupus Erythematosus Jennifer Toh, Yoomie Lee, Joyce Huang, Elina Jerschow, Jenny Shliozberg A207 The Fatty Acid Binding Protein Der p 13 Is a Minor House Dust Mite Allergen Able to Activate Innate Immunity Pattraporn Satitsuksanoa, Narissara Suratannon, Jongkonnee Wongpiyabovorn, Pantipa Chatchatee, Kiat Ruxrungtham, Alain Jacquet A208 Epidemiology of Stevens-Johnson Syndrome and Toxic Epidemal Necrolysis: An Administrative Database Study Min Suk Yang; Jin Yong Lee, Ja Yeun Kim, Han-Ki Park, Ju-Young Kim, Woo-Jung Song, Hye-Ryun Kang, Heung Woo Park, Yoon-Seok Chang, Sang-Heon Cho, Kyung-up Min, Chang-Han Park, Suk-Il Chang, Sook-Hee Song A209 Regional Differences of Vitamin D and Food-Induced Anaphylaxis in Korea Si-Heon Kim, Gil-Soon Choi, Su-Chin Kim, Ji Hye Kim, Ga Young Ban, Yoo Seob Shin, Hae-Sim Park, Young Min Ye A210 Triggering Factors of Atopic Dermatitis By Severity Yoon Ha Hwang A211 Clinical Features of Adverse Drug Reactions of Monoclonal Antibodies in Korea Da Woon Sim, Kyung Hee Park, Kyung Hee Park, Hye Jung Park, Hye Jung Park, Jung-Won Park, Jung-Won Park, Jae-Hyun Lee, Jae-Hyun Lee A212 Food Allergy with Eczema Is Associated with Reduced Growth in the First Four Years of Life Katrina Allen, Cara Beck, Jennifer Koplin, Melanie Matheson, Mimi Tang, Anne-Louise Ponsonby, Lyle Gurrin, Shyamali Dharmage, Melissa Wake, Vicki Mcwilliam A213 The Preliminary Study on Clinical Efficacy and Impact Factors of One Year’s Dust Mite Specific Immunotherapy in Allergic Asthma and Rhinitis Children Sensitized to Dust Mite Xiaoying Liu, Jing Wang, Li Xiang, Qun Wang A214 Lipopolysaccharide Signaling through Toll- like Receptor 4 Could be Augmented By Dermatophagoides Farinae in the Human Middle Ear Epithelial Cell Ji-Eun Lee, Dong-Young Kim, Chae-Seo Rhee, Chae-Seo Rhee A215 Drug Allergy in Pregnant Adolescents: Relation with Familial and Personal Atopy, and Substances Use Francisco Vazquez-Nava A216 Patients and Physicians Concept of Well-Controlled Asthma: Findings from Realise Asia Sang-Heon Cho, Jaewon Jeong, Diahn-Warng Perng, David Price, Glenn Neira, Jiangtao Lin A217 The Role of Vasoactive Intestinal Peptide in the Pathophysiology of Acute Asthma Olga Semernik A218 Comparison of Serum Cytokine Levels According to the Severity in Atopic Dermatitis Ha-Su Kim, Jin-a Jung, Ji-in Jung A219 The Different Influence on the Regulatory T Cell Response Between Subcutanous Immnuotherapy(SCIT) and Sublingual Immunotherapy(SLIT) in Children with Asthma Qing Miao, Li Xiang A220 Asthma State of Affairs in Asia: Seeing through Physicians’ and Patients’ Lenses Sang-Heon Cho, Jaewon Jeong, Diahn-Warng Perng, Jiangtao Lin, David Price A221 Identification of Aspirin Exacerbated Respiratory Disease (AERD) Phenotypes Using Two Step Cluster Analysis Hyun Young Lee, Hae-Sim Park, Young Min Ye, Su Chin Kim A222 Dusty Air Pollution Are Associated with an Increase Risk of Allergic Diseases in General Population Shokrollah Farrokhi, Mohammadkazem Gheiby A223 A Genome-Wide Association Study of Antituberculosis Drugs-Induced Hepatitis Sang-Heon Kim; Heung Woo Park, Sang-Hoon Kim, Young-Koo Jee A224 The Role of peroxiredoxin6 of Bronchial Epithelial Cells in Regulating Mitochondrial Function Under Oxidative Stress By Translocation to Outside Mitochondrial Membrane Sunjoo Park, Keun Ai Moon, Hyouk-Soo Kwon, Tae-Bum Kim, You Sook Cho, Hee-Bom Moon, Kyoung Young Lee, Gyong Hwa Hong, Eun Hee Ha A225 Toxic and Adjuvant Effects of 3 Types of Silica Nanoparticles on Airway System Heejae Han, Hye Jung Park, Yoon Hee Park, Yoon-Jo Kim, Kangtaek Lee, Jung-Won Park, Jae-Hyun Lee A226 Procedure for Diagnostic and Selection of Immunotherapy Method for Children with Different Immunopathogenetic Phenotypes of Atopic Dermatitis Tatiana Slavyanskaya, Vladislava Derkach A227 Prediction of the Success of Our Desensitization Protocol with Symptoms and Results of a Skin Prick Test in Patients with Hypersensitivity to Platinum-Based Chemotherapy Hye Jung Park, Chein-Soo Hong, Jae-Hyun Lee, Jae-Hyun Lee, Sungryeol KIM, Sungryeol KIM, Kyung Hee Park, Kyung Hee Park, Choong-Kun Lee, Beodeul Kang, Seung-Hoon Beom, Sang Joon Shin, Minku Jung, Jung-Won Park, Jung-Won Park A228 Anti-Allergic Effect of Intralymphatic Injection of OVA-Flagelin Mixture in Mouse Model of Allergic Rhinitis Eun-Hee Kim, Ji-Hye Kim, Ji-Hun Mo, Young-Jun Chung A229 Serum Periostin Level Is Higher in Respiratory Type of NSAID Hypersensitivity Than Cutaneous Type Mi-Ae Kim, Hae-Sim Park, Moon Gyeong Yoon, Young-Soo Lee, Ji Hye Kim, Ga Young Ban, Hye-Soo Yoo, Yoo Seob Shin, Young Min Ye, Dong-Ho Nahm A230 A Retrospective Analysis of Allergy Blood Testing in Beijing Children’s Hospital in the Year of 2013: A Single-Center Research Qing Miao, Li Xiang A231 Role of Nrf2 in the Allergic Airway Inflammation Differ Between BALB/c and C57BL/6 Mice Ying-Ji Li, Takako Shimizu, Hirofumi Inagaki, Yukiyo Hirata, Hajime Takizawa, Arata Azuma, Masayuki Yamamoto, Tomoyuki Kawada A232 Effect of Human Mesenchymal Stem Cell on Neutrophilic Asthma Model Min-Gu Kim, Gyong Hwa Hong, Kyoung Young Lee, Eun Hee Ha, Keun Ai Moon, Sunjoo Park, Hyouk-Soo Kwon, Tae-Bum Kim, Hee-Bom Moon, You Sook Cho, Jung-Hyun Kim, Hyo-Jung Kim, So-Young Park, Bomi Seo A233 Immunomodulatory Effect of Tonsil Derived Mesenchymal Stem Cells in a Mouse Model of Allergic Rhinitis Ji-Hye Kim, Ramachandran Samivel, Eun-Hee Kim, Young-Jun Chung, Ji-Hun Mo A234 Alternative Therapy Such As Yoga May be a Low Cost Tool for Improving the Quality of Life of Patient’s with Allergic Rhinitis and Asthma Soumya M. S., G. Inbaraj, R. Chellaa, Ruby Pawankar A235 Substantial Impairment of the Quality of Life in Adult Patients with Chronic Urticaria Wonsun Choi, Hae-Sim Park, Young Min Ye, Ji Hye Kim, Ga Young Ban, Yoo-Seob Shin A236 Dietary Galacto-Oligosaccharides Reduce Airway Eosinophilia and Enhance the Th2 Suppressive Effect of Budesonide in House Dust Mite-Induced Asthma in Mice Saskia Braber, Kim Verheijden, Aletta Kraneveld, Johan Garssen, Linette Willemsen, Gert Folkerts A237 Production and Characterization of Recombinant Periplaneta americana Allergens for Component Resolved Diagnosis Stephanie Eichhorn, Fatima Ferreira, Isabel Pablos, Bianca Kastner, Bettina Schweidler, Sabrina Wildner, Peter Briza, Jung-Won Park, Naveen Arora, Stefan Vieths, Gabriele Gadermaier A238 Assessment of Characteristics of Itch in Patients with Hand Eczema Sung-Min Park, Won-Ku Lee, Jeong-Min Kim, Gun-Wook Kim, Je-Ho Mun, Hoon-Soo Kim, Margaret Song, Hyun-Chang Ko, Moon-Bum Kim, Byung Soo Kim A239 The Hidden Culprit: A Case of Repeated Anaphylaxis from Cremophor Hypersensitivity. Young Nam Kim, Sehyo Yune, Jin-Young Lee, Jihye Kim, Young Eun Kim, Jae-Won Paeng, Mi-Jin Jang, Dong-Chull Choi, Byung-Jae Lee, Yongseok Lee A240 Spectrum of Anaphylaxis in Children and Adults at Emergency Departments in Singapore Si Hui Goh, Bee Wah Lee, Jian Yi Soh A241 Improved Quality of Life through an Integrated Health Care Service for Children with Atopic Dermatitis Hyungoo Kang; Hyunhee Kim; Hye-Yung Yum A242 Criteria Combining Autologous Serum Skin Test and Clusterin for Predicting Antihistamine-Refractoriness in Patients with Chronic Spontaneous Urticaria Young Min Ye; Hae-Sim Park; Ga-Young Ban; Ji Hye Kim; Yoo Seob Shin A243 Urinary Leukotriene E4 Levels in Wheezing Infants Takumi Takizawa, Masahiko Tabata, Akira Aizawa, Hisako Yagi, Yutaka Nishida, Hirokazu Arakawa, Akihiro Morikawa, Solongo Orosoo A244 Allergic Sensitization to Whey in Mice Is Facilitated By the Mycotoxin Deoxynivalenol (DON) Saskia Braber, Marianne Bol-Schoenmakers, Peyman Akbari, Prescilla V. Jeurink, Prescilla V. Jeurink, Priscilla De Graaff, Joost J. Smit, Betty C. A. M. Van Esch, Johan Garssen, Johan Garssen, Johanna Fink-Gremmels, Raymond H. H. Pieters A245 How to Define Chronic Cough: Based on a Systematic Review of the Epidemiological Literature Gun-Woo Kim, Eun-Jung Jo, Sujeong Kim, Woo-Jung Song, Yoon-Seok Chang, Shoaib Faruqi, Ju-Young Kim, Mingyu Kang, Min-Hye Kim, Jana Plevkova, Heung Woo Park, Sang-Heon Cho, Alyn Morice, So-Hee Lee, Sun-Sin Kim, Seoung-Eun Lee A246 Asko Study: Comparison of Behavior and Habits in Diagnosis and Treatment of Adult Asthma and COPD Patients Bilun Gemicioglu, Zeynep Misirligil, Arif Hikmet Cimrin, Hakan Gunen, Tevfik Ozlu, Aykut Cilli, Levent Akyildiz, Hasan Bayram, Esra Uzaslan, Oznur Abadoglu, Mecit Suerdem A247 Changes in Pulmonary Function in the Treatment of Obesity in Children Keigo Kainuma A248 Changes of Feno and Nasal Feno Levels after Treatment in Pediatric Allergic Rhinitis Hyun-a Kim, Ha-Su Kim, Woo Yong Bae, Jin-a Jung A249 Prevalence of Vitamin D Deficiency in Exclusively Breastfed Infants in Kenya Rose Kamenwa, William Macharia, Nusrat Said A250 In-Vitro Screening of Atopy in the Indian Population: Are Current Methods Adequate, Keeping Local IgE Seroprevalence for Common Food & Inhalant Allergens in Mind? Vidya Nerurkar, Meenal Patel, Simi Bhatia A251 Usefulness of House Dust Mites Nasal Provocation Test in Asthma Inseon S Choi, Soo-Jeong Kim, Joo-Min Won, Myeong-Soo Park A252 Biomarker-Based Treatment Option for Preschool Children with Recurrent Wheeze Mizuho Nagao A253 Anti-Tuberculosis Drugs-Induced Liver Injury in Patients with Connective Tissue Diseases Dong Won Park, Jang Won Sohn, Ji Young Yhi, Ji-Yong Moon, Sang-Heon Kim, Tae Hyung Kim, Dong Ho Shin, Ho Joo Yoon A254 Ocular Symptoms of Cedar Pollinosis in Otolaryngology Patients Yukiyoshi Hyo A255 The Clinical Characteristics of Adverse Drug Reactions Reported in a Regional University Hospital for 6 Years and the Suggestions for the Reporting System Jaechun Lee, Su Hee Kim, Eunkyoung Lee A256 Changes in Skin Prick Test Results over 3 Years in School-Aged Children Hahn Jin Jung, Jaehyun Lim, Seung-No Hong, Doo Hee Han, Chae-Seo Rhee A257 The Analysis of Risk Factors and Features of Food Allergy in Korean Children: Nationwide Cross-Sectional Survey Kun Song Lee A258 A Sequential Indirect-Direct Bronchial Provocation Test for Diagnosis of Asthma: A Pilot Study Jaechun Lee, Sun Young Yang, Mi Young Ahn, Jong Hoo Lee, Jasmina Golez A259 Association of VDR and CYP2R1 Polymorphisms with Persistent Allergic Rhinitis in a Han Chinese Population Hui-Qin Tian, Lei Cheng, Xin-Yuan Chen A260 Associations of Metabolic Syndrome with Asthma and Atopy in Korean Adults Ji-Yong Moon, Sang-Heon Kim, Tae Hyung Kim, Ji Young Yhi, Ho Joo Yoon, Jang Won Sohn, Dong Ho Shin, Dong Won Park A261 Clinical Manifestation and Treatment Outcome of Eosinophilic Gastroenteritis in Korean Children Won Im Cho, Jong Sub Choi, Dongin Suh, Gyeong Hoon Kang, Jin Soo Moon, Jae Sung Ko, Kyung Jae Lee, Shin Jie Choi A262 The Sensitization Model and Correlation of Bermuda and Timothy Grass Pollen Allergen in Allergic Patients in Southern China Wenting Luo, Baoqing Sun A263 A Pilot Study on the Outcomes of Respiratory Allergic Diseases at Pre-School Age in Chinese Infants with Atopic Dermatitis Qi Gao, Li Xiang, Kunling Shen A264 Activation of Toll like Receptor 1 and 6 By House Dust Mite Enhances the Expression of Tight Junction Protein in Epidermal Keratinocytes Yong Hyun Jang A265 Pollen Exposure in a Mobile Exposure Chamber: Comparing Real-Life Symptoms with Exposure Symptoms Karl-Christian Bergmann, Torsten Sehlinger, Georg Bölke, Uwe Berger, Torsten Zuberbier A266 Retrospective Analysis of the Incidence of Allergy in Patients with Contact Eczema Joanna Kolodziejczyk, Milena Wojciechowska, Anna Hnatyszyn-Dzikowska, Micha Chojnacki, Zbigniew Bartuzi A267 Effect of Fungal Sensitization in Patients with Severe Asthma Katsunori Masaki, Koichi Fukunaga, Takashi Kamatani, Kengo Ohtsuka, Takae Tanosaki, Masako Matsusaka, Takao Mochimaru, Hiroki Kabata, Soichiro Ueda, Yusuke Suzuki, Katsuhiko Kamei, Koichiro Asano, Tomoko Betsuyaku A268 SCIg Patient Preference Pump Versus Push Karlee Trafford A269 Fixed Drug Eruption Induced By Ornidazole and Diclofenac Ismet Bulut, Zeynep Ferhan Ozseker A270 Transepidermal Water Loss Measurement during Infancy Can Predict the Subsequent Development of Atopic Dermatitis Kenta Horimukai, Hideaki Morita, Masami Narita, Hironori Niizeki, Kenji Matsumoto, Yukihiro Ohya, Hirohisa Saito, Shigenori Kabashima, Mai Kondo, Eisuke Inoue A271 Inhalant Allergens on Soft Toys: A Literature Review Robert Siebers, Francis FS Wu A272 Fractional Exhaled Nitric Oxide in Elderly Asthmatics Robert Siebers, Francis FS Wu, Ming-Hui Ting, Hung-En Laio, Tsung-Huai Kuo, Pei-Yuan Lee A273 Dye and Preservative Challenge in Meal-Associated Urticaria and Angioedema: A Low-Yield Diagnostic Maneuver Daniel Eugene Maddox A274 The Changes of Allergic Sensitization with Age in Children with Allergic Rhinitis Gwanghui RyuHyo Yeol Kim, Hun-Jong Dhong, Sang Duk Hong, Seung-Kyu Chung A275 Component-Specific IgE and IgG4 Levels in Milk Allergy Children Tolerated Baked Milk Products Osamu Higuchi, Yu-Ichi Adachi, Toshiko Itazawa, Yoko Adachi, Miki Hamamichi, Motokazu Nakabayashi, Yasunori Ito, Takuya Wada, Gyoukei Murakami, Miki Takao, Junko Yamamoto A276 Serum Surfactant Protein(SP)-D Level: A Potential Biomarker for Aspirin-Exacerbated Respiratory Disease Hyun Jung Jin, Moon Gyeong Yoon, Young Min Ye, Yoo-Seob Shin, Seung-Hyun Kim, Hae-Sim Park A277 Clinical Characteristics of Anaphylaxis in Korean Children Taek-Ki Min, Bok-Yang Pyun, So-Yeon Lee, Hyun Hee Kim, Gwang-Cheon Jang, Jinho Yu, Dongin Suh, Sooyoung Lee, Yong Mean Park, Jeong Hee Kim, Hye-Yung Yum, Kyung Won Kim, Hyeon-Jong Yang, Kangmo Ahn, Ji-Won Kwon, Myung Hyun Sohn, Hae Ran Lee, Jung Hyun Kwon, Kyu-Earn Kim, Soo-Jong Hong A278 Immunological Changes Induced By Intramuscular Injections of Autolologous Immunoglobulin in Patients with Severe Atopic Dermatitis Su-Mi Cho A279 Identification of Subtypes in Subjects with Mild to Moderate Airflow Limitation and Their Clinical and Socioeconomic Implications Jin Hwa Lee, Chin Kook Rhee, Hye Yun Park, Woo Jin Kim, Yong Bum Park, Kwang-Ha Yoo A280 Cephalosporin-Induced Dress (Drug Rash with Eosinophilia and Systemic Symptoms) Syndrome in a 7-Year-Old Boy Heejeong Kang, Hyeon-Jong Yang, Taek-Ki Min, Bok-Yang Pyun A281 Maternal Depression Is Associated with Children’s Asthma : An Analysis of the Fifth Korea National Health and Nutrition Examination Survey (2010-2012) Lee Ju Suk, Cheol Hong Kim A282 Increased Length of Hospitalization Associated with Infiltration on Chest Radiography in Pediatric Asthma Patients Jung Hyun Kwon, Sang Hyun Lee, Wonhee Seo A283 A Case of 16-Year-Old Boy with Smoking-Induced Acute Eosinophilic Pneumonia Kang-in Kim, Young Cheon Park, Hyeon-Jong Yang, Taek-Ki Min; Bok-Yang Pyun A284 A Case of Pranlukast Induced Anaphylactic Shock Sujeong Kim, Sun Jin, Jong-Myung Lee, Hye-Jin Jung, Jung-Wha Park A285 Comparison of Asthma-Related Outcomes Between Metabolically Healthy Obese and Metabolically Unhealthy Obese Asthma Patients Hyo-Jung Kim, Tae-Bum Kim, You Sook Cho, Hee-Bom Moon, Hyouk-Soo Kwon, So Young Park, So-Young Park, Jung-Hyun Kim, Bomi Seo, Min-Gu Kim, Youn Yee Kim A286 Rick Factors Associated with Longer Length of Stay in Infants Hospitalized with Respiratory Syncytial Virus Bronchiolitis Yena Lee, Taek-Ki Min, Hyeon-Jong Yang, Bok-Yang Pyun, Suk Hee Han, Suyeon Park, Jeongho Lee, Won-Ho Hahn A287 Urinary Excretion of 9Î±, 11Î(2)-Prostaglandin F(2) and Leukotriene E(4) in Patients with Exercise-Induced Bronchoconstriction Youhoon Jeon, Joo-Hee Kim, Tae-Rim Shin, Cheol-Hong Kim, In-Gyu Hyun, Jeong-Hee Choi A288 The Aeroallergen Sensitization Pattern and Effect on Airway Hyperresponsiveness in Busan, Korea Sun-Mi Jang, Hae-Jung Na, Seung-Eon Song, Hye-Kyung Park, Eun-Jung Jo A289 Multicenter Questionnaires on Current Management of Atopic Dermatitis Among Korean Patients and Caregivers Dong Hun Lee, Jin-Young Lee, Yang Park, Jae-Won Oh, Mi Hee Lee, Soo-Jong Hong, Soo-Jong Hong, So-Yeon Lee, Joon Soo Park, Dong-Ho Nahm, Hye-Yung Yum, Hye-Yung Yum A290 Der p 1, Der p 2 and Der p 10 IgE Reactivities in Allergic Rhinitis Patients in Korea Kyu Young, Dong-Young Kim A291 De-Labeling Beta-Lactam Hypersensitivity: An Experience from a Tertiary Care Hospital in Thailand Sirinoot Palapinyo; Jettanong Klaewsongkram A292 Sonic Hedgehog Signaling: Evidence for Its Protective Role in Endotoxin Induced Acute Lung Injury Mouse Model Xing Chen, Yuting Jin, Xiaoming Hou, Fengqin Liu, Chunyan Guo, Yulin Wang A293 Analyses of the Factors behind the Negative Attitudes Toward the Administration of Adrenaline Auto-Injectors in School Settings Ikuo Okafuji, Yuya Tanaka, Shegeyuki Narabayashi, Satoru Tsuruta A294 Low Vitamin D Levels Are Related to High House Dust Mite Sensitization in Patients with Severe Atopic Dermatitis Yong Hyun Jang A295 Appendicular Skeletal Muscle Mass Index: A Potential Predictor of Skeletal Muscle Abnormality According to the Severity Airflow Limitation of COPD Jun-Hong Ahn, Dong-Won Lee, Jin Hong Chung, Hyun Jung Jin, Min-Su Sohn A296 Etiology and Clinical Feature of Oral Allergy Syndrome in Children Young a Park, Kyunguk Jeong, Yoon Hee Kim, In Suk Sol, Seo Hee Yoon, Kyung Won Kim, Myung Hyun Sohn, Kyu-Earn Kim, Sooyoung Lee A297 Traffic-Related Pollution Levels and Poorly Controlled Asthma in Adults Ho Kim, Ja Yeun Kim A298 Anaphylaxis in Korean Children, 2009-2013 : Triggers of Anaphylaxis By Age Groups So-Yeon Lee, Taek-Ki Min, Tae-Won Song, Kangmo Ahn, Jihyun Kim, Gwang-Cheon Jang, Hyeon-Jong Yang, Bok-Yang Pyun, Ji-Won Kwon, Myung Hyun Sohn, Kyu-Earn Kim, Jinho Yu, Soo-Jong Hong, Jung-Hyun Kwon, Sung-Won Kim, Sooyoung Lee, Woo Kyung Kim, Hyung Young Kim, Hye-Young Kim, Youhoon Jeon A299 Maternal Allergy Is Associated with Acute Bronchiolitis Severity in Infant Chang Hoon Lim, Yeongsang Jeong, Su Jung Kim A300 Evaluation of Inflammatory Mediator Profiles in Sputum of Asthmatics As an Endotype for Refractory Asthma Hun Soo Chang, Jeong-Seok Heo, Da-Jeong Bae, Jong-Uk Lee, Ji-Na Kim, Chang-Gi Min, Hyun Ji Song, Jong-Sook Park, Soo Hyun Kim, Choon-Sik Park A301 Autophagy Is Associated with the Severity of Asthma in an Ovalbumin-Specific Mouse Model of Allergic Asthma Jing-Nan Liu, Youngwoo Choi, Yoo Seob Shin, Hae-Sim Park A302 Interleukin-9 and Interleukin-33 Levels in Children with Asthma Nima Rezaei, Sedigheh Bahrami Mahneh, Arezou Rezaei, Maryam Sadr, Masoud Movahedi A303 Pediatric Anaphylaxis at a University Hospital in Cheonan, Korea, 2013~2014 Jun Seak Gang, Joon Soo Park, Seung Soo Kim, Hyun Ho Bang, Kyeong Bae Park, Hye Sun Kim, Tae Ho Kim, Young Hwangbo, Hyun Jung Lee, Gyeong Hee Yoo, Young Chang Kim A304 Initial Antigen-Specific IgE Levels Predict Clinical Outcome of Rush Oral Immunotherapy for Food Anaphylaxis Sakura Sato, Noriyuki Yanagida, Motohiro Ebisawa A305 ABCC4 gene Polymorphism Is Associated with High Periostin Levels in Asthmatic Patients Sailesh Palikhe, Hae-Sim Park, Seung-Hyun Kim, Ri-Yeon Kim, Eun-Mi Yang A306 The Role of Clinical Phenotype and Allergen Sensitization at 2 Years As Predictors of Atopic Disorders at 5 Years Li Yuan Gabriella Nadine Lee, Marion Aw, Marion Aw, Bee Wah Lee, Bee Wah Lee, Evelyn Xiu Ling Loo, Yiong Huak Chan, Lynette Shek, Lynette Shek, I-Chun Kuo, I-Chun Kuo, Phaik Ling Quah, Phaik Ling Quah, Genevieve Llanora, Gerez Irvin A307 The Effect of Korean Red Ginseng (KRG) on Rhinovirus Infection in Human Nasal Epithelial Cells Joo Hyun Jung, Il Gyu Kang, Seon Tae Kim, Hyoungmin Park A308 The Effect of Korean Red Ginseng on the Symptoms and Allergic Inflammation in Patients with Allergic Rhinitis Seon Tae Kim, Joo Hyun Jung, Il Gyu Kang, Hyoungmin Park, Kwang-Pil Ko A309 Validation of the Newly Developed Multiple Allergen Simultaneous Test in Korea Jungsoo Lee, Howard Chu, Hemin Lee, Jung U Shin, Chang Ook Park, Kwang Hoon Lee, Kwang Hoon Lee, Hong Kyu Kang A310 Assessment of Symptoms Severities of Allergic Rhinitis Patients Sensitive to Multiple Allergens in Skin Prick Test Dong Chang Lee, Geun Jeon Kim, Jae Hyung Hwang, Jin Bu Ha, Su Hee Jeong A311 Diurnal Temperature Range and Emergency Department Visits for Asthma in Korea 6 Cities Ho Kim, Shinha Hwang, Whahee Lee A312 Mannan-Binding Lectin Serum Levels in Atopic Mongolian Adults Enkhbayar Bazarsad, Logii Narantsetseg, Munkhbayarlakh Sonomjamts A313 Prevalence of Doctor Diagnosed Atopic Eczema, during 2003-2014 in KOREA ; Using Big Data of 48.1 Million South Korean Health-Care Records Gwang-Cheon Jang, Hyun-Hee Lee, Chang-Jong Lee, Huynsun Lim A314 Association of Recurrent Wheeze with Lung Function and Airway Inflammation in Preschool Children Ji-Eun Soh, Dae-Jin Song, Ji-Won Kwon, Hyung Young Kim, Ju-Hee Seo, Byoung-Ju Kim, Hyo-Bin Kim, So-Yeon Lee, Gwang-Cheon Jang, Woo Kyung Kim, Young-Ho Jung, Soo-Jong Hong, Jung Yeon Shim A315 Mannan-Binding Lectin Serum Levels in Healthy Mongolian Adults Enkhbayar Bazarsad, Logii Narantsetseg, Munkhbayarlakh Sonomjamts A316 Rotanebuliser Prabhakarrao Pv, Ranjitha Nadendla A317 The Level of Serum Interleukin 13 and Interleukin 17A and Its Effect Factors in Children with Asthma Juan Fang, Jing Zhao A318 Is Vitamin D Insufficiency Also Involved in Childhood Asthma in South Korea? Dae-Jin Song, Sungchul Seo, Young Yoo, Yu-Ri Kim, Ji Tae Choung, Jee Hoo Lee A319 Collection of Nasal Secretions for Measurement of Local IgE: A Quest for the Best Method Margot Berings, Natalie De Ruyck, Claus Bachert, Philippe Gevaert, Gabriële Holtappels A320 The Role of Claudin 5 in a Murine Model of Asthma Pureun-Haneul Lee, Byeong-Gon Kim, Choon-Sik Park, George D Leikauf, An-Soo Jang A321 Claudin-4 in a Murine Model of Asthma: Modulation By Acrolein, a Highly Reactive Unsaturated Aldehyde Byeong-Gon Kim, Pureun-Haneul Lee, Choon-Sik Park, An-Soo Jang A322 Efficacy and Safety of Sublingual Immunotherapy in House Dust Mite Sensitized Children with Allergic Rhinitis Yang Park A323 The Association of Vitamine D Deficiency and Skeletal Muscle Dysfunction in Chronic Airway Disease Min-Su Sohn, Hyun Jung Jin, Dong-Won Lee, Jun-Hong Ahn, Jin Hong Chung A324 Bacteria Derived Extracellular Vesicles in Indoor Dust Is Closely Associated with Airway Disease and Lung Cancer: Analysis of Indoor Dustâ€™s Microbiome and IgG Sensitization of Indoor Bacteria Derived Extracellular Vesicles Sae-in Kim, Han-Ki Park, Do-Yeon Kim, Mina Rho, Jun-Pyo Choi, Yoon-Keun Kim A325 Clinical Care Program for Childhood Asthma (CCP-Childhood Asthma); A Multidisciplinary Team Care at Samitivej International Children’s Hospital Wasu Kamchaisatian, Thitikul Hiranras, Surinda Wongpun, Phornthip Chiraphorn, Anupan Tantachun, Wannipa Wongrassamee, Planee Vatanasurkitt, Naratip Somboonkul, Nattipat Juthacharoenwong, Surangkana Techapaitoon, Montri Tuchinda A326 Continuous B Cell Stimulation with CD40 Ligand Induce IgE Isotype Switching Jae Ho Lee, Sejin An A327 Effects of Interleukin-9 on Allergen-Specific Immunotherapy in a Mouse Model of Allergic Rhinitis Ji-Hyeon Shin, Soo Whan Kim, Si Won Kim, Jun Myung Kang, Boo-Young Kim, Byung-Guk Kim A328 Usefulness of Exhaled Nitric Oxide for Evaluating Wheeze and Airway Hyperresponsiveness in Preschool Children Jung-Won Lee, Ji-Won Kwon, Woo Kyung Kim, Hyung Young Kim, Hyo-Bin Kim, Ju-Hee Seo, So-Yeon Lee, Gwang-Cheon Jang, Young-Ho Jung, Soo-Jong Hong, Byoung-Ju Kim, Dae-Jin Song, Jung Yeon Shim A329 Systemic Cyclosporine Treatment in Hand Eczema Patients Kyung Ho Kim A330 Lipid Profiles and Adipokines in Korean Children with Atopic Dermatitis Young Yoo, Won Suck Yoon, Sungchul Seo, In Soon Kang, Jae Won Choi, Hye-Young Lim, Ji Tae Choung A331 Validation of Montelukast and Levocetirizine Combination Tablet Versus Individual Tablets in the Treatment of Moderate to Severe Persistent Allergic Rhinitis Among Adult Filipinos Seen at the Philippine General Hospital-Outpatient Department Michelle Buela A332 Efficacy of Makyokansekito on Treatment of Wheezing Lower Respiratory Tract Infection in Children: A Retrospective Study of 68 Patients Koji Nishimura A333 Serum Eosinophilia and Total IgE Are Associated with the Risk of Allergic Sensitization and Allergic Symptoms in Two Years Follow-up, Respectively Sang Chul Park, Hyo Jin Chung, Chang-Hoon Kim, Ju Wan Kang, Seong-Chul Hong, Keun-Hwa Lee, Jaechun Lee, Hye-Sook Lee, Jeong Hong Kim A334 The Sensitization to Russian Thistle on Mongolian Patients Narantsetseg Logii A335 The Association Between Air Pollution, Allergic Sensitization to Inhalant Allergens and Airway Hyperresponsiveness in Ulaanbaatar, Mongolia Munkhbayarlakh Sonomjamts, Enkhbayar Bazarsad A336 Pre-Coseasonal Treatment with a 5-Grass Pollen Sublingual Tablet in Adults Demonstrated a Reduction on Asthma Symptoms in Réunion Island Bashir Omarjee A337 Peak Expiratory Flow Rate Reference Values for Children Aged 5-14 Years Old in Beijing Urban Area Shuo LI A338 Soybean Storage Proteins As the Main Allergen in a Patient with Food-Dependent Exercise-Induced Anaphylaxis Due to Tofu Miyuki Hayashi, Ruby Pawankar, Shingo Yamanishi, Toru Igarashi, Yasuhiko Itoh A339 A Study of Allergy Skin Prick Test with Weed Pollen Oyuntsatsral Batsaikhan, B. Gantulga, B. Enkhbayar, S. Munkhbayarlakh, L.Narantsetseg A340 The Role of Neurotrophin in a Murine Model of House Dust Mite Induced Allergic Rhinitis Pei-Chi Chen, Jiu-Yao Wang A341 Mimotopes of the Major Shellfish Allergen Tropomyosin Suppress Splenocyte Proliferation and Local Cytokine Expression in a Mouse Model of Shellfish Allergy Nicki Y. H. Leung, Christine Yee Yan Wai, Patrick S.C. Leung, Ka Hou Chu A342 A Questionnaire Survey on Understanding of Atopic Dermatitis Among Korean Patients and Caregivers Eun Jin Doh, Dong Hun Lee, Mira Choi, Hyun-Sun Yoon, Kyu Han Kim, Ji Soo Lim A343 Comparison of the Dosage of Bronchodilators in the Bronchodilator Response Test in Children Ji Hyeon Baek, Man Yong Han, Seung Jin Lee, Youhoon Jeon, Kyung Suk Lee, Young-Ho Jung, Hye Mi Jee, Youn Ho Shin A344 The Expression and Effect of Natural Killer T Lymphocytes in Chidren with Asthma Yi Jiang, Miao Liu A345 Oral Provocation Test in Non-Steroidal Anti-Inflammatory Drug Hypersensitive Patients Referred to Singapore General Hospital Chaw Su Naing, Tze Chin Tan, Yong Yeow Chong A346 Different Phenotypes of Bhr (bronchial hyperresponsiveness) By Natural Course in Children and It’s Characteristics Young-Ho Kim, Eun Lee, Song-I Yang, Hyun-Ju Cho, Hyung Young Kim, Ji-Won Kwon, Young-Ho Jung, Byoung-Ju Kim, Ju-Hee Seo, Ho-Jang Kwon, Hyo-Bin Kim, So-Yeon Lee, Soo-Jong Hong, Soo Hyun Kim A347 Spectrum of Allergens Causing Allergic Rhinitis and Asthma in Urban Bangalore, India − a Study of 120 Patients Jacqueline Elizabeth Joseph, Soumya M. S, Ruby Pawankar, Harshitha Kumar A348 High Prevalence of Wheezing Illness and Risk Factor of Atopic Asthma Progression in Korean Preschool Children Sohyoung Yang, Sung-Il Woo A349 Clinical and Laboratory Screening of Primary Immunodeficiency Diseases: International Effects Nima Rezaei A350 The Effect of Helicobacter Pylori Infection in Atopic Individuals Sukran Kose, Basak Gol Serin, Arzu Didem Yalcin, Süheyla Serin Senger, Mehmet Erden, Ertan Serin A351 Clinical Spectrum and Natural History of Chronic Urticaria in Hong Kong Children Agnes Sze-Yin Leung, Ting Fan Leung A352 Skin Prick Test Reactivity to Common Pollen Aeroallergens in Patients with Allergic Rhinitis − in Urban Bangalore, India Harshitha Kumar, Soumya M.S., Jacqueline Elizabeth Joseph, Ruby Pawankar A353 Seasonal Patterns of Asthma-Related ED Visits and Admissions in Children and Adolescents Who Visited Emergency Rooms of Korea in 2007-2012 Eun Hee Chung A354 Prevalence of Atopic Dermatitis and Its Associated Risk Factors in Elementary School Children: A Cross-Sectional Study in Gyeonggi-Do, South Korea Eunji Kim, Young Yoo, Ji Tae Choung, Sungchul Seo, In Soon Kang, Jue Seong Lee, Ji Hyen Hwang A355 Intralymphatic Immunotherapy for Dermatophagoides Farinae, Dermatophagoides Pteronyssinus, Cat, and/or Dog Allergy in Patients with Allergic Rhinitis: 1 Year Follow-up Sang Min Lee, Joo Hyun Jung, Seung Joon Choi, Eugene Joe, Hyunjung Hwang, Shin Myung Kang, Yu Jin Kim, Sun Young Kyung, Jeong-Woong Park, Sung Hwan Jeong, Sang Pyo Lee A356 Respiratory Syncytial Virus Regulates IL-33 Expression in Bronchoalveolar Cells and Lung Tissue in Vivo Alina Gaisina, Igor Shilovskiy, Aleksandra Nikonova, Oleg Kamyshnikov, Musa Khaitov, Alexander Mitin, Komogorova Viktoriya, Marina Litvina, Nina Sharova A357 The Prevalence of Parent-Perceived Food Hypersensitivity in Pre-School Children Attending a Tertiary Care Hospital in Malaysia Faizah Mohamed Jamli A358 Th2 Dominant Airway Inflammation Induced By House Dust Mite Chitin Is Dependent on TNF-a and NKT Cell Da-Il Yoon, Jun-Pyo Choi, Han-Byul Choi, Yoon-Keun Kim, Hyeon-Il Choi A359 Geographic Variations in the Patterns of Sensitization to Aeroallergens in Korean Adults: A Multi-Center Study Mingyu Kang, Mi Yeoung Kim, Sujeong Kim, Eun-Jung Jo, Seoung-Eun Lee, Woo-Jung Song, Sang Min Lee, Chansun Park, Yoon-Seok Chang, Jaechun Lee, Young-Koo Jee, Inseon S Choi, Kyung-up Min, Sang-Heon Cho A360 Experimental Mouse Model of Asthma Induced By Dust Mite Dermatophagoides Pteronyssinus allergenic Extract Anton Laskin, Oleg Kamyshnikov, Alexander Babakhin, Valentina Berzhets, Musa Khaitov A361 Severe Refractory Pulmonary Complications in Children with Mycoplasma Pneumoniae Pneumonia Sejin An, Jae Ho Lee A362 Usefulness of Interactive e-Learning Education Program for Asthma Guideline Sung-Yoon Kang, Yoon-Seok Chang, Kyung-up Min, Sang-Heon Cho, Sae-Hoon Kim, Yong Eun Kwon, Young-Koo Jee, Tae-Bum Kim, Hee-Bom Moon, Hye-Kyung Park A363 Airway Inflammation Induced By House Dust Mite Derived Vesicles Is Mainly Induced By LPS Derived from Gram Negative Bacteria in Dust Mite. Sang-Yoon Kim, Jun-Pyo Choi, Han-Ki Park, Ji-Hyun Lee, Yoon-Keun Kim A364 Changes in the Recognition of Causal Allergen, Its Avoidance, and Allergen Specific Immunotherapy after Skin Prick Test / Intradermal Test, Nasal Provocation Test, and Intralymphatic Immunotherapy in Patients with Allergic Rhinitis: 1 Year Follow-up Hyunjung Hwang, Eugene Joe, Sang Min Lee, Seung Joon Choi, Joo Hyun Jung, Yong Han Seon, Shin Myung Kang, Yu Jin Kim, Sun Young Kyung, Jeong-Woong Park, Sung Hwan Jeong, Sang Pyo Lee A365 Laboratory Diagnostic of Staphylococcal Sensitization Natalya Khramykhoverchenko A366 Th-17 Regulatory Cytokines Enhance Neutrophil Production of IL-17 during Asthma Saleh Al Muhsen, Asma Sultana, Rabih Halwani, Ahmed Bahammam A367 Diagnostic Value of Serum Total IgE and Prediction of Cut-Off Value to Recommend Mast in Allergic Rhinitis Hyung Chae Yang, Sun Kyung Kim, Kwang Il Nam A368 Diagnostic Value of an Increase in FEV1 and/or FVC >12% and >200 mL from Baseline after Bronchodilators for Diagnosis of Asthma Jeong-Eun Kim, Ju Suk Lee, Ji Hyun Lee, Kyung Woo Kang A369 Combined Use of Fractional Exhaled Nitric Oxide and Bronchodilator Response in Predicting Future Loss of Asthma Control Among Children with Atopic Asthma Je-Kyung Kim, Youn-Soo Hahn, Jae-Yub Jung A370 Antigen-Specific IgA Plays an Important Role in Mucosal Immune Response in Allergic Children : Measurement of Secretory IgA and Antigen-Specific IgA Yosuke Baba, Sususmu Yamazaki, Eisuke Inage, Mari Mori, Yoshikazu Ohtsuka, Masato Kantake, Toshiaki Shimizu, Asuka Honjoh, Tomoaki Yokokura A371 Why Teaching Pediatrics Trainees about Anaphylaxis and Its Acute Management Is Essential: Cross Sectional Survey. Mehdi Adeli, Shaza Ali Mohammed Elhassan, Caroline Beck A372 Prevalence and Clinical Characteristics of Local Allergic Rhinitis in Children Min Sun Na, Heysung Baek, Seung Jin Lee, Ji Hyeon Baek, Jungwon Yoon, Sun Hee Choi, Young-Ho Jung, Youn Ho Shin, Man Yong Han A373 House Dust Mites Sublingual Immunotherapy Can Influence the Long-Term Evolution of Severe Atopic Dermatitis and the Progression to Respiratory Allergy. Enrico Compalati, Maurizio Marogna A374 The Positive Distribution Characteristics of 90 Food Specific IgG in Patients with Allergic Diseases Huimin Huang, Baoqing Sun, Mingyu BAI, Yiting Huo, Peiyan Zheng, Nili Wei, Wenting Luo A375 Evaluation of Serum Levels of Osteopontin As a Potential Biomarker of Immune Activation in Patients with Allergic Diseases Elisa Villa, Anand Andiappan, Rosalba Minisini, Olaf Rötzschke, Elena Boggio, Luca Gigliotti, Nausicaa Clemente, Annalisa Chiocchetti, Umberto Dianzani, Mario Pirisi A376 Prevalence of Allergic Rhinitis in 3-6-Year-Old (preschool) Children in Chiba City (urban area), Japan Fumiya Yamaide, Syuji Yonekura, Naoki Shimojo, Yuzaburo Inoue, Yoshitaka Okamoto A377 Comparative Efficacy of Combination Nebulized Salbutamol and Fluticasone Propionate and Nebulized Salbutamol in Children with Mild Moderate Asthma Attack Retno Asih Setyoningrum, Landia Setiawati, Sri Sumei, Deddy Iskandar A378 Characteristics of Children Hospitalized with Asthma in West Nusa Tenggara General Hospital Mataram Indonesia Indriyani Sang Ayu Kompiyang A379 Identification of Phenotypes in Allergic Bronchopulmonary Aspergillosis Using Cluster Analysis Tsuyoshi Oguma, Jun Tanaka, Katsuyoshi Tomomatsu, Koichiro Asano A380 The Roles of Type 2 Innate Lymphoid Cells (ILC2) in Chronic Rhinosinusitis (CRS) Keisuke Uno, Yoshinori Matsuwaki, Kazuhiro Omura, Eika Hayashi, Norifumi Tatsumi, Hirohito Kita, Nobuyoshi Otori, Hiromi Kojima A381 Respiratory Symptoms, Signs and Spirometry Indexes Comparision in 7-12 Years Old Girls in Esfahan Metropolis and Its Far Suburb Mohammadreza Fatemi Khorasgani A382 Induction of Kruppel-like Transcription Factor (KLF4&5) By Baker’s Yeast Mannan in Human Bronchial Epithelial and Smooth Muscle Cells Dukhee/Betty Lew, Kim/S. Lemessurier, Joseph/a Moore, Jeoung-Eun Park, Ae-Kyung Yi, Chi/Young Song, Kafait/U Malik A383 Korean Profile in Childhood Asthma Severity Classification Dongin Suh, Ja Kyoung Kim, Hyeon-Jong Yang, Bong-Seong Kim, Youn Ho Shin, So-Yeon Lee, Geunhwa Park, Woo Kyung Kim, Hyo-Bin Kim, Heysung Baek, Dae Hyun Lim, Dae Hyun Lim, Jin Tack Kim A384 Prevalence of Food Sensitization, IgE-Mediated and Non-IgE-Mediated Food Allergy Among Pediatric Patients Diagnosed with Autism Spectrum Disorders Aimee Lou Manalo Nano A385 Component-Resolved Diagnostic Study of Dermatophagoides Pteronyssinus Major Allergen Molecules in a Southern China Wenting Luo, Baoqing Sun A386 Risk Factors for Systemic and Local Reactions to Subcutaneous Allergen Immunotherapy Hikmet Tekin Nacaroglu, Semiha Bahceci Erdem, Ozlem Sumer, Sait Karaman, Canan Sule Unsal Karkiner, Suna Asilsoy, Ilker Gunay, Demet Can A387 Literature Review and Current Treatment Options for Cyclical Anaphylaxis Danielle Kiers A388 The Effect of Surfactant Protein D in Acute Lung Injury and Pulmonary Fibrosis Induced By Bleomycin Hsu Han Yin, Jiu-Yao Wang A389 Activation of Endothelial Cells to Release Hsp90, an Activator of the Prekallikrein-High Molecular Weight Kininogen (HK) Complex Allen Kaplan, Kusumam Joseph, Baby G. Tholanikunnel A390 The Effect of Climatic Treatment in 51 Asthmatic Children from Areas Severely Polluted Environment of Northern Moravia, Czech Republic Radim Dudek A391 Comparison of Some Vitamin Groups in Asthmatic Patients Gulden Bilgin, Hatice Surer, Aytun Sadan Kilinc, Dogan Yucel A392 Sensitization in Children with Atopic Dermatitis: A Single Center Study Ji Young Lee, Jihyun Kim, Hea-Kyoung Yang, Minji Kim, Sang-Il Lee, Kangmo Ahn A393 Staphylococcal Enterotoxin IgE Sensitization: A Risk Factor for COPD Overlap in the Elderly Asthma? Sung Do Moon, Byung-Keun Kim, Sang-Heon Cho, Kyung-up Min, Yoon-Seok Chang, Heung Woo Park, Hye-Ryun Kang, Woo-Jung Song, Min-Koo Kang, Ju-Young Kim, Kyonghee Sohn, Ha Kyung Won, Seoung-Eun Lee, Kyung-Mook Kim, Claus Bachert A394 The Effects of Probiotics and PparÎ(3) on the Murine Model of Allergic Asthma Miao-Hsi Hsieh, Jiu-Yao Wang A395 Adult Patients’ Views on the Design of Adrenaline Autoinjectors Helen Smith, Clare Brown, Christina Jones, Mark Davies A396 CCL22 miRNA modulated Th1 responses and induced therapeutic effects on OVA-induced mouse model of asthma Won Suck Yoon A397 Clinical, Histological, and Skin Microbiome Characteristics of Head and Neck Dermatitis in Atopic Dermatitis Hemin Lee, Howard Chu, Jungsoo Lee, Jung U Shin, Chang Ook Park, Kwang Hoon Lee, Seo Hyeong Kim, Ji Yeon Noh, Ji Hye Kim A398 MicroRNA-432 modulates Th1 responses and induced therapeutic effects in atopic like murine model. Won Suck Yoon A399 Case Report of Near-Fatal Asthma Due to Snail Allergy in a House Dust Mite-Allergic Adult Jean-Pierre L’huillier, Jean-Eric Autegarden, Catherine Bertrand, Dominique Tardy A400 Relationship Between Gut Microbiota in the First 3 Months of Life and Infant Immune Function at Age 12 Months Intan Hakimah Ismail, Mimi Tang, Paul Licciardi, Frances Oppedisano, Robert Boyle, Roy Robins-Browne A401 A Pediatric Case of Food-Dependent Exercise-Induced Anaphylaxis Due to Spice Allergy Hisako Yagi, Harumi Koyama, Yutaka Nishida, Takumi Takizawa, Hirokazu Arakawa A402 Correlations Between Objective Severity Score and Each of the Subjective Severity Intensity in Atopic Dermatitis Hong Kyu Kang, Hemin Lee, Jungsoo Lee, Jung U Shin, Kwang Hoon Lee, Kwang Hoon Lee, Howard Chu, Chang Ook Park A403 Barrier Related Gene Mutations in Atopic Dermatitis Na Young Yoon, Hyeyoung Lee, Seong Jun Seo, Eunhee Choi, Hye-Young Wang, Minyoung Jung, Eung Ho Choi, Dong Hye Kim A404 Clinical Utility of Basophil Activation Test (BAT) in the Diagnosis of Drug Induced Anaphylaxis Joo-Hee KimYoung-Sook Jang, Jeong-Hee Choi, Sunghoon Park, Young Il Hwang, Seung Hun Jang, Ki-Suck Jung A405 Feeding Shapes the Colonization of Gut Microbiota and Associated with Total IgE in Infant Mi-Jin KangDongin Suh, Eun Lee, Kil Yong Choi, Young-Ho Jung, Song-I Yang, Bong-Soo Kim, Ha-Jung Kim, Juneyoung Koh, Hyun-Jin Kim, Kangmo Ahn, Youn Ho Shin, Hyun-Ju Cho, Byoung-Ju Kim, Young-Ho Kim, Yean Jung A406 CD8(+)T Cell-Intrinsic Smad4 Suppresses Th2 Responses in the Pathogenesis of Contact Hypersensitivity Mizuko Mamura, Jeong-Hwan Yoon, Susumu Nakae, Inkyu Lee, Isao Matsumoto, Takayuki Sumida, Jin Soo Han, Katsuko Sudo, Ji Hyeon Ju A407 Immune-Modulatory Genomic Properties Differentiate Gut Microbiotas of Infants with and without Eczema Gaik Chin Yap, Wen Tso Liu, Seungdae Oh, Pei Ying Hong, Chiung Hui Huang, Marion Aw, Lynette Shek, Bee Wah Lee A408 The Effect of Medication in OSA Patients with Allergic Rhinitis Young Seok Byun, Sung Wan Kim, Tae Kyung Koh, Joong-Saeng Jo, Kun Hee Lee, Chul Kwon, Sung-Hwa Dong A409 A Case of Generalized Pustular Psoriasis Mimicking Acute Generalized Exanthematous Pustulosis Myung Shin Kim, Chansun Park A410 Anaphylaxis Caused By Gummy Jelly Ingestion: A Case Report Han Seok Cho, Min-Ju Kim, Min Ji Kim, Young Ok Park, Hye Yeong Lee, Hee Seong Kim, Eun Lee, Hyun-Ju Cho, Jinho Yu, Soo-Jong Hong, Keum Hee Hwang A411 Serum Folliculin As a Novel Biomarker for Asthma Jung-Hyun Kim, You Sook Cho, Sae-Hoon Kim, Hyouk-Soo Kwon, Mira Yoo, Hyo-Jung Kim, So-Young Park, Bomi Shin, So Young Park, Bomi Seo, Min-Gu Kim, Hee-Bom Moon, Jin-Ah Park, Tae-Bum Kim, Jaemoon Lee A412 Corticosteroid Nasal Irrigations after Endoscopic Sinus Surgery in the Management of Chronic Rhinosinusitis with Asthma Jin Hyeok Jeong, Tae Wook Kang, Han Seok Yoo, Yong Hee Cho, Seok Hyun Cho, Kyung Rae Kim A413 Capsaicin Injection in Neonatal Period Potentiates Intensity and Duration of Atopic Dermatitis of Rats. Jue Seong Lee, Sun-Ho Kee, Sewon Kim, Young Yoo, Heung Sik Na, Seung Keun Back A414 Comparison Between the Impulse Oscillometry System, Spirometry, Feno, Lung Clearance Index and Asthma Control and Exacerbation Status. Seung Jin Lee, Bo Seon Seo, Ji Hyeon Baek, Kyung Suk Lee, Young-Ho Jung, Hye Mi Jee, Youn Ho Shin, Man Yong Han, Mi-Ae Kim A415 The Association of Exhaled Nitric Oxide and Airway Hyperresponsiveness in Patients with and without Asthma Young-Hee Nam, Dong Sub Jeon, Soo-Keol Lee A416 Effects of Air Pollution on Allergic Rhinitis in Korea Jisun Park A417 Exhaled Nitric Oxide in Korean Children with Allergic Rhinitis Seung Hyun Moon A418 A Questionnaire of Children with Asthma or Asthma and Allergic Rhinitis Rong Jun Lin, Ren Zheng Guan A419 A Case of Trimebutine-Induced Morbilliform Skin Eruption Gyeong Yul Park, Hyun-Sun Yoon A420 Comparison of Methacholine and Mannitol to Predict Exercise-Induced Bronchoconstriction in Children with Asthma Woo-Hyeok Choi, Heysung Baek A421 Different Inflammatory Mechanisms of Human Metapneumovirus and Respiratory Syncytial Virus Jin-Sung Park, Eunmi Kwon, Zac Callaway, Chang-Keun Kim, Takao Fujisawa A422 Sputum Microbiota in Chinese Adults with Eosinophilic Versus Non-Eosinophilic Asthma Qingling Zhang, Rihuang Qiu, Naijian Li, Zhaowei Yang, Jing Li, Kian Fan Chung, Nanshan Zhong A423 Which Clinical Features Are Useful in Predicting Presence of Staphylococcus Aureus colonization/Infection in Childhood Atopic Dermatitis? Kam Lun E. Hon, Yin Ching K. Tsang, Ting Fan Leung A424 Clinical Significance of Increased VEGF, TGF-Î(2)(1,) and YKL-40, a Chitinase like Protein, in Serum of the Children with Asthma Yoon Young Jang, Hai Lee Chung, Seung Gook Lee, Ji Hyun Na, Jong Hoon Lee A425 Analysis of Follow-up Results of Mannitol Challenge Test in Asthma Patients Young-Hee Nam, Dong Sub Jeon, Soo-Keol Lee A426 Analysis of 68 Oral Walnut Challenge Tests Mikita Yamamoto, Sakura Sato, Noriyuki Yanagida, Ayako Ogawa, Kanako Ogura, Kyohei Takahashi, Kenichi Nagakura, Shigehito Emura, Tomoyuki Asaumi, Katsuhito Iikura, Motohiro Ebisawa, Yu Okada A427 Effectiveness of Air Filters Intervention in Allergic Rhinitis Jiaying Luo, Xiao Lan, Baoqing Sun, Zhao Chen, Guiyuan Sun, Shimin Li, Jiaqing Hu A428 The Relationship Between Airway Hyperresponsiveness to Mannitol and Atopy in Asthmatic Children Woo-Hyeok Choi, Heysung Baek A429 Anaphylactoid Reactions to N-Acetylcysteine in the Treatment of Aacetaminophen Overdose Young-Hee Nam, Dong Sub Jeon, Hee-Joo Nam, Yeo Myeong Noh, Sang Hee Kim Kim, Ye Suel Park, Soo-Keol Lee A430 Effect of Prenatal Maternal Distress and GSDMB Polymorphism on the Development of Recurrent Wheezing in Early Childhood: COCOA Study Yean Jung Choi, Si Hyeon Lee, Young-Ho Kim, Mi-Jin Kang, Hyun-Ju Cho, Eun Lee, Song-I Yang, Youn Ho Shin, Kangmo Ahn, Kyung Won Kim, Yoon Hee Kim, So-Yeon Lee, Hyoung Yoon Chang, In Ae Choi, Kyung-Sook Lee, Yee-Jin Shin A431 Vitamin D Level in Allergic Rhinitis: A Systemic Review and Meta-Analysis Yoon Hee Kim, Min Jung Kim, In Suk Sol, Seo Hee Yoon, Young a Park, Kyung Won Kim, Myung Hyun Sohn, Kyu-Earn Kim, Yong Ju Lee A432 Implication of Inspiratory and Expiratory Resistance and Reactance in Children with Asthma In Suk Sol, Kyu-Earn Kim, Yoon Hee Kim, Min Jung Kim, Seo Hee Yoon, Yong Ju Lee, Kyung Won Kim, Young a Park, Myung Hyun Sohn A433 The Association of Asthma Predictive Index with Asthma in Preschool Children with Recurrent Wheeze Sung Joo Park, Ji-Won Kwon, Woo Kyung Kim, Hyung Young Kim, Hyo-Bin Kim, Ju-Hee Seo, So-Yeon Lee, Gwang-Cheon Jang, Young-Ho Jung, Soo-Jong Hong, Byoung-Ju Kim, Dae-Jin Song, Yun Seok Yang, Jung Yeon Shim A434 Clinical Significance of Serum Total IgE Levels in Children with RSV-Associated Lower Respiratory Illness Yoon Young Jang, Hai Lee Chung, Ji Hye Kim, Hyun Seok Lee, Chang Ho Lee A435 Development of a Oak Pollen Emission and Transport Modeling Framework in South Korea Changbum Cho, Yun-Kyu Lim, Kyu Rang Kim, Mijin Kim, Baek-Jo Kim A436 Temperature, Humidity, and Air Pollution Affect Atopic Dermatitis Symptoms in Infants and Young Children Young-Min Kim, Youngshin Han, Jihyun Kim, Hae-Kwan Cheong, Byoung-Hak Jeon, Kangmo Ahn A437 Effects of Compound V on Pulmonary Fibrosis Model Chuang/Yao Ming, Jiu-Yao Wang, Ye/Yi Ling A438 Vitamin D Level and the Correlation with IgE in Children with Allergic Respiratory Diseases in Guangzhou China Huimin Huang, Baoqing Sun, Yun Chen, Peiyan Zheng, Nili Wei, Wenting Luo A439 Two Case Reports of Eosinophilic Gastroenteritis Associated with Allergic Disease Do Hyeong Lee, Gil-Soon Choi, Hee-Kyoo Kim, Han Su Park A440 Genome-Wide Association Study (GWAS) May Identify Common Genetic Variations Both in Immediate and Delayed Drug So-Young Park, Hyo-Jung Kim, Bomi Seo, Jung-Hyun Kim, Min-Gu Kim, Hyouk-Soo Kwon, You Sook Cho, Hee-Bom Moon, Tae-Bum Kim, Yoon Su Lee A441 Development of a Questionnaire for Secular Change of Atopic Dermatitis from Birth to 19-Year-Old. Akio Tanaka, Satoshi Morioke, Yukihiro Ohya, Naoki Shimojo, Akira Akasawa, Michihiro Hide, Hiroko Shizukawa A442 Evaluation of the Adherence Starts with Knowledge-20 (ASK-20) to Inhaled Drug in Patients with Bronchial Asthma Naoto Watanabe A443 The Epidemiology and Clinical Manifestation of Hmpv Infection in Children during Recent 4 Years: 2011-2014 Meeyong Shin, Myeong Sun Jang A444 Neutropenia Induced By Intravenous Immunoglobulin Young-Hee Nam, Yeo Myeong Noh, Dong Sub Jeon, Hee-Joo Nam, Sang Hee Kim Kim, Ye Suel Park, Soo-Keol Lee A445 A First Case of Lymphocytic Interstitial Pneumonitis in Healthy Child Ji-in Jung, Ha-Su Kim, Hyun-a Kim, Jin-a Jung A446 Cytokine Production upon House Dust Mite Stimulation of Cord Blood Mononuclear Cells from Caesarean Section-Delivered Singaporean Infants Anne Goh, Rajeshwar Rao, Bindu Nandanan, Ruurd Van Elburg, Chua Mei Chien, Juandy Jo, Johan Garssen, Johan Garssen, Leon Knippels, Elena Sandalova, Wen Chin Chiang A447 Dress Syndrome with Acute Interstitial Nephritis Caused By Quinolone and Nonsteroidal Anti-Inflammatory Drugs Young-Hee Nam, Ji Young Juong, Soo Jin Kim, Eun Young Kim, Su Mi Lee, Young Ki Son, Hee-Joo Nam, Ki-Ho Kim, Soo-Keol Lee A448 IL-23 Roles in the Development of House Dust Mite Allergic Sensitization and Asthma Da-Eun Park, Hye-Ryun Kang, Heung Woo Park, Hyun Seung Lee, Yoon-Seok Chang, Jung-Won Park, Sang-Heon Cho, Kyung-up Min, Woo-Jung Song A449 Exposure Profile of Indoor Risk Factors in Dwellings of Children with Atopic Dermatitis Hyunwook Lim, Sungchul Seo, Ji Tae Choung, Young Yoo, Jun-Sik Park, Byung Kwan Kim A450 Epidemiological Characterization of Blood Eosinophils in the Elderly Population Ha Kyeong Won, Hye-Ryun Kang, Byung-Keun Kim, Sung Do Moon, Ju-Young Kim, So-Hee Lee, Woo-Jung Song, Heung Woo Park, Min-Koo Kang, Sun-Sin Kim, Sang-Heon Cho, Kyung-up Min, Yoon-Seok Chang, Kyoung Hee Sohn, Kyung-Mook Kim, Ki-Woong Kim, Hak Chul Jang A451 Stevens-Johnson Syndrome Caused By Methotrexate in the Treatment of Psoriasis Young-Hee Nam, Dong Sub Jeon, Hee-Joo Nam, Yeo Myeong Noh, Sang Hee Kim Kim, Ye Suel Park, Soo-Keol Lee A452 Genetic Determinants for Lung Function Growth in Asthmatic Children Ting Fan Leung, Man Fung Tang, Hing Yee Sy, Wa Cheong Chan, Wilson Wai San Tam A453 The Power of Allergen Specific Ig E in the Classification of Rhinitis, Korean National Hanes 2010 Seung Kyu Chung, Sujin Kim, Sang Duk Hong, Hyo Yeol Kim Hyo Yeol Kim, Hun-Jong Dhong, Jong in Jeong A454 Analysis of Allergen Immunotherapy Practice and PatientsÃ¢â‚¬â„¢ Knowledge and Attitude about Allergen Immunotherapy in a Single Tertiary Hospital in Korea Young-Hee Nam, Dong Sub Jeon, Soo-Keol Lee A455 Roles of Staphylococcal Enterotoxin B in House Dust Mite-Induced Acute Asthma Models Ji Won Lee, Mingyu Kang, Soon-Hee Kim A456 A Clinical Comparison of Drug Reaction with Eosinophilia and Systemic Symptoms Syndrome in a Single Tertiary Hospital in Korea Young-Hee Nam, Dong Sub Jeon, Hee-Joo Nam, Yeo Myeong Noh, Sang Hee Kim Kim, Ye Suel Park, Soo-Keol Lee A457 The Beneficial Effect of Lactobacillus Gasseri PM-A0005 and Its Immunoregulatory Protein PMA5P40 on Milk-Induced Allergic Enteritis Yung-I Hou, Jiu-Yao Wang A458 Relationship Between Serum Folate Levels and Risks of Allergic and Respiratory Diseases in Early Childhood: The Mothers and Children’s Environmental Health Study Ja Hyeong Kim, Seol Jae Hee, Eun-Hee Ha, Hyesook Park, Mina Ha, Yun-Chul Hong, Yangho Kim, Namsoo Chang A459 Effects of Vitamin D in Patients with Chronic Rhinosinusitis Yuta Soma, So Watanabe, Ruby Pawankar, Ruby Pawankar, Harumi Suzaki, Harumi Suzaki, Hitome Kobayashi A460 Clinical Features of Systemic Contact Dermatitis from Ingestion of Rhus Young-Hee Nam, Chansun Park, Soo-Keol Lee A461 Sublingual Immunotherapy Efficacy in Patients with Atopic Dermatitis in Korea Jongrok Lee, Jooyoung Roh, Haryeong Ryu A462 Characteristics of Serious Adverse Drug Reactions in a Tertiary University Hospital Cheol-Woo Kim, Jae Hwa Cho, Mi Ra Eom, Ji Young Kang, Hye Gyeung Lee A463 Eyelid Dermatitis: Patch Test Results during a 15-Year Period in Korea and Evaluation of Metal Contents in Eye Shadows Hae Young Choi, Hye Jin Lee, Ju Yun Woo, Ji Yeon Byun, You Won Choi A464 Relationship Between Lipid Levels and Risks of Allergic and Respiratory Diseases in Early Childhood: The Mothers and Children’s Environmental Health Study Ja Hyeong Kim, Eun-Hee Ha, Hyesook Park, Mina Ha, Yun-Chul Hong, Yangho Kim, Namsoo Chang A465 IL-32 in the Induced Sputum of Patients with Asthma Jae-Woo Kwon, Hun Soo Chang, Jeong-Seok Heo, Jong-Uk Lee, Jong-Sook Park, Eusom Kim, Soo Hyun Kim, Choon-Sik Park A466 Clinical Characteristics of Patients with Chromium Allergy in a Single University Hospital in Korea Hae Young Choi, Ji Yeon Byun, Ju Yun Woo, You Won Choi A467 Efficacy and Safety of Oral Acitretin in Chronic Hand Eczema Hyun-Ju Jin, Jin-Hwa Son, Jeong-Min Kim, Gun-Wook Kim, Je-Ho Mun, Margaret Song, Hyun-Chang Ko, Moon-Bum Kim, Hoon-Soo Kim, Byung Soo Kim A468 Atypical Antipsychotics and Anticholinergic Agents Mimicking Anaphylaxis Sheryl Van Nunen, Dinh Van Nguyen, Anthony Elias, Susannah Olivia Lauer A469 Introducing Reach (Reliable Estimation of Atopic dermatitis in ChildHood): Novel, Questionnaire-Based Diagnostic Criteria for Childhood Atopic Dermatitis Seung-Chul Lee, Ho-June Lee, Jung Min Bae A470 Comprehensive Assessment to Identify the Causative Factors in Oral Allergy Syndrome Emi Ono A471 Comparison of Interpretation Methods in Allergic Skin Test Sung-Hwa Dong, Tae Kyung Koh, Young Seok Byun, Sung Wan Kim, Joong-Saeng Jo, Chul Kwon, Kun Hee Lee A472 Refraining Aminophylline Use Increases Hospitalization Among Children with Acute Asthma: A 10-Years Retrospective Cohort Study Li-Fan Liu A473 The Prevalence and Risk Factors of Atopic Dermatitis from Nationwide Study for Korean School Students Sunghee Lee A474 Probiotic Recombination Protein Effect on Atopic Dermatitis Wei-Leng Chen, Jiu-Yao Wang A475 Allergic Sensitization Status in Various Inflammatory Skin Diseases Youin Bae, Gyeong-Hun Park A476 Two Cases of Good’s Syndrome: A Rare Acquired Immunodeficiency Associated with Thymoma Suk Yeon Kim A477 IL-23 Has a Role to Play in the Development of Asthma in Short-Term Cigarette Smoke Exposure-Induced House-Dust Mite Allergic Model Hyun Seung Lee, Woo-Jung Song, Mingyu Kang, Han-Ki Park, Da-Eun Park, Hye-Ryun Kang, Heung Woo Park, Yoon-Seok Chang, Hye-Young Kim, Kyung-up Min, Sang-Heon Cho, Ji-Won Lee, Boram Bae, Jung-Won Park A478 The Relationship Between the Relevance of Allergic Disease and the Value of Non-Specific IgE Yasuhiro Suzuki A479 Two Caces of Prawn Allergy in Adult Patients Ismet Bulut, Zeynep Ferhan Ozseker A480 Early Gut Bifidobacterium Breve and B. Catenulatum Colonisation Differentially Modulate Eczema Risk in Children at High-Risk of Developing Allergic Disease Intan Hakimah Ismail, Robert Boyle, Paul Licciardi, Frances Oppedisano, Roy Robins-Browne, Mimi Tang A481 Effects of Chronic Repeated Exposure of Staphylococcal Enterotoxin B on Allergic Asthma Model in Mice Ji Won Lee, Hyun Seung Lee, Mingyu Kang, Da-Eun Park, Han-Ki Park, Soon-Hee Kim, Woo-Jung Song, Hye-Ryun Kang, Heung Woo Park, Yoon-Seok Chang, Chang-Han Park, Suk-Il Chang, Sook-Hee Song, Kyung-up Min, Sang-Heon Cho, Boram Bae A482 Skin Prick Test Result and Allergen Immunotherapy in Children with Allergic Rhinitis Grace Shieh A483 Role of Brp-39 in RSV-Induced Airway Inflammation in Mice Min Jung Kim, Jung Yeon Hong, Seo Hee Yoon, Doo Hee Shim, In Suk Sol, Yoon Hee Kim, Mi Na Kim, Kyung Eun Lee, Kyung Won Kim, Myung Hyun Sohn, Kyu-Earn Kim, Jae Myun Lee A484 Long-Term Outcomes of Twenty-Four Adults with Primary Immunodeficiency from a Single Centre in Singapore Hiok Hee Chng A485 Breast Feeding Increases the Risk of Food Sensitization but Does Not Affect Food Allergy in Young Children with Atopic Dermatitis Dong Chan Kim, Song-I Yang, Hae Ran Lee, An Deok Seo, So Yeon Lee A486 IgE Immunoadsorption Knocks Down Anaphylaxis. Alessandro Fiocchi, Maria Cristina Artesani, Paola Francalanci, Lamia Dahdah, Thomas Schreiner A487 Burden and Correlates of Cigarette Smoking and Respiratory Airway Obstruction: An Observation in Urban Adult Population of West Bengal (India) Kaushik Chakraborty A488 Blood Eosinophils Could Predict Sputum Eosinophilia? : A Comparison Between Asthma and Non-Asthmatic Chronic Cough in the Elderly Ha Kyeong Won, Ju-Young Kim, Eun-Jung Jo, Kyoung Hee Sohn, Kyung-Mook Kim, Heung Woo Park, Yoon-Seok Chang, Sang-Heon Cho, Woo-Jung Song, Byung-Keun Kim A489 Complementary and Alternative Medicine for Allergic Rhinitis in Japan Syuji Yonekura, Yoshitaka Okamoto A490 Impact of Cognitive Impairment on Asthma Control Status in Elderly Asthmatics Gyu Young Hur, Young Min Ye, Joo-Hee Kim, Ki-Suck Jung, Junga Kim, Jae Jeong Shim, Hae-Sim Park A491 The Association Between Respiratory Tract Infection and Reactive Oxygen Stress Kazuhiro Sekimoto, Kazuko Sugai, Keiji Tsuchimoto, Hiromi Uehara, Masanori Ikeda A492 The Risk Factors and Lung Function of Current Allergic Rhinitis Due to Dust Mite Sensitization Euncho Chung, Kang Seo Park, Yean Jung Choi, Jeewon Park, Soo-Jong Hong, So Yeon Lee A493 Cloning and Expression of Recombinant Blomia Tropicalis Dust Mite Allergen Blo t 7 Alain Jacquet, Arun Buaklin, Nat Malainual A494 Seasonal Variations of Airborne Pollen in Bangalore, India Roopashree S A495 Pollen Observation and Use of Data Kyu Rang Kim, Mijin Kim, Changbum Cho, Baek-Jo Kim, Jae-Won Oh, Mae Ja Han A496 The Effect of Cord Serum 25-Hydroxyvitamin D (25(OH)D) on the Development of Atopic Dermatitis in First 3 Years of Life : Cocoa Study Hyun-Ju Cho, Youn Ho Shin, Eun Lee, Young-Ho Kim, Darae Lee, Mi-Jin Kang, Song-I Yang, Kangmo Ahn, Kyung Won Kim, Yoon Hee Kim, Hye-Sung Won, Soo Hyun Kim, Suk-Joo Choi, Young Han Kim, Jong Kwan Jun, Eun-Jin Kim, Jeom Gyu Lee, So-Yeon Lee, Soo-Jong Hong, Dongin Suh A497 Contribution of Stem Cell Factor Autocrine/Paracrine Mechanism to Aberrant Proliferation of Mast Cells Yosuke Amagai, Akane Tanaka, Hiroshi Matsuda A498 A Randomized Dbpc Dose-Finding Multicenter Trial of Sublingual Immunotherapy (SLIT) Allergoid Tablets in House Dust Mites (HDM) Allergic Patients Ralph Mösges, Pauline Dieterich, Anatoli Astvatsatourov, Christoph Hüser, Jaswinder Singh, Kija Shah-Hosseini, Silke Allekotte, Enrico Compalati A499 Depression and Allergy in the Elderly: A Community Population Analysis Kyoung Hee Sohn, Woo-Jung Song, Byung-Keun Kim, Ju-Young Kim, Min Suk Yang, So-Hee Lee, Sae-Hoon Kim, Hye-Ryun Kang, Heung Woo Park, Sun-Sin Kim, Kyung-up Min, Sang-Heon Cho, Yoon-Seok Chang A500 The Integrated Analysis of Correlation Between Total IgE and Other Immunological Factors in Allergic Diseases Woo-Sung Chang, Ji-Hye Do, Yeon-Seop Kim, Dankyu Yoon, Hye-Sun Lim, Jeom-Kyu Lee, Eun-Jin Kim A501 Pattern of Allergic Diseases Among Military Servicemen Referred to a Clinical Immunology/Allergy Service in Singapore Bernard Thong, Yew Kuang Cheng, Jinfeng Hou, Khai Pang Leong, Justina Tan, Faith Chia, Grace Chan, Sze-Chin Tan, Teck Choon Tan, Chwee Ying Tang, Hiok Hee Chng A502 A Case of Rifampicin-Induced Hypersensitivity Diagnosed By the Lymphocyte Activation Test with Successful Desensitization Chan-Sun Park, Mi Yeoung Kim, Eun-Young Kim, Jae-Gook Shin, Jae-Hyeog Choi, Saegwang Park, Yeonye Kim A503 Analysis of Individual Case Safety Reports of Drug-Induced Anaphylaxis Based on Korea Adverse Event Reporting System Database Kyung-Hwan Lim, Jae Woo Jung, Mingyu Kang, Ju-Young Kim, Ju-Young Kim, Hyun Jeong Kim, Yeon-Ju Woo, Soo-Youn Jung, Hye-Ryun Kang, Hye-Ryun Kang A504 Impact of Processes Certification on the Liability of Anti-Dust Mites Bed Covers Thierry Porée, Nabile Boukhettala, Emeline Furon A505 Localisation Kinetics of Aluminium after Subcutaneous Injection in a Rat Model Alan David Bullimore, Matthew Heath, Simon Hewings, Murray Skinner A506 Periostin Levels in Exhaled Breath Condensate of Competitive Athletes, Asthmatics and Healthy Subjects - Associations with Outdoor Ambient Conditions Marcin Kurowski, Hubert Krysztofiak, Aleksandra Wardzynska, Marzanna Jarzebska, Janusz Jurczyk, Marek L. Kowalski A507 The Role of PKR Pathway in Acute Exacerbation of Severe Bronchial Asthma So Ri Kim, Yong Chul Lee, Dong Im Kim, Yang Keun Rhee, Heung Bum Lee, Seoung Ju Park, Yeong Hun Choe Choe, Seung Yong Park A508 Diversity of Clinical Manifestations and Treatment Responses for Idiopathic Hypereosinophilic Syndrome Joo-Hee Kim, Sunghoon Park, Young Il Hwang, Seung Hun Jang, Ki-Suck Jung A509 Effect of Dexamethasone in Th17 Cell Mediating Neutrophilic Asthma Nong Guang-Min, Jiang Min A510 Allergen Profile for Asthma/Rhinitis and Eczema Among Patients in North India: An Immunocap Allergen Specific IgE Antibodies Assay Based Study Nalin Nag A511 Clinical Profile of Allergic Rhinitis in Children in Jakarta Wahyuni Indawati A512 Preclinical Study on the Use of Micro Crystalline Tyrosine (MCT) Adjuvants in Allergy Immunotherapy Alan David Bullimore, Matthew Heath, Murray Skinner A513 Genetic Diversity of Filaggrin Mutation and Its Clinical Implication in East Asian Atopic Dermatitis Patients Seong Jun Seo, Won Jong Oh A514 Protein and MPL Adsorption Capacities for MCT in Candidate Therapeutic Formulations for Use in Immunotherapy, Compared Against Existing Adjuvants Alan David Bullimore, Murray Skinner, Matthew Heath, Andrew Bell A515 Interleukin-22 Gene Variation in Inflammatory Bowel Disease Alireza Zarebidoki, Hournaz Hasanzadeh, Salman Sadeghzade, Nima Rezaei A516 Immunomodulatory Effects of Adipose-Derived Stem Cell Secretome in a Mouse Model of Asthma Kyu-Sup Cho A517 Diffuse Alveolar Hemorrhage with Positive Anti-Neutrophil Cytoplasmic Antibody in a Child : A Case Report Sung-Woo Kim, Moo-Young Oh A518 Clinical Analys the Serum TARC Levels As the Condition Index of Atopic Dermatitis in the Early Infancy Munemitsu Koizumi, Kazuyo Kuzume A519 An Analysis of the Filaggrin Gene Polymorphism in Korean Atopic Dermatitis Patients Kui Young Park, Won Jong Oh A520 A New Protocol for Wheat Oral Immunotherapy in Patients with Anaphylaxis Delara Babaie, Mohammad Nabavi, Fariborz Zandieh, Mehrdad Amir Moini, Zahra Chavoshzadeh, Hamideh Seifi, Mitra Sahragard, Mehrnaz Mesdaghi, Mohammad Hassan Bemanian A521 Clinical Characteristics of Filaggrin-Related Atopic Dermatitis Patients in Korea Sun Young Choi, Yeon a No A522 Early Allergy Diagnosis in Children - Self- Administered Questionnaire Vs Medical Verification Andrzej M. Fal, Dorota Kiedik, Agnieszka Muszynska, Iwona Pirogowicz A523 Asthma Impact on Children with Food Induced Anaphylaxis Chikako Motomura, Masatoshi Wakatsuki, Yuko Akamine, Mihoko Iwata, Hiroshi Matsuzaki, Naohiko Taba, Yoko Murakami, Hiroshi Odajima A524 Case Reports of Stevens-Johnson Syndrome and Stevens-Johnson Syndrome-Toxic Epidermal Necrolysis in Systemic Lupus Erythematosus Reni Ghrahani A525 The Effectiveness of Oral Tolerance Induction for Wheat Allergy Using Two Different Intake Levels Yuri Takaoka A526 Association of Plasma Interleukin-25 Levels with Development of Aspirin Induced Airway Spasm in Asthma Jong-Uk Lee, Jeong-Seok Heo, Da-Jeong Bae, Hyun Ji Song, Choon-Sik Park, Jong-Sook Park A527 Transition of Allergic and Nonallergic Rhinitis after 2 Years in Korean Children: Preliminary Study Jae Hoon Cho, Ji Ho Choi A528 Early Onset of Psoriasis Juvenile Idiopathic Arthritis Budi Setiabudiawan, Fiska Febriana, Reni Ghrahani, Gartika Sapartini A529 Clinical Features of Immediate Hypersensitivity to Histamine H2 Antagonists and Their Cross Reactivity Chan-Sun Park, Young-Hee Nam, Mi Yeoung Kim, Gil-Soon Choi A530 Detection of Galacto-Oligosaccharide Specific IgE in Vitro Chiung-Hui Huang, Chiung-Hui Huang, Jian Yi Soh, Lynette Shek, Lynette Shek, Dianne J. Delsing, Bee Wah Lee, Bee Wah Lee, Si Hui Goh, Wen Chin Chiang, Wenyin Loh A531 The Association Between Serum Vitamin D Levels and Allergic Diseases in Elementary Schoolchildren Hea-Kyoung Yang, Ji Young Lee, Minji Kim, Kangmo Ahn, Jihyun Kim, Young-Min Kim, Hye-Young Kim, Yong Mean Park, Woo Kyung KIM, So-Yeon Lee A532 Serum Levels Specific IgE to Toxic Shock Syndrome Toxin Type 1 in Eosinophilic Chronic Rhinosinusitis with Nasal Polyp in Korean Jongin Jeong, Sang Duk Hong, Seung Kyu Chung, Hun-Jong Dhong, Hyo Yeol Kim Hyo Yeol Kim, Sujin KIM A533 Impacts of Rhizosphere Cleaning Effects of Potted Indoor Plants on the Symptoms and Stress of Students with Allergic Rhinitis in Newly Built Schools Yong-Won Lee, Hana Bak, Hye-Rim Son, Si-Eun Lee, Kwang-Jin Kim, Young-Wook Lim, Ho-Hyun Kim A534 A Case of Multiple Food Allergies with Recurrent Anaphylaxis Successively Controlled By Omalizumab Mi-Ae Kim, Man Yong Han, Young-Ho Jung, Hye Mi Jee, Seung Jin Lee, Kyung Suk Lee A535 Bepotastine-Induced Urticaria, Cross-Reactive with Other Antihistamines Jasmina Golez, Jaechun Lee, Eunkyoung Lee A536 Role of SLC26a4 in Ozone - Induced Airway Reactivity and Inflammation Da-Jeong Bae, Chang-Gi Min, Jong-Uk Lee, Jong-Sook Park, Hun Soo Chang, Choon-Sik Park, An-Soo Jang A537 PAR2-Antagonist Suppresses Protease-Induced Allergic Inflammation Mediated By Degradation of Lung Epithelial Tight Junction and Generation of ROS Young-Joon Kim, Bok Kyoung Jung, Seung-Hwa Lee, Mi-Jin Kang, Sekyoo Jeong, Eun Lee, Hyun-Ju Cho, Young-Ho Kim, Song-I Yang, Seo Hee Kim, Soo-Jong Hong A538 Novel Anti-IL-4Ra Nanocarrier Approach for the Efficient Control of Lung Tissue Inflammation during Asthma Rabih Halwani, Saleh Al Muhsen, Asma Sultana, Achraf Al-Faraj, Rosan Kanana, Sibtain Afzal, Roaa Al Kufaidi A539 Clinical Factors for Improved Allergen Reactivities Induced By Subcutaneous Allergen Specific Immunotherapy with House Dust Mites during 1 Year Period Hee-Kyoo Kim, Chul-Ho Oak, Gil-Soon Choi, Ye-Jin Moon, Eun-Kee Park A540 Cytokine Gene Polymorphisms in Iranian Patients with Kidney Acute Rejection Alireza Zarebidoki, Mina Abrari, Ali Akbar Amirzargar A541 Phthalate Exposure and Obesity in Atopic Dermatitis of Korean Children and Adolescents Ju-Hee Seo, Mina Ha, Soo-Jong Hong A542 Which Drives Chronicity of Cough in Adults: Based on the Knhanes 2010-2012 Mingyu Kang, Byung-Ha Cho, Han-Ki Park, Han-Ki Park, Kyung-Mook Kim, Chang-Han Park, Heung Woo Park, Heung Woo Park, Yoon-Seok Chang, Yoon-Seok Chang, Yoon-Seok Chang, Sook-Hee Song, Mi-Kyeong Kim, Mi-Kyeong Kim, Sang-Heon Cho, Suk-Il Chang, Kyung-up Min, Kyung-up Min, Alyn Morice A543 Elevated Airway CD45RO Memory Cells in Wheezing Children with Lower Respiratory Infection Jungi Choi, Yusok Han, Jin-Sung Park, Eunmi Kwon, Chang-Keun Kim A544 Quality of Life in Obese Children with or without Atopic Disease Gartika Sapartini A545 Relation of Human microRNA in Sputum of Asthma with Influenza A Virus Infection-Induced Exacerbation Ji-Na Kim, Seungwoo Shin, Hun Soo Chang, Eun-Young Shim, Ji Ah Jun, Hyeonju Lee, Jong-Sook Park, Choon-Sik Park A546 Aeropolinologic Monitoring and Distribution of Allergoallergens in Western Georgia Revaz Sepiashvili, Darejan Khachapuridze, Sofio Gamkrelidze, Manana Chikhladze A547 Extracorporeal Membrane Oxygenation As Emergency Treatment for Patients with Near-Fatal Status Asthmaticus Seung-Eun Lee, Yun-Seong Kim, Doo-Soo Jeon, Woo-Hyun Cho, Hye-Ju Yeo, Seong-Hoon Yoon, Seung-Hyun Kim A548 Relationship of S100calcium Binding Protein A9 with Neutophilic Inflammation in Murine Asthma Model Taehyeong Lee, Hyun Ji Song, Choon-Sik Park, Ji Ah Jun, Jong-Sook Park A549 Whole-Exome Sequencing of Aatopic Dermatitis in Korean Childhood Dankyu Yoon, Yeon-Seop Kim, Woo-Sung Chang, Mi-Jin Kang, Soo-Jong Hong, Jeom-Kyu Lee, Eun-Jin Kim A550 A Case of Generalized Molluscum Contagiosum in an Adult Patient with Severe Atopic Dermatitis Minkee Park A551 Discovery of Putative Macadamia Nut Allergens By Patient IgE Binding and a Label-Free Shotgun Proteomics Approach Nanju Alice Lee, Johanna Rost, Sridevi Muralidharan, Dianne Campbell, Sam Mehr A552 Anti-FcÎμri Antibody Inhibits Allergic March in Mice By Suppressing Th17 Pathway Via Suppression of FcÎμri-Mediated Mast Cells Activation Seung-Hwa Lee, Seon-Joo Yoon, Ha-Jung Kim, Eun Lee, Song-I Yang, Young-Ho Jung, Ho-Sung Yu, Hee-Suk Kim, Yeon Hee Park, So-Yeon Lee, Jun-Sung Park A553 Clinical Characteristics and the Associated Factors of ATG Hypersensitivity Reaction Ha Kyeong Won, Min-Koo Kang, Sung Do Moon, Byung-Keun Kim, Ju-Young Kim, Sang-Heon Cho, Hye-Ryun Kang, Ji-Su Shim, Soo Jie Chung A554 Reference Value and Utility of Total Serum Immunoglobulin E in Korean Schoolchildren Jaehee Choi, Kangmo Ahn, Kwanghoon Kim, Jihyun Kim, Jiyoung Lee A555 Two-Step Prescreening Skin Testing May be Useful for Reducing Immediate Hypersensitivity Reaction to Nonionic Contrast Media: Results of 7-Year Period in a Secondary Hospital Bo Bae Park, In Young Nho, Chang-Han Park, Jang Min Kim, Suk-Il Chang A556 Prevalence of Allergic Sensitization in Patients with Allergy Rhinitis; Gwangju, Jeonnam State Study Sun Kyung Kim, Hyung Chae Yang, Kwang Il Nam A557 Analysis of IgE Binding Components of Walnut in Korean Children Effect of Cooking Methods on the Allergenicity of Walnut Proteins Jeongmin Lee, Jeongmin Lee, Sooyoung Lee, Kyunguk Jeong, Se-Ah Jeon A558 Assessment of Autonomic Nervous Function in Subjects with Cholinergic Urticaria Associated with Acquired Idiopathic Generalized Anhidrosis Midori Fujiwara, Shoko Shindo, Hiroyuki Murota, Mayuko Tahara, Aya Takahashi, Ichiro Katayama A559 Interleukin 1 Beta in Sputum of Patients with Asthma: Relation with Airway Obstruction and Neutrophilc Inflammation Jae Woo Jung, Hyun Ji Song, Taehyeong Lee, An-Soo Jang, Jong-Sook Park, Hun Soo Chang, Choon-Sik Park, Byoung Whui Choi A560 Interleukin 8 in Sputum of Patients with Asthma: Relation with Neutrophilc Inflammation and Exacerbation Min-Hye Kim, Da-Jeong Bae, Hyun Ji Song, Taehyeong Lee, Ji Ah Jun, Jong-Sook Park, An-Soo Jang, Hun Soo Chang, Young Joo Cho, Choon-Sik Park A561 Prostaglandin E2 and Transforming Growth Factor-Î(2) Play a Critical Role in Suppression of Allergic Airway Inflammation By Adipose-Derived Stem Cells Sue Jean Mun A562 Inhalation of Fine Particles Kill Alveolar Macrophages to Release IL-1alpha That Promote Inducible Bronchus-Associated Lymphoid Tissue (iBALT) Formation Etsushi Kuroda, Koji Ozasa, Ken Ishii A563 Association Between Smoking and Allergic Diseases in the Korean Adult General Population Sunmi Kim, Gyeong-Hun Park A564 Relationship of S100 Calcium Binding Protein A9 with Inflammasome Activation in Murine Asthma Model Hyun Ji Song, Taehyeong Lee, Ji Ah Jun, Hun Soo Chang, Jong-Sook Park, Choon-Sik Park A565 Cluster Analysis of Asthma Phenotypes to Predict Exacerbation in Korean Population Mi-Ae Kim, Seungwoo Shin, Jong-Sook Park, Hun Soo Chang, You Sook Cho, Hae-Sim Park, Choon-Sik Park A566 Effect of AG490 on the Expression of TH17 CELLS and Tregs in the MOUSE MODEL of Neutrophilic Asthma Zhang Min A567 Association Between the Clinical Characteristics and Disease Severity in Hospitalized Bronchiolitis Patients Younger Than Two Years Old Seo Hee Yoon, In Suk Sol, Young a Park, Yoon Hee Kim, Min Jung Kim, Kyung Won Kim, Myung Hyun Sohn, Kyu-Earn Kim A568 Comparison Between House Dust Mite and Aspergillosis Sensitization in Patients with High Level of Tige Wu Shiquan A569 The Prevalence of Metal Allergy in the Patients with Orthodontic Appliance Yongwon Lee, Hana Bak A570 Component Resolved Diagnosis and Single Nucleotide Polymorphism Analyses: Towards the Development of Specific Immunotherapy for Allergy Maricar Wisco Ching, John Donnie Ramos A571 Clinical Features of Anaphylaxis Caused By Peanut, Tree Nuts and Seeds in Children and Adolescents: Multi-Center Study with 126 Patients Kyunguk Jeong, Sooyoung Lee, Kangmo Ahn, Myung Hyun Sohn, Kyung Won Kim, So-Yeon Lee, Tae Won Song, Youhoon Jeon, Jihyun Kim, Taek Ki Min, Kyu-Earn Kim, Bok-Yang Pyun, Hyeon-Jong Yang, Hae Ran Lee, Youngmin Ahn, Ji-Won Kwon, Dae Hyun Lim, Jeong Hee Kim, Dongin Suh, Hyung Young Ki A572 A Report of Two Cases of Anaphylaxis Caused By Perilla Seed in Children Kyunguk Jeong, Byeong Sub Park, Sooyoung Lee, Se-Ah Jeon, Kyu Jung Park A573 Prenatal Fine Particulate Matter Affects Wheezing in Children with TLR4 Polymorphism: Cocoa Study Song-I Yang, Eun Lee, Hyun-Ju Cho, Young-Ho Kim, Mi-Jin Kang, Yean Jung Choi, Kil Yong Choi, Youn Ho Shin, Kangmo Ahn, Kyung Won Kim, Byoung-Ju Kim, So-Yeon Lee, Eun-Jin K A574 Intensified B Lymphocyte Depletion (IBLD) without Immunosuppressive Maintenance Treatment As a Rescue Therapy in Refractory Lupus Nephritis (LN): a 4-Year Observation. Roccatello Dario A575 Relationship Between Th17 Cells and Neutrophilic Airway Inflammation in Childhood Neutrophilic Asthma Jing Liao A576 Clinical Applications of Impulse Oscillometry in Asthma Management after Exacerbation in Preschool Children Yong Feng, Yunxiao Shang A577 Contact Allergy to Sodium Sulfite and Its Relationship to Facial Cosmetic Contact Dermatitis Yongwon Lee, Hana Bak A578 Effect of Exposure to Air Pollution on Asthma and Lung Function Development Hyung Young Kim, Byoung-Ju Kim, Ji-Won Kwon, Ju-Hee Seo, Eun Lee, So-Yeon Lee, Song-I Yang, Young-Ho Jung, Hyo-Bin Kim, Ho-Jang Kwon, Hee Ju Park A579 Role and Relational Mechanism of AG490 in Airwayinflammation in the Mouse Model of Neutrophilic Asthma Zhang Min, Nong Guang-Min, Jiang Min A580 Incidence of Adverse Reaction to Radioconstrast Media in a Single Tertiary Hospital Gyu Young Hur, Eun Jung Sim, Sora Yoon, Juwhan Choi, Junga Kim, Jae Keom Sim, Jee Youn Oh A581 Cow’s Milk Oral Food Challenge: Clinical and Laboratory Features in Korean Children Kyunguk Jeong, Byeong Sub Park, Jeong-Min Lee, Sooyoung Lee, Eunjae Cheon, Youngjoo Na, Kyu Jung Park, Eunjoo Lee A582 Validation of the Red Maple Trials Allergen Challenge Theatre for Ragweed Pollen Challenge William Yang, Suzanne Kelly, Rob Perrins, Jimmy Yang A583 Preliminary Evaluation of the Red Maple Trials Allergen Challenge Theatre for Grass Pollen William Yang, Suzanne Kelly, Rob Perrins, Jacob Karsh, Jimmy Yang A584 The Association Between Tobacco and the Risk of Asthma in Urban and Rural Children in San Francisco, Argentina Hector Badellino, Alvaro Teijeiro, Mabel Cuello, Marilyn Urrutia Pereira, Gustavo Egues A585 The Prevalence of Allergic Rhinitis in University Students in Manisa Ayse Aktas A586 Allergen Sensitization in Zimbabwean Children with Atopic Dermatitis Jin-Kyong Chun, Hilda Angela Mujuru, Elopy N Sibanda A587 Vitamin D Insufficiency in Asthmatic Patients Andreea Ioana Popescu, Raluca Greblescu A588 The Prevalence of Hypersensitivity Reactions Against Drugs Among University Students. Suheyla Rahman, Ayse Aktas A589 Sublingual Immunotherapy Among Problematic Patients, Suffering from Allergic Rhinitis. Nataly Tataurshchikova A590 A Novel Biomarker for Wheezing and Atopy in Early Infancy Eishika Dissanayake, Yuzaburo Inoue, Naoki Shimojo, Taiji Nakano A591 Prognostic Factors for Atopic Dermatitis in Spontaneously Born Babies from Low Socioeconomic Background Conny Tanjung A592 Higher IgE Antibody Levels Mediate Anti-Cancer Immunity in Transgenic KN1 Hyper-IgE Mice Erika Jensen-Jarolim, Judit Fazekas, Josef Singer, Anna Lukschal, Reinhard Horvat, Gertrude Achatz-Straussberger, Gernot Achatz A593 Fructooligosaccharides Intake during Pregnancy and Lactation Increases Gut Bifidobacterium and IL-27 in Breast Milk Yuji Fujita, Shuji Ikegami, Yoshitaka Nakamura, Yuzaburo Inoue, Naoki Shimojo, Yoichi Kohno, Shuichi Suzuki, Naoko Ozawa, Takayuki Kubota, Ken Nonaka, Osamu Ohara, Kentaro Masuda A594 Effect of Nintedanib on Asthma in Mouse Model Chin Kook Rhee, Sook Young Lee, Hwa Young Lee, Hea Yon Lee, Ji Young Kang, Sei Won Kim, Soon Seog Kwon, Young Kyoon Kim A595 Delayed Contrast Media Hypersensitivity after Coronary Angiography Gun-Woo Kim, Ju-Young Kim, Sang-Heon Cho, Hye-Ryun Kang, Hyo-Soo Kim, Jung Gyu Han, Jin Lee, Ji Young Lee, Ji Young Go, So Jung Park A596 Gene Expression Profiling in Patients with Chronic Idiopathic Urticaria Reveals Unique Gene Signature Distinct from Healthy Controls Julie Kim-Chang, Cassandra Love, Patricia Lugar A597 Failure to Recognize Lymphopenia in Newborn Leads to Undetectable Primary Immunodeficiency Endah Citraresmi A598 The Concordance Between Lung Function Test and Indonesian Version of Childhood Asthma Control Test (CACT) Nastiti Kaswandani, Cynthia Utami, Mardjanis Said A599 Synergistic Interaction Between Bronchiolitis and PM(10) Is Modified By IL-13 Polymorphism on Asthma Development: Replication from Cheer Study Young-Ho Jung, Song-I Yang, Byoung-Ju Kim, Ji-Won Kwon, Hwan-Cheol Kim, Jong-Han Leem, Ju-Hee Seo, Hyung Young Kim, So-Yeon Lee, Ho-Jang Kwon, Hyo-Bin Kim, Hyun-Ju Cho A600 The Transcription Factor Ehf Is Involved in TGF-b-Induced Suppression of Fceri and c-Kit Expression and Fceri-Mediated Activation in Mast Cells Susumu Yamazaki, Nobuhiro Nakano, Asuka Honjoh, Eisuke Inage, Yosuke Baba, Yoshikazu Ohtsuka, Toshiaki Shimizu A601 The Follow up of the Potential Immunosuppressant Effects of Marijuana (MJA) Ishaq M, Sameera MI Khan, Imran Khan, Sabeen Khan A602 Risk Factors of Allergen Sensitization at 3 Years: Results from the Gusto Study Evelyn Xiu Ling Loo, Anne Goh, Oon Hoe Teoh, Yiong Huak Chan, Seang Mei Saw, Kenneth Kwek, Peter D Gluckman, Keith M Godfrey, Hugo Van Bever, Yap Seng Chong, Bee Wah Lee, Lynette Shek, Alison Joanne Lee A603 IL-6 Blockade As a Steroid-Sparing Treatment for Rhupus Patients Daniela Rossi A604 Examination of Late Pulmonary Toxicity in Children Treated for Malignancies Agnes Nemeth A605 Technical Validation of the Repurposing of a Personal Particle Sampler to Determine House Dust Mite Exposure in the Ambient Air Torsten Sehlinger, Karl-Christian Bergmann, Frank Goergen A606 Zinc Deficiency in Children with Severe Atopic Dermatitis: More Common Than Generally Thought Mohammad S. Ehlayel, Abdul Bari Bener A607 Strong Association Between HLA-B*5801 Allele and Allopurinol – Induced Severe Cutaneous Adverse Reactions in Vietnamese Hieu Chi Chu, Nga Thi Quynh Do, Dinh Van Nguyen, Ha Thi Thu Nguyen, Huong Thi Minh Le, Sheryl Van Nunen, Christopher Vidal, Suran Fernando A608 Successful Rapid Desensitization to Glatiramer Acetate: Report of 2 Cases Fotis Psarros, Ekaterini Syrigou, Ekaterini Politi, Spyridon Chrysoulakis A609 Asthma Exacerbations Seasonal Variation in Two Perennial Phenotypes during Twenty Years (1995-2014): House Dust Mite Monosensitized and Non Atopic Patients Dimitrios Vourdas, Konstantinos Petalas A610 Occupational Allergy to Fungal Spores Among the Farmers of Paddy Fields in West Bengal, India: An Aeromycological and Immunological Approach Mouli SAHA, Kashinath Bhattacharya A611 Study of Efficacy of Sublingual Immunotherapy (SLIT) in Cases of Severe Persistent Allergic Rhinitis Subir Jain A612 Mesenchymal Stem Cells Suppress Lung Inflammation and Airway Remodeling in Chronic Asthma Rat Model Via PI3K/Akt Signaling Pathway Mesenchymal Stem Cells Suppress Lung Inflammation and Airway Remodeling in Chronic Asthma Rat Model Via PI3K/Akt Signaling Xiaolian Song, Haiyan Lin A613 Development of Allergen ELISA Kits for Dust Mites, Pollen, and Pet Dander Kyohei Nishikawa, Takashi Shimada, Hiroshi Yasueda, Tadao Enomoto, Daisuke Aizawa, Takayoshi Kobayashi A614 Yoga As a Lifestyle Modification to Improve the Quality of Life in Smokers with Allergic Rhinitis Chellaa R A615 Study of Incidence of Severe Persistent Allergic Rhinitis in Different Age Groups,Sex Prevalance and Type of Allergen” Aeroallergen or Food Allergen” Responsible for Severe Persistent Allergic Rhinitis in Central India Subir Jain A616 Causative Allergens in Cases of Severe Persistent Allergic Rhinitis in Central India Subir Jain A617 Atopic Dermatitis: A New Data on the Mechanisms of Chronic Pruritus Marina Yudina A618 The Efficacy and Safety of Peanut Oral Immunotherapy in High-Dose with Predicting Factors Ishaq M, Sameera MI Khan, Imran Khan, Sabeen Khan A619 Evaluation of Long-Term Prognosis and Topical Corticosteroid Usage after One Year of Proactive Treatment for Children with Moderate-to-Severe Atopic Dermatitis Mayako Saito A620 Allergy Symptoms in the First Two Months of Life Nurul Iman Nilam Sari A621 Factors Related to the Seasonal Variation of Allergic Rhinitis Jae Young Kim, Jaechul Song, Inah Kim, Kyeong Joon Lee, Soo Jin Park, Soo Yong Roh A622 Allergic Risk Survey in Lao Children at out-Patient Department, Children’s Hospital, Vientiane Capital, Lao PDR Somxay Billamay A623 Correlation Between Food Allergy, Aeroinhalant Allergy, Allergic Rhinitis, Atopic Dermatitis, and Acute Upper Respiratory Tract Infections and Levels of Severity of Asthma in Pediatric Medicine Department Saiful Anwar Hospital Indonesia Muchammad Fahrul Udin A624 Comparative Study of Pine, Oak, and Ginkgo Pollen Counts in Korea during Last Four Years Mae Ja Han, Jae-Won Oh, Kyu Rang Kim, Baek-Jo Kim A625 Effectiveness of Allergy-Test Directed Elimination Diets in Eosinophilic Esophagitis Jorge A Mazza, Jason Kangeun Ko, David JT Huang A626 Comparison of Cut-Off Values and Probability Curves for Egg Specific IgE in Diagnosis of Egg Allergy in Young Children Kanae Furuya, Keigo Kainuma, Takahiro Ito, Mizuho Nagao, Takao Fujisawa, Junya Hirayama, Yu Kuwahara A627 A Case of Persistent Atopic Dermatitis Associated with Parasitic Infection Rosanna Qualizza, Cristoforo Incorvaia, Anna Maraschini A628 Aeroallergenic Profile of Indoor Allergens and Their Clinical Relevance in Allergy and Asthma Patients in Saudi Arabia Syed Mohammed Hasnain, Abdulrahman Al-Frayh A629 Oral Exposure to the Amino Acid Glycine Inhibits the Onset of Allergic Disorders Anita Hartog, Jacqueline Bastiaans, Reinilde Loonstra, Lieke Rutten, Lucien Harthoorn, Jeroen Van Bergenhenegouwen, Johan Garssen, Johan Garssen A630 Cough As a Key Symptom in Asthma, Allergic Rhinitis, COPD and Rhinosinusitis and Its Impact in Korea Kwang-Ha Yoo, Sang-Heon Cho, AG Ghoshal, Abdul Razak Bin Abdul Muttalif, Horng- Chyuan Lin, Sanguansak Thanaviratananich, Shalini Bagga, Rab Faruqi, Santwona Baidya, Colman Taylor, De Yun Wang, Hae-Ryun Ahn, Soon-Kwan Hong, Jong-Woong Kim, Gui-Hyun Nam, Mee-Ja Kim, Jae-Kyoung Park A631 Cysteine Protease Allergen Def f 1 Induces Th2 Cytokines in Mouse Bone Marrow Derived Basophils Via ERK and JNK Dependent Pathways Myung-Hee Yi, Kyoung Yong Jeong, Ju-Yeong Kim, Tai-Soon Yong A632 Novel Multiple Allergy Testing Kit Using Parallel Lines Array (PLA) Technology Bum Joon Kim, Hs Joo, Kj Lim, Jae-Hyun Lee, Jung-Won Park, Kh Yoon, DS Choi A633 Quantitative Rapid Kit for Human Immunoglobulin Hanseung Joo, Bum Joon Kim, Kj Lim, MJ KIM, DS Choi, Kh Yoon A634 Total IgE Measurement By Protia Allergy-Q: Comparison Study with Immunocap Bum Joon Kim, Hanseung Joo, Woo Sang Jung, Kj Lim, DS Choi A635 Prevalence and Risk Factors of Asthma Among Korean Farmers Ji-Hoon Lee, Soon-Chan Kwon, Soo-Jin Lee, Soo Yong Roh, Hogil Kim, Kyeong Joon Lee A636 Dietary Intake and Perceived Immune Status in Young Dutch Women Aurora Van De Loo, Amanda Fernstrand, Johan Garssen, Joris Verster A637 The Effects of Antihistamine Drugs on on-Road Driving Performance Aurora Van De Loo, Johan Garssen, Joris Verster A638 Grass Is Guilty: A Case of Anaphylactic Shock and Asthmatic Status in the Same Time in an Individual Jasmina Golez A639 Cyclic Gamp-AMP(cGAMP) Induces Allergic Inflammation Koji Ozasa, Etsushi Kuroda, Ken Ishii, Ken Ishii A640 Role of Omalizumab in the Setting of Recalcitrate Dermatitis with Extremely Elevated IgE Levels Muhammad Imran, Selina Gierer, John Martinez A641 Follow-up Study on the Natural History of Prawn Allergy Lydia Wong, Bee Wah Lee, Gaik Chin Yap, Genevieve Llanora, Bernard Thong, Lynette Shek A642 Protein-Losing Dermopathy Impairing Growth in Children with Severe Atopic Dermatitis Mohammad S. Ehlayel, Ashraf Soliman A643 Airways Assessment of Aged Nursing Homes Residents Pedro Martins, João Marques, Joana Gomes-Belo, Teresa Palmeiro, Iolanda Caires, Joana Belo, Maria Amália Botelho, Paula Leiria-Pinto, Nuno Neuparth A644 Use of Skin Prick Test, Specific IgE to Shrimp and Rpen a1 to Determine Clinical Reaction to Shrimp in Area with High Prevalence of House Dust Mite Sensitization Narissara Suratannon, Jaichat Mekaroonkamol, Jarungchit Ngamphaiboon, Piyawadee Lertchanaruengrith, Pantipa Chatchatee A645 Identification of Specific IgE-Binding Proteins in Tree of Heaven (Ailanthus altissima) Pollen Gholamali Kardar, Ahmad Majd, Youcef Shahali, Farrokh Ghahremaninejad, Zahra Pourpak, Fateme Mousavi A646 Allergy Immunotherapy Well Tolerated in Children Mahnaz Sadeghi-Shabestari A647 Steinert (DM1) Patients Have IgG1 Deficiency and Should be Screened for Immune Deficiency K. Van Bilsen, O. Manusama, W.a. Dik, M. Van Der Burg, V. H. J. Van Der Velden, V.a.S. H. Dalm, P. M. Van Hagen A648 The Change of Serous Sige and Three Evaluation before and after Sublingual Immunotherapy with Dermatophagoides Farinae for Persistent Allergic Rhinitis Yongping Liu A649 Garlic Extracts Reduce Histamine-Induced Proliferation and Migration of Human Asthmatic Bronchial Smooth Muscle Cells Yi Yeong Jeong A650 A Case of Occupational Contact Dermatitis Caused By N-Acetylcysteine Ji Hye Kim, Moon Gyeong Yoon, Young Min Ye, Yoo Seob Shin, Ga Young Ban, Hae-Sim Park, Hye Min Jung A651 The Association Between Pollen Change and Asthma Attacks Soo Yong Roh, Jaechul Song, Ji-Hoon Lee, Hogil Kim, Jae Young Kim, Kyeong Joon Lee A652 Incidence of Emergency Department Visits and Hospitalizations for Asthma Exacerbations during the Lunar Month in Singapore Lydia Wong, Mohana Rajakulendran, Haripriya Santhanam, Lynette Shek, Tow Keang Lim A653 The Prevalence of Positive Reaction for Skin Prick Test in Korean Farmers and Its Occupational Risk Factors Hogil Kim, Soo-Jin Lee, Ji-Hoon Lee, Soo Yong Roh, Soon-Chan Kwon A654 Drug Allergy in Children: A Three-Years Experience at Dr. Kariadi Hospital Semarang Indonesia Wistiani, Galuh H, Ani Wistiani A655 The Identification of Morphology, Structure and Study of Seasonal Variation of Airborne Fraxinus Excelsior Pollen Grains in the Tehran Gholam Ali Kardar, Maryam Sharifshoushtari, Ahmad Majd, Taher Nejadsattari, Zahra Pourpak, Mostafa Moin A656 Sublingual Immunotherapy in Elderly Rhinitis Patients Sensitized to House Dust Mites Ji Hye Kim, Daehong Seo, Young Min Ye, Hae-Sim Park, Jung-Won Park, Jae-Hyun Lee, Yoo Seob Shin A657 Healthy Ageing Research Center (HARC) As a Platform for Multidisciplinary Approaches to Respiratory Research in the Elderly Marek L. Kowalski, Aleksandra Wardzynska, Marcin Kurowski, Malgorzata / Ewa Pawelczyk, Adam Wysokinski, Iwona Kloszewska, Janina Grzegorczyk, Wojciech Piotrowski, Joanna Makowska A658 Estimation of Cases of Work-Related Asthma Using Capture-Recapture Methods Soon-Chan Kwon, Jaechul Song, Yong-Kyu Kim A659 Primary School Students’ Parents Reported ISAAC Questionnaire in a Low Income Area of Ankara Ilknur Bostanci, Zeynep Sengul Emeksiz, Aysegul Ertugrul, Serap Ozmen, Soner Sahin A660 Usefulness of PC20 Adenosine Monophosphate in Diagnosis and Treatment in Bronchial Asthma Sang-Ha Kim, Myoung Kyu Lee, Won Yeon Lee, Suk Joong Yong, Seok Jeong Lee, Ye-Ryung Jung A661 S100 Calcium Binding Protein A9 in Sputum of Patients with Steroid Naive Asthma: Relation with Airway Obstruction and Nneutrophilc Inflammation Myung Shin Kim, Jong-Sook Park, An-Soo Jang, Choon-Sik Park A662 Risk Factor Asthma in Pediatric Pneumonia Patients Diah Asri Wulandari, Cissy Kartasasmita A663 Prevalence and Risk Factors of Childhood Asthma and Allergic Disease at Exposed Area By Emission of Cement Padang Factory Finny Fitry Yani, Rizanda Machmud, Dhina Lydia Lestari A664 Association Between Serum Level of 25-Hydroxyvitamin D with Atopic Dermatitis Occurrence and Severity in Children Rusdi Rusdi, Yurmalina Yurmalina, Eryati Darwin A665 Thiol-Disulfide Balance in Children with Atopic Dermatitis Ilknur Bostanci, Gulin Karacan, Nazli Ercan, Asuman Colak, Murat Alisik, Gulay Basarir, Ozcan Erel A666 Recurrent Mouth Ulsers Caused By Braces after Developing a Nickel Allergy in Children Ilknur Bostanci, Yasemin Keskin A667 Anaphylactic Reaction to Famotidine with Pheniramine Hypersensitivity Ilkay Koca Kalkan A668 Novel Transcriptomic and Immunoproteotomic Approaches in Identifying Cross-Reactive Allergens Between Crustacean and Molluscs Andreas/Ludwig Lopata, Kyall Zenger, Roni Nugraha, Sandip Kamath A669 Pollen Season and Climate Change in the Continental United States (CONUS) Leonard Bielory, Panos Georgopoulos, Yong Zhang, Wheat Mi, Ting Cai A670 Differences of Change in Der p IgG4 and CD4+CD25+FoxP3+ Treg Cells Between Sublingual and Subcutaneous Immunotherapy with House Dust Mite in Chinese Patients with Allergic Rhinitis MO Xian, Jing Li, Mulin Feng\n"
     ]
    }
   ],
   "source": [
    "print(metadata.loc[25198]['abstract'])\n",
    "# we used this code to check the full authors column of number 1"
   ]
  },
  {
   "cell_type": "code",
   "execution_count": 30,
   "metadata": {},
   "outputs": [
    {
     "name": "stdout",
     "output_type": "stream",
     "text": [
      "Crystal structure of murine sCEACAM1a[1,4]: a coronavirus receptor in the CEA family\n"
     ]
    }
   ],
   "source": [
    "print(metadata.loc[1]['title'])\n",
    "# we used this code to check the full title column of number 1"
   ]
  },
  {
   "cell_type": "markdown",
   "metadata": {},
   "source": [
    "## Data Visualization"
   ]
  },
  {
   "cell_type": "markdown",
   "metadata": {},
   "source": [
    "##### Count Visualization"
   ]
  },
  {
   "cell_type": "code",
   "execution_count": 31,
   "metadata": {},
   "outputs": [
    {
     "name": "stdout",
     "output_type": "stream",
     "text": [
      "True     45763\n",
      "False    14124\n",
      "Name: has_pdf_parse, dtype: int64\n"
     ]
    }
   ],
   "source": [
    "print(metadata['has_pdf_parse'].value_counts())"
   ]
  },
  {
   "cell_type": "code",
   "execution_count": 32,
   "metadata": {},
   "outputs": [
    {
     "data": {
      "image/png": "[encoded data removed]",
      "text/plain": [
       "<Figure size 432x288 with 1 Axes>"
      ]
     },
     "metadata": {},
     "output_type": "display_data"
    }
   ],
   "source": [
    "metadata['has_pdf_parse'].value_counts().plot(kind='pie')\n",
    "plt.show()"
   ]
  },
  {
   "cell_type": "code",
   "execution_count": 33,
   "metadata": {},
   "outputs": [
    {
     "name": "stdout",
     "output_type": "stream",
     "text": [
      "False    37036\n",
      "True     22851\n",
      "Name: has_pmc_xml_parse, dtype: int64\n"
     ]
    }
   ],
   "source": [
    "print(metadata['has_pmc_xml_parse'].value_counts())"
   ]
  },
  {
   "cell_type": "code",
   "execution_count": 34,
   "metadata": {},
   "outputs": [
    {
     "data": {
      "image/png": "[encoded data removed]",
      "text/plain": [
       "<Figure size 432x288 with 1 Axes>"
      ]
     },
     "metadata": {},
     "output_type": "display_data"
    }
   ],
   "source": [
    "sns.set_style('darkgrid')\n",
    "sns.countplot(metadata['has_pmc_xml_parse'])\n",
    "sns.despine()"
   ]
  },
  {
   "cell_type": "code",
   "execution_count": 35,
   "metadata": {},
   "outputs": [
    {
     "name": "stdout",
     "output_type": "stream",
     "text": [
      "custom_license        44075\n",
      "comm_use_subset        9593\n",
      "biorxiv_medrxiv        3073\n",
      "noncomm_use_subset     2365\n",
      "arxiv                   781\n",
      "Name: full_text_file, dtype: int64\n"
     ]
    }
   ],
   "source": [
    "print(metadata['full_text_file'].value_counts())\n",
    " "
   ]
  },
  {
   "cell_type": "code",
   "execution_count": 36,
   "metadata": {},
   "outputs": [
    {
     "data": {
      "image/png": "[encoded data removed]",
      "text/plain": [
       "<Figure size 720x432 with 1 Axes>"
      ]
     },
     "metadata": {},
     "output_type": "display_data"
    }
   ],
   "source": [
    "plt.figure(figsize=(10,6))\n",
    "metadata['full_text_file'].value_counts().plot(kind='area',color='blue')\n",
    "plt.show()"
   ]
  },
  {
   "cell_type": "code",
   "execution_count": 37,
   "metadata": {},
   "outputs": [
    {
     "name": "stdout",
     "output_type": "stream",
     "text": [
      "PMC         32239\n",
      "Elsevier    22762\n",
      "medrxiv      2007\n",
      "biorxiv      1064\n",
      "WHO           918\n",
      "arxiv         797\n",
      "CZI           100\n",
      "Name: source_x, dtype: int64\n"
     ]
    }
   ],
   "source": [
    "print(metadata['source_x'].value_counts())"
   ]
  },
  {
   "cell_type": "code",
   "execution_count": 38,
   "metadata": {},
   "outputs": [
    {
     "data": {
      "image/png": "[encoded data removed]",
      "text/plain": [
       "<Figure size 576x432 with 1 Axes>"
      ]
     },
     "metadata": {},
     "output_type": "display_data"
    }
   ],
   "source": [
    "plt.figure(figsize=(8,6))\n",
    "metadata['source_x'].value_counts().plot(kind='line',color='green')\n",
    "plt.show()"
   ]
  },
  {
   "cell_type": "code",
   "execution_count": 39,
   "metadata": {},
   "outputs": [
    {
     "name": "stdout",
     "output_type": "stream",
     "text": [
      "els-covid      22762\n",
      "unk            10674\n",
      "no-cc          10242\n",
      "cc-by           9534\n",
      "medrvix         2007\n",
      "cc-by-nc        1271\n",
      "biorxiv         1064\n",
      "arxiv            797\n",
      "cc-by-nc-nd      772\n",
      "cc-by-nc-sa      488\n",
      "cc0              266\n",
      "cc-by-nd           5\n",
      "pd                 3\n",
      "cc-by-sa           2\n",
      "Name: license, dtype: int64\n"
     ]
    }
   ],
   "source": [
    "print(metadata['license'].value_counts())"
   ]
  },
  {
   "cell_type": "code",
   "execution_count": 40,
   "metadata": {},
   "outputs": [
    {
     "data": {
      "image/png": "[encoded data removed]",
      "text/plain": [
       "<Figure size 1008x504 with 1 Axes>"
      ]
     },
     "metadata": {},
     "output_type": "display_data"
    }
   ],
   "source": [
    "plt.figure(figsize=(14,7))\n",
    "sns.set_style('darkgrid')\n",
    "sns.countplot(x='license',data=metadata,palette='deep')\n",
    "sns.despine()"
   ]
  },
  {
   "cell_type": "markdown",
   "metadata": {},
   "source": [
    "## Problem 1"
   ]
  },
  {
   "cell_type": "markdown",
   "metadata": {},
   "source": [
    "### we want to find the most five (5) commom journals in the dataset metadata"
   ]
  },
  {
   "cell_type": "code",
   "execution_count": 41,
   "metadata": {},
   "outputs": [
    {
     "name": "stdout",
     "output_type": "stream",
     "text": [
      "Journal of Virology    1753\n",
      "PLoS One               1576\n",
      "Virology                937\n",
      "Emerg Infect Dis        749\n",
      "The Lancet              688\n",
      "Name: journal, dtype: int64\n"
     ]
    }
   ],
   "source": [
    "print(metadata['journal'].value_counts().head(5))\n",
    "# this is the code used to find the top (5) five journals with their frequencies"
   ]
  },
  {
   "cell_type": "code",
   "execution_count": 42,
   "metadata": {},
   "outputs": [
    {
     "data": {
      "text/html": [
       "<div>\n",
       "<style scoped>\n",
       "    .dataframe tbody tr th:only-of-type {\n",
       "        vertical-align: middle;\n",
       "    }\n",
       "\n",
       "    .dataframe tbody tr th {\n",
       "        vertical-align: top;\n",
       "    }\n",
       "\n",
       "    .dataframe thead th {\n",
       "        text-align: right;\n",
       "    }\n",
       "</style>\n",
       "<table border=\"1\" class=\"dataframe\">\n",
       "  <thead>\n",
       "    <tr style=\"text-align: right;\">\n",
       "      <th></th>\n",
       "      <th>Journals</th>\n",
       "      <th>Frequencies</th>\n",
       "    </tr>\n",
       "  </thead>\n",
       "  <tbody>\n",
       "    <tr>\n",
       "      <th>0</th>\n",
       "      <td>Journal of Virology</td>\n",
       "      <td>1753</td>\n",
       "    </tr>\n",
       "    <tr>\n",
       "      <th>1</th>\n",
       "      <td>PLoS One</td>\n",
       "      <td>1576</td>\n",
       "    </tr>\n",
       "    <tr>\n",
       "      <th>2</th>\n",
       "      <td>Virology</td>\n",
       "      <td>937</td>\n",
       "    </tr>\n",
       "    <tr>\n",
       "      <th>3</th>\n",
       "      <td>Emerg Infect Dis</td>\n",
       "      <td>749</td>\n",
       "    </tr>\n",
       "    <tr>\n",
       "      <th>4</th>\n",
       "      <td>The Lancet</td>\n",
       "      <td>688</td>\n",
       "    </tr>\n",
       "  </tbody>\n",
       "</table>\n",
       "</div>"
      ],
      "text/plain": [
       "              Journals  Frequencies\n",
       "0  Journal of Virology         1753\n",
       "1             PLoS One         1576\n",
       "2             Virology          937\n",
       "3     Emerg Infect Dis          749\n",
       "4           The Lancet          688"
      ]
     },
     "execution_count": 42,
     "metadata": {},
     "output_type": "execute_result"
    }
   ],
   "source": [
    "Top_5_journals=pd.DataFrame(metadata['journal'].value_counts().head(5))\n",
    "Top_5_journals=Top_5_journals.reset_index()\n",
    "Top_5_journals.columns=['Journals','Frequencies']\n",
    "Top_5_journals.head()\n"
   ]
  },
  {
   "cell_type": "code",
   "execution_count": 43,
   "metadata": {
    "scrolled": true
   },
   "outputs": [
    {
     "data": {
      "image/png": "[encoded data removed]",
      "text/plain": [
       "<Figure size 432x288 with 1 Axes>"
      ]
     },
     "metadata": {},
     "output_type": "display_data"
    }
   ],
   "source": [
    "sns.set_style('darkgrid')\n",
    "sns.countplot(metadata['journal'].value_counts().head(5))\n",
    "sns.despine()\n",
    "plt.show()# the visual of the above output"
   ]
  },
  {
   "cell_type": "markdown",
   "metadata": {},
   "source": [
    "## Problem 2"
   ]
  },
  {
   "cell_type": "markdown",
   "metadata": {},
   "source": [
    "### we want to find the top five (5) average abstract length by using number of letters per number of words"
   ]
  },
  {
   "cell_type": "code",
   "execution_count": 44,
   "metadata": {},
   "outputs": [
    {
     "name": "stdout",
     "output_type": "stream",
     "text": [
      "0    Nidovirus subgenomic mRNAs contain a leader se...\n",
      "1    CEACAM1 is a member of the carcinoembryonic an...\n",
      "2    Hepatitis C virus (HCV) is an important human ...\n",
      "3    The key enzyme in coronavirus polyprotein proc...\n",
      "4    Arteri-, corona-, toro- and roniviruses are ev...\n",
      "Name: abstract, dtype: object\n"
     ]
    }
   ],
   "source": [
    "print(metadata['abstract'].head())\n",
    "# we used this code to look for the head of abstract columns"
   ]
  },
  {
   "cell_type": "code",
   "execution_count": 50,
   "metadata": {},
   "outputs": [],
   "source": [
    "metadata['abstract_lengths']=metadata['abstract'].str.len()\n",
    "# we use this code to look for the number of characters of abstract and store it in abstract_length"
   ]
  },
  {
   "cell_type": "code",
   "execution_count": 51,
   "metadata": {},
   "outputs": [],
   "source": [
    "journal_avg = metadata.groupby('journal')['abstract_lengths'].mean().reset_index()"
   ]
  },
  {
   "cell_type": "code",
   "execution_count": 52,
   "metadata": {},
   "outputs": [
    {
     "data": {
      "text/html": [
       "<div>\n",
       "<style scoped>\n",
       "    .dataframe tbody tr th:only-of-type {\n",
       "        vertical-align: middle;\n",
       "    }\n",
       "\n",
       "    .dataframe tbody tr th {\n",
       "        vertical-align: top;\n",
       "    }\n",
       "\n",
       "    .dataframe thead th {\n",
       "        text-align: right;\n",
       "    }\n",
       "</style>\n",
       "<table border=\"1\" class=\"dataframe\">\n",
       "  <thead>\n",
       "    <tr style=\"text-align: right;\">\n",
       "      <th></th>\n",
       "      <th>journal</th>\n",
       "      <th>abstract_lengths</th>\n",
       "    </tr>\n",
       "  </thead>\n",
       "  <tbody>\n",
       "    <tr>\n",
       "      <th>6813</th>\n",
       "      <td>World Allergy Organ J</td>\n",
       "      <td>31691.25</td>\n",
       "    </tr>\n",
       "    <tr>\n",
       "      <th>1994</th>\n",
       "      <td>Drugs R D</td>\n",
       "      <td>7902.00</td>\n",
       "    </tr>\n",
       "    <tr>\n",
       "      <th>1534</th>\n",
       "      <td>Cochrane Database Syst Rev</td>\n",
       "      <td>7882.00</td>\n",
       "    </tr>\n",
       "    <tr>\n",
       "      <th>6091</th>\n",
       "      <td>StatPearls</td>\n",
       "      <td>4992.00</td>\n",
       "    </tr>\n",
       "    <tr>\n",
       "      <th>2537</th>\n",
       "      <td>Forsch Ingenieurwes</td>\n",
       "      <td>4913.00</td>\n",
       "    </tr>\n",
       "  </tbody>\n",
       "</table>\n",
       "</div>"
      ],
      "text/plain": [
       "                         journal  abstract_lengths\n",
       "6813       World Allergy Organ J          31691.25\n",
       "1994                   Drugs R D           7902.00\n",
       "1534  Cochrane Database Syst Rev           7882.00\n",
       "6091                  StatPearls           4992.00\n",
       "2537         Forsch Ingenieurwes           4913.00"
      ]
     },
     "execution_count": 52,
     "metadata": {},
     "output_type": "execute_result"
    }
   ],
   "source": [
    "journal_avg.sort_values('abstract_lengths', ascending=False).head()"
   ]
  },
  {
   "cell_type": "markdown",
   "metadata": {},
   "source": [
    "# Problem 3"
   ]
  },
  {
   "cell_type": "markdown",
   "metadata": {},
   "source": [
    "###  We want to find the titles of the 5 papers with the highest numbers of authors. Both the numbers of authors "
   ]
  },
  {
   "cell_type": "code",
   "execution_count": 53,
   "metadata": {},
   "outputs": [
    {
     "data": {
      "text/plain": [
       "0        Pasternak, Alexander O.; van den Born, Erwin; ...\n",
       "1        Tan, Kemin; Zelus, Bruce D.; Meijers, Rob; Liu...\n",
       "2        Xu, Zhenming; Choi, Jinah; Yen, T.S.Benedict; ...\n",
       "3        Anand, Kanchan; Palm, Gottfried J.; Mesters, J...\n",
       "4        van Vliet, A.L.W.; Smits, S.L.; Rottier, P.J.M...\n",
       "                               ...                        \n",
       "59882                                        Chiu, Charles\n",
       "59883                     Veening, Jan G.; Olivier, Berend\n",
       "59884    Díaz, A.; Zaragoza, R.; Granada, R.; Salavert, M.\n",
       "59885         Paszkiewicz, Konrad H.; Giezen, Mark van der\n",
       "59886               Gustafson, Kyle B.; Proctor, Joshua L.\n",
       "Name: authors, Length: 59887, dtype: object"
      ]
     },
     "execution_count": 53,
     "metadata": {},
     "output_type": "execute_result"
    }
   ],
   "source": [
    "metadata['authors']\n",
    "# we used this code to look for authors column"
   ]
  },
  {
   "cell_type": "code",
   "execution_count": 54,
   "metadata": {},
   "outputs": [],
   "source": [
    "table_of_values=metadata['authors'].str.split(';').str.len()\n",
    "# we used this code to create the number of authors by using ; to split it"
   ]
  },
  {
   "cell_type": "code",
   "execution_count": 55,
   "metadata": {},
   "outputs": [
    {
     "data": {
      "text/plain": [
       "0         4.0\n",
       "1        10.0\n",
       "2         9.0\n",
       "3         6.0\n",
       "4         4.0\n",
       "         ... \n",
       "59882     1.0\n",
       "59883     2.0\n",
       "59884     4.0\n",
       "59885     2.0\n",
       "59886     2.0\n",
       "Name: authors, Length: 59887, dtype: float64"
      ]
     },
     "execution_count": 55,
     "metadata": {},
     "output_type": "execute_result"
    }
   ],
   "source": [
    "table_of_values"
   ]
  },
  {
   "cell_type": "code",
   "execution_count": 56,
   "metadata": {},
   "outputs": [],
   "source": [
    "table_of_values=pd.DataFrame(table_of_values).reset_index()\n",
    "# we used this code to turn table_of_values to dataframe"
   ]
  },
  {
   "cell_type": "code",
   "execution_count": 57,
   "metadata": {},
   "outputs": [],
   "source": [
    "table_of_values.columns=['index','number_of_authors']\n",
    "# we used this code to set the columns "
   ]
  },
  {
   "cell_type": "code",
   "execution_count": 58,
   "metadata": {},
   "outputs": [
    {
     "data": {
      "text/html": [
       "<div>\n",
       "<style scoped>\n",
       "    .dataframe tbody tr th:only-of-type {\n",
       "        vertical-align: middle;\n",
       "    }\n",
       "\n",
       "    .dataframe tbody tr th {\n",
       "        vertical-align: top;\n",
       "    }\n",
       "\n",
       "    .dataframe thead th {\n",
       "        text-align: right;\n",
       "    }\n",
       "</style>\n",
       "<table border=\"1\" class=\"dataframe\">\n",
       "  <thead>\n",
       "    <tr style=\"text-align: right;\">\n",
       "      <th></th>\n",
       "      <th>index</th>\n",
       "      <th>number_of_authors</th>\n",
       "    </tr>\n",
       "  </thead>\n",
       "  <tbody>\n",
       "    <tr>\n",
       "      <th>0</th>\n",
       "      <td>0</td>\n",
       "      <td>4.0</td>\n",
       "    </tr>\n",
       "    <tr>\n",
       "      <th>1</th>\n",
       "      <td>1</td>\n",
       "      <td>10.0</td>\n",
       "    </tr>\n",
       "    <tr>\n",
       "      <th>2</th>\n",
       "      <td>2</td>\n",
       "      <td>9.0</td>\n",
       "    </tr>\n",
       "    <tr>\n",
       "      <th>3</th>\n",
       "      <td>3</td>\n",
       "      <td>6.0</td>\n",
       "    </tr>\n",
       "    <tr>\n",
       "      <th>4</th>\n",
       "      <td>4</td>\n",
       "      <td>4.0</td>\n",
       "    </tr>\n",
       "  </tbody>\n",
       "</table>\n",
       "</div>"
      ],
      "text/plain": [
       "   index  number_of_authors\n",
       "0      0                4.0\n",
       "1      1               10.0\n",
       "2      2                9.0\n",
       "3      3                6.0\n",
       "4      4                4.0"
      ]
     },
     "execution_count": 58,
     "metadata": {},
     "output_type": "execute_result"
    }
   ],
   "source": [
    "table_of_values.head()"
   ]
  },
  {
   "cell_type": "code",
   "execution_count": 59,
   "metadata": {},
   "outputs": [],
   "source": [
    "table_of_values['title']=metadata['title']\n",
    "# we use this code to create another column which is title to the table_of_values dataframe"
   ]
  },
  {
   "cell_type": "code",
   "execution_count": 60,
   "metadata": {},
   "outputs": [],
   "source": [
    "table_of_values['authors']=metadata['authors']\n",
    "# we use this code to create another column which is authors to the table_of_values dataframe"
   ]
  },
  {
   "cell_type": "code",
   "execution_count": 61,
   "metadata": {},
   "outputs": [],
   "source": [
    "table_of_values['papers']=metadata['journal']\n",
    "# we use this code to create another column which is papers to the table_of_values dataframe"
   ]
  },
  {
   "cell_type": "code",
   "execution_count": 62,
   "metadata": {},
   "outputs": [
    {
     "data": {
      "text/html": [
       "<div>\n",
       "<style scoped>\n",
       "    .dataframe tbody tr th:only-of-type {\n",
       "        vertical-align: middle;\n",
       "    }\n",
       "\n",
       "    .dataframe tbody tr th {\n",
       "        vertical-align: top;\n",
       "    }\n",
       "\n",
       "    .dataframe thead th {\n",
       "        text-align: right;\n",
       "    }\n",
       "</style>\n",
       "<table border=\"1\" class=\"dataframe\">\n",
       "  <thead>\n",
       "    <tr style=\"text-align: right;\">\n",
       "      <th></th>\n",
       "      <th>index</th>\n",
       "      <th>number_of_authors</th>\n",
       "      <th>title</th>\n",
       "      <th>authors</th>\n",
       "      <th>papers</th>\n",
       "    </tr>\n",
       "  </thead>\n",
       "  <tbody>\n",
       "    <tr>\n",
       "      <th>0</th>\n",
       "      <td>0</td>\n",
       "      <td>4.0</td>\n",
       "      <td>Sequence requirements for RNA strand transfer ...</td>\n",
       "      <td>Pasternak, Alexander O.; van den Born, Erwin; ...</td>\n",
       "      <td>The EMBO Journal</td>\n",
       "    </tr>\n",
       "    <tr>\n",
       "      <th>1</th>\n",
       "      <td>1</td>\n",
       "      <td>10.0</td>\n",
       "      <td>Crystal structure of murine sCEACAM1a[1,4]: a ...</td>\n",
       "      <td>Tan, Kemin; Zelus, Bruce D.; Meijers, Rob; Liu...</td>\n",
       "      <td>The EMBO Journal</td>\n",
       "    </tr>\n",
       "    <tr>\n",
       "      <th>2</th>\n",
       "      <td>2</td>\n",
       "      <td>9.0</td>\n",
       "      <td>Synthesis of a novel hepatitis C virus protein...</td>\n",
       "      <td>Xu, Zhenming; Choi, Jinah; Yen, T.S.Benedict; ...</td>\n",
       "      <td>EMBO J</td>\n",
       "    </tr>\n",
       "    <tr>\n",
       "      <th>3</th>\n",
       "      <td>3</td>\n",
       "      <td>6.0</td>\n",
       "      <td>Structure of coronavirus main proteinase revea...</td>\n",
       "      <td>Anand, Kanchan; Palm, Gottfried J.; Mesters, J...</td>\n",
       "      <td>The EMBO Journal</td>\n",
       "    </tr>\n",
       "    <tr>\n",
       "      <th>4</th>\n",
       "      <td>4</td>\n",
       "      <td>4.0</td>\n",
       "      <td>Discontinuous and non-discontinuous subgenomic...</td>\n",
       "      <td>van Vliet, A.L.W.; Smits, S.L.; Rottier, P.J.M...</td>\n",
       "      <td>The EMBO Journal</td>\n",
       "    </tr>\n",
       "  </tbody>\n",
       "</table>\n",
       "</div>"
      ],
      "text/plain": [
       "   index  number_of_authors  \\\n",
       "0      0                4.0   \n",
       "1      1               10.0   \n",
       "2      2                9.0   \n",
       "3      3                6.0   \n",
       "4      4                4.0   \n",
       "\n",
       "                                               title  \\\n",
       "0  Sequence requirements for RNA strand transfer ...   \n",
       "1  Crystal structure of murine sCEACAM1a[1,4]: a ...   \n",
       "2  Synthesis of a novel hepatitis C virus protein...   \n",
       "3  Structure of coronavirus main proteinase revea...   \n",
       "4  Discontinuous and non-discontinuous subgenomic...   \n",
       "\n",
       "                                             authors            papers  \n",
       "0  Pasternak, Alexander O.; van den Born, Erwin; ...  The EMBO Journal  \n",
       "1  Tan, Kemin; Zelus, Bruce D.; Meijers, Rob; Liu...  The EMBO Journal  \n",
       "2  Xu, Zhenming; Choi, Jinah; Yen, T.S.Benedict; ...            EMBO J  \n",
       "3  Anand, Kanchan; Palm, Gottfried J.; Mesters, J...  The EMBO Journal  \n",
       "4  van Vliet, A.L.W.; Smits, S.L.; Rottier, P.J.M...  The EMBO Journal  "
      ]
     },
     "execution_count": 62,
     "metadata": {},
     "output_type": "execute_result"
    }
   ],
   "source": [
    "table_of_values.head()\n",
    "# we used this code to check the head of table_of_values"
   ]
  },
  {
   "cell_type": "code",
   "execution_count": 63,
   "metadata": {},
   "outputs": [],
   "source": [
    "table_of_values.drop('index',axis=1,inplace=True)\n",
    "# we used this code to drop index column"
   ]
  },
  {
   "cell_type": "code",
   "execution_count": 64,
   "metadata": {},
   "outputs": [
    {
     "data": {
      "text/html": [
       "<div>\n",
       "<style scoped>\n",
       "    .dataframe tbody tr th:only-of-type {\n",
       "        vertical-align: middle;\n",
       "    }\n",
       "\n",
       "    .dataframe tbody tr th {\n",
       "        vertical-align: top;\n",
       "    }\n",
       "\n",
       "    .dataframe thead th {\n",
       "        text-align: right;\n",
       "    }\n",
       "</style>\n",
       "<table border=\"1\" class=\"dataframe\">\n",
       "  <thead>\n",
       "    <tr style=\"text-align: right;\">\n",
       "      <th></th>\n",
       "      <th>number_of_authors</th>\n",
       "      <th>title</th>\n",
       "      <th>authors</th>\n",
       "      <th>papers</th>\n",
       "    </tr>\n",
       "  </thead>\n",
       "  <tbody>\n",
       "    <tr>\n",
       "      <th>0</th>\n",
       "      <td>4.0</td>\n",
       "      <td>Sequence requirements for RNA strand transfer ...</td>\n",
       "      <td>Pasternak, Alexander O.; van den Born, Erwin; ...</td>\n",
       "      <td>The EMBO Journal</td>\n",
       "    </tr>\n",
       "    <tr>\n",
       "      <th>1</th>\n",
       "      <td>10.0</td>\n",
       "      <td>Crystal structure of murine sCEACAM1a[1,4]: a ...</td>\n",
       "      <td>Tan, Kemin; Zelus, Bruce D.; Meijers, Rob; Liu...</td>\n",
       "      <td>The EMBO Journal</td>\n",
       "    </tr>\n",
       "    <tr>\n",
       "      <th>2</th>\n",
       "      <td>9.0</td>\n",
       "      <td>Synthesis of a novel hepatitis C virus protein...</td>\n",
       "      <td>Xu, Zhenming; Choi, Jinah; Yen, T.S.Benedict; ...</td>\n",
       "      <td>EMBO J</td>\n",
       "    </tr>\n",
       "    <tr>\n",
       "      <th>3</th>\n",
       "      <td>6.0</td>\n",
       "      <td>Structure of coronavirus main proteinase revea...</td>\n",
       "      <td>Anand, Kanchan; Palm, Gottfried J.; Mesters, J...</td>\n",
       "      <td>The EMBO Journal</td>\n",
       "    </tr>\n",
       "    <tr>\n",
       "      <th>4</th>\n",
       "      <td>4.0</td>\n",
       "      <td>Discontinuous and non-discontinuous subgenomic...</td>\n",
       "      <td>van Vliet, A.L.W.; Smits, S.L.; Rottier, P.J.M...</td>\n",
       "      <td>The EMBO Journal</td>\n",
       "    </tr>\n",
       "  </tbody>\n",
       "</table>\n",
       "</div>"
      ],
      "text/plain": [
       "   number_of_authors                                              title  \\\n",
       "0                4.0  Sequence requirements for RNA strand transfer ...   \n",
       "1               10.0  Crystal structure of murine sCEACAM1a[1,4]: a ...   \n",
       "2                9.0  Synthesis of a novel hepatitis C virus protein...   \n",
       "3                6.0  Structure of coronavirus main proteinase revea...   \n",
       "4                4.0  Discontinuous and non-discontinuous subgenomic...   \n",
       "\n",
       "                                             authors            papers  \n",
       "0  Pasternak, Alexander O.; van den Born, Erwin; ...  The EMBO Journal  \n",
       "1  Tan, Kemin; Zelus, Bruce D.; Meijers, Rob; Liu...  The EMBO Journal  \n",
       "2  Xu, Zhenming; Choi, Jinah; Yen, T.S.Benedict; ...            EMBO J  \n",
       "3  Anand, Kanchan; Palm, Gottfried J.; Mesters, J...  The EMBO Journal  \n",
       "4  van Vliet, A.L.W.; Smits, S.L.; Rottier, P.J.M...  The EMBO Journal  "
      ]
     },
     "execution_count": 64,
     "metadata": {},
     "output_type": "execute_result"
    }
   ],
   "source": [
    "table_of_values.head()\n",
    "# we used this code to recheck the head after we dropped index"
   ]
  },
  {
   "cell_type": "code",
   "execution_count": 65,
   "metadata": {},
   "outputs": [],
   "source": [
    "title_paper=table_of_values.nlargest(5,['number_of_authors'])\n",
    "# we used this code to find the top 5 highest numbers of authors and store it in title paper "
   ]
  },
  {
   "cell_type": "code",
   "execution_count": 66,
   "metadata": {},
   "outputs": [
    {
     "data": {
      "text/html": [
       "<div>\n",
       "<style scoped>\n",
       "    .dataframe tbody tr th:only-of-type {\n",
       "        vertical-align: middle;\n",
       "    }\n",
       "\n",
       "    .dataframe tbody tr th {\n",
       "        vertical-align: top;\n",
       "    }\n",
       "\n",
       "    .dataframe thead th {\n",
       "        text-align: right;\n",
       "    }\n",
       "</style>\n",
       "<table border=\"1\" class=\"dataframe\">\n",
       "  <thead>\n",
       "    <tr style=\"text-align: right;\">\n",
       "      <th></th>\n",
       "      <th>number_of_authors</th>\n",
       "      <th>title</th>\n",
       "      <th>authors</th>\n",
       "      <th>papers</th>\n",
       "    </tr>\n",
       "  </thead>\n",
       "  <tbody>\n",
       "    <tr>\n",
       "      <th>25198</th>\n",
       "      <td>3572.0</td>\n",
       "      <td>XXIV World Allergy Congress 2015: Seoul, Korea...</td>\n",
       "      <td>Lee, Heung-Man; Park, Il-Ho; Shin, Jae-Min; Yo...</td>\n",
       "      <td>World Allergy Organ J</td>\n",
       "    </tr>\n",
       "    <tr>\n",
       "      <th>23080</th>\n",
       "      <td>2467.0</td>\n",
       "      <td>Guidelines for the use and interpretation of a...</td>\n",
       "      <td>Klionsky, Daniel J; Abdelmohsen, Kotb; Abe, Ak...</td>\n",
       "      <td>Autophagy</td>\n",
       "    </tr>\n",
       "    <tr>\n",
       "      <th>25207</th>\n",
       "      <td>2446.0</td>\n",
       "      <td>ESICM LIVES 2016: part one: Milan, Italy. 1-5 ...</td>\n",
       "      <td>Bos, L.; Schouten, L.; van Vught, L.; Wiewel, ...</td>\n",
       "      <td>Intensive Care Med Exp</td>\n",
       "    </tr>\n",
       "    <tr>\n",
       "      <th>8101</th>\n",
       "      <td>2440.0</td>\n",
       "      <td>36th International Symposium on Intensive Care...</td>\n",
       "      <td>Bateman, R. M.; Sharpe, M. D.; Jagger, J. E.; ...</td>\n",
       "      <td>Crit Care</td>\n",
       "    </tr>\n",
       "    <tr>\n",
       "      <th>25209</th>\n",
       "      <td>883.0</td>\n",
       "      <td>The 12th Edition of the Scientific Days of the...</td>\n",
       "      <td>Niculae, Cristian-Mihail; Manea, Eliza; Jipa, ...</td>\n",
       "      <td>BMC Infect Dis</td>\n",
       "    </tr>\n",
       "  </tbody>\n",
       "</table>\n",
       "</div>"
      ],
      "text/plain": [
       "       number_of_authors                                              title  \\\n",
       "25198             3572.0  XXIV World Allergy Congress 2015: Seoul, Korea...   \n",
       "23080             2467.0  Guidelines for the use and interpretation of a...   \n",
       "25207             2446.0  ESICM LIVES 2016: part one: Milan, Italy. 1-5 ...   \n",
       "8101              2440.0  36th International Symposium on Intensive Care...   \n",
       "25209              883.0  The 12th Edition of the Scientific Days of the...   \n",
       "\n",
       "                                                 authors  \\\n",
       "25198  Lee, Heung-Man; Park, Il-Ho; Shin, Jae-Min; Yo...   \n",
       "23080  Klionsky, Daniel J; Abdelmohsen, Kotb; Abe, Ak...   \n",
       "25207  Bos, L.; Schouten, L.; van Vught, L.; Wiewel, ...   \n",
       "8101   Bateman, R. M.; Sharpe, M. D.; Jagger, J. E.; ...   \n",
       "25209  Niculae, Cristian-Mihail; Manea, Eliza; Jipa, ...   \n",
       "\n",
       "                       papers  \n",
       "25198   World Allergy Organ J  \n",
       "23080               Autophagy  \n",
       "25207  Intensive Care Med Exp  \n",
       "8101                Crit Care  \n",
       "25209          BMC Infect Dis  "
      ]
     },
     "execution_count": 66,
     "metadata": {},
     "output_type": "execute_result"
    }
   ],
   "source": [
    "title_paper.head()\n",
    "# we used this code to look for the head of title paper"
   ]
  },
  {
   "cell_type": "code",
   "execution_count": 67,
   "metadata": {},
   "outputs": [
    {
     "data": {
      "text/html": [
       "<div>\n",
       "<style scoped>\n",
       "    .dataframe tbody tr th:only-of-type {\n",
       "        vertical-align: middle;\n",
       "    }\n",
       "\n",
       "    .dataframe tbody tr th {\n",
       "        vertical-align: top;\n",
       "    }\n",
       "\n",
       "    .dataframe thead th {\n",
       "        text-align: right;\n",
       "    }\n",
       "</style>\n",
       "<table border=\"1\" class=\"dataframe\">\n",
       "  <thead>\n",
       "    <tr style=\"text-align: right;\">\n",
       "      <th></th>\n",
       "      <th>title</th>\n",
       "      <th>number_of_authors</th>\n",
       "    </tr>\n",
       "  </thead>\n",
       "  <tbody>\n",
       "    <tr>\n",
       "      <th>25198</th>\n",
       "      <td>XXIV World Allergy Congress 2015: Seoul, Korea...</td>\n",
       "      <td>3572.0</td>\n",
       "    </tr>\n",
       "    <tr>\n",
       "      <th>23080</th>\n",
       "      <td>Guidelines for the use and interpretation of a...</td>\n",
       "      <td>2467.0</td>\n",
       "    </tr>\n",
       "    <tr>\n",
       "      <th>25207</th>\n",
       "      <td>ESICM LIVES 2016: part one: Milan, Italy. 1-5 ...</td>\n",
       "      <td>2446.0</td>\n",
       "    </tr>\n",
       "    <tr>\n",
       "      <th>8101</th>\n",
       "      <td>36th International Symposium on Intensive Care...</td>\n",
       "      <td>2440.0</td>\n",
       "    </tr>\n",
       "    <tr>\n",
       "      <th>25209</th>\n",
       "      <td>The 12th Edition of the Scientific Days of the...</td>\n",
       "      <td>883.0</td>\n",
       "    </tr>\n",
       "  </tbody>\n",
       "</table>\n",
       "</div>"
      ],
      "text/plain": [
       "                                                   title  number_of_authors\n",
       "25198  XXIV World Allergy Congress 2015: Seoul, Korea...             3572.0\n",
       "23080  Guidelines for the use and interpretation of a...             2467.0\n",
       "25207  ESICM LIVES 2016: part one: Milan, Italy. 1-5 ...             2446.0\n",
       "8101   36th International Symposium on Intensive Care...             2440.0\n",
       "25209  The 12th Edition of the Scientific Days of the...              883.0"
      ]
     },
     "execution_count": 67,
     "metadata": {},
     "output_type": "execute_result"
    }
   ],
   "source": [
    "title_paper[['title','number_of_authors']]\n",
    "# we used this code to relate title to the number of authors"
   ]
  },
  {
   "cell_type": "markdown",
   "metadata": {},
   "source": [
    "## Problem 4"
   ]
  },
  {
   "cell_type": "markdown",
   "metadata": {},
   "source": [
    "### We want to look for the visual of number of papers per month(since 2020-01) and the table of values"
   ]
  },
  {
   "cell_type": "code",
   "execution_count": 82,
   "metadata": {},
   "outputs": [
    {
     "name": "stdout",
     "output_type": "stream",
     "text": [
      "0                                    The EMBO Journal\n",
      "1                                    The EMBO Journal\n",
      "2                                              EMBO J\n",
      "3                                    The EMBO Journal\n",
      "4                                    The EMBO Journal\n",
      "                             ...                     \n",
      "59882                             Cell Host & Microbe\n",
      "59883            Neuroscience & Biobehavioral Reviews\n",
      "59884                              Medicina Intensiva\n",
      "59885    Genetics and Evolution of Infectious Disease\n",
      "59886                               J R Soc Interface\n",
      "Name: journal, Length: 59887, dtype: object\n"
     ]
    }
   ],
   "source": [
    "print(metadata['journal'])\n",
    "# we use this code to look for the title which is papers column "
   ]
  },
  {
   "cell_type": "code",
   "execution_count": 83,
   "metadata": {},
   "outputs": [
    {
     "name": "stdout",
     "output_type": "stream",
     "text": [
      "0       2001-12-17\n",
      "1       2002-05-01\n",
      "2       2001-07-16\n",
      "3       2002-07-01\n",
      "4       2002-12-01\n",
      "           ...    \n",
      "59882   2018-06-13\n",
      "59883   2013-09-30\n",
      "59884   2011-04-30\n",
      "59885   2011-12-31\n",
      "59886   2017-11-29\n",
      "Name: publish_time, Length: 59887, dtype: datetime64[ns]\n"
     ]
    }
   ],
   "source": [
    "print(metadata['publish_time'])\n",
    "# we use this code to look for the publish_time column "
   ]
  },
  {
   "cell_type": "code",
   "execution_count": 84,
   "metadata": {},
   "outputs": [],
   "source": [
    "metadata['year_month']=metadata['publish_time'].dt.strftime('%Y-%m')\n",
    "# we used this code to join year and month together from the daterime "
   ]
  },
  {
   "cell_type": "code",
   "execution_count": 85,
   "metadata": {},
   "outputs": [
    {
     "data": {
      "text/html": [
       "<div>\n",
       "<style scoped>\n",
       "    .dataframe tbody tr th:only-of-type {\n",
       "        vertical-align: middle;\n",
       "    }\n",
       "\n",
       "    .dataframe tbody tr th {\n",
       "        vertical-align: top;\n",
       "    }\n",
       "\n",
       "    .dataframe thead th {\n",
       "        text-align: right;\n",
       "    }\n",
       "</style>\n",
       "<table border=\"1\" class=\"dataframe\">\n",
       "  <thead>\n",
       "    <tr style=\"text-align: right;\">\n",
       "      <th></th>\n",
       "      <th>cord_uid</th>\n",
       "      <th>source_x</th>\n",
       "      <th>title</th>\n",
       "      <th>license</th>\n",
       "      <th>abstract</th>\n",
       "      <th>publish_time</th>\n",
       "      <th>authors</th>\n",
       "      <th>journal</th>\n",
       "      <th>has_pdf_parse</th>\n",
       "      <th>has_pmc_xml_parse</th>\n",
       "      <th>full_text_file</th>\n",
       "      <th>url</th>\n",
       "      <th>year_month</th>\n",
       "    </tr>\n",
       "  </thead>\n",
       "  <tbody>\n",
       "    <tr>\n",
       "      <th>0</th>\n",
       "      <td>zjufx4fo</td>\n",
       "      <td>PMC</td>\n",
       "      <td>Sequence requirements for RNA strand transfer ...</td>\n",
       "      <td>unk</td>\n",
       "      <td>Nidovirus subgenomic mRNAs contain a leader se...</td>\n",
       "      <td>2001-12-17</td>\n",
       "      <td>Pasternak, Alexander O.; van den Born, Erwin; ...</td>\n",
       "      <td>The EMBO Journal</td>\n",
       "      <td>True</td>\n",
       "      <td>True</td>\n",
       "      <td>custom_license</td>\n",
       "      <td>http://europepmc.org/articles/pmc125340?pdf=re...</td>\n",
       "      <td>2001-12</td>\n",
       "    </tr>\n",
       "    <tr>\n",
       "      <th>1</th>\n",
       "      <td>ymceytj3</td>\n",
       "      <td>PMC</td>\n",
       "      <td>Crystal structure of murine sCEACAM1a[1,4]: a ...</td>\n",
       "      <td>unk</td>\n",
       "      <td>CEACAM1 is a member of the carcinoembryonic an...</td>\n",
       "      <td>2002-05-01</td>\n",
       "      <td>Tan, Kemin; Zelus, Bruce D.; Meijers, Rob; Liu...</td>\n",
       "      <td>The EMBO Journal</td>\n",
       "      <td>True</td>\n",
       "      <td>True</td>\n",
       "      <td>custom_license</td>\n",
       "      <td>http://europepmc.org/articles/pmc125375?pdf=re...</td>\n",
       "      <td>2002-05</td>\n",
       "    </tr>\n",
       "    <tr>\n",
       "      <th>2</th>\n",
       "      <td>wzj2glte</td>\n",
       "      <td>PMC</td>\n",
       "      <td>Synthesis of a novel hepatitis C virus protein...</td>\n",
       "      <td>no-cc</td>\n",
       "      <td>Hepatitis C virus (HCV) is an important human ...</td>\n",
       "      <td>2001-07-16</td>\n",
       "      <td>Xu, Zhenming; Choi, Jinah; Yen, T.S.Benedict; ...</td>\n",
       "      <td>EMBO J</td>\n",
       "      <td>True</td>\n",
       "      <td>True</td>\n",
       "      <td>custom_license</td>\n",
       "      <td>https://www.ncbi.nlm.nih.gov/pmc/articles/PMC1...</td>\n",
       "      <td>2001-07</td>\n",
       "    </tr>\n",
       "    <tr>\n",
       "      <th>3</th>\n",
       "      <td>2sfqsfm1</td>\n",
       "      <td>PMC</td>\n",
       "      <td>Structure of coronavirus main proteinase revea...</td>\n",
       "      <td>unk</td>\n",
       "      <td>The key enzyme in coronavirus polyprotein proc...</td>\n",
       "      <td>2002-07-01</td>\n",
       "      <td>Anand, Kanchan; Palm, Gottfried J.; Mesters, J...</td>\n",
       "      <td>The EMBO Journal</td>\n",
       "      <td>True</td>\n",
       "      <td>True</td>\n",
       "      <td>custom_license</td>\n",
       "      <td>http://europepmc.org/articles/pmc126080?pdf=re...</td>\n",
       "      <td>2002-07</td>\n",
       "    </tr>\n",
       "    <tr>\n",
       "      <th>4</th>\n",
       "      <td>i0zym7iq</td>\n",
       "      <td>PMC</td>\n",
       "      <td>Discontinuous and non-discontinuous subgenomic...</td>\n",
       "      <td>unk</td>\n",
       "      <td>Arteri-, corona-, toro- and roniviruses are ev...</td>\n",
       "      <td>2002-12-01</td>\n",
       "      <td>van Vliet, A.L.W.; Smits, S.L.; Rottier, P.J.M...</td>\n",
       "      <td>The EMBO Journal</td>\n",
       "      <td>True</td>\n",
       "      <td>True</td>\n",
       "      <td>custom_license</td>\n",
       "      <td>http://europepmc.org/articles/pmc136939?pdf=re...</td>\n",
       "      <td>2002-12</td>\n",
       "    </tr>\n",
       "  </tbody>\n",
       "</table>\n",
       "</div>"
      ],
      "text/plain": [
       "   cord_uid source_x                                              title  \\\n",
       "0  zjufx4fo      PMC  Sequence requirements for RNA strand transfer ...   \n",
       "1  ymceytj3      PMC  Crystal structure of murine sCEACAM1a[1,4]: a ...   \n",
       "2  wzj2glte      PMC  Synthesis of a novel hepatitis C virus protein...   \n",
       "3  2sfqsfm1      PMC  Structure of coronavirus main proteinase revea...   \n",
       "4  i0zym7iq      PMC  Discontinuous and non-discontinuous subgenomic...   \n",
       "\n",
       "  license                                           abstract publish_time  \\\n",
       "0     unk  Nidovirus subgenomic mRNAs contain a leader se...   2001-12-17   \n",
       "1     unk  CEACAM1 is a member of the carcinoembryonic an...   2002-05-01   \n",
       "2   no-cc  Hepatitis C virus (HCV) is an important human ...   2001-07-16   \n",
       "3     unk  The key enzyme in coronavirus polyprotein proc...   2002-07-01   \n",
       "4     unk  Arteri-, corona-, toro- and roniviruses are ev...   2002-12-01   \n",
       "\n",
       "                                             authors           journal  \\\n",
       "0  Pasternak, Alexander O.; van den Born, Erwin; ...  The EMBO Journal   \n",
       "1  Tan, Kemin; Zelus, Bruce D.; Meijers, Rob; Liu...  The EMBO Journal   \n",
       "2  Xu, Zhenming; Choi, Jinah; Yen, T.S.Benedict; ...            EMBO J   \n",
       "3  Anand, Kanchan; Palm, Gottfried J.; Mesters, J...  The EMBO Journal   \n",
       "4  van Vliet, A.L.W.; Smits, S.L.; Rottier, P.J.M...  The EMBO Journal   \n",
       "\n",
       "   has_pdf_parse  has_pmc_xml_parse  full_text_file  \\\n",
       "0           True               True  custom_license   \n",
       "1           True               True  custom_license   \n",
       "2           True               True  custom_license   \n",
       "3           True               True  custom_license   \n",
       "4           True               True  custom_license   \n",
       "\n",
       "                                                 url year_month  \n",
       "0  http://europepmc.org/articles/pmc125340?pdf=re...    2001-12  \n",
       "1  http://europepmc.org/articles/pmc125375?pdf=re...    2002-05  \n",
       "2  https://www.ncbi.nlm.nih.gov/pmc/articles/PMC1...    2001-07  \n",
       "3  http://europepmc.org/articles/pmc126080?pdf=re...    2002-07  \n",
       "4  http://europepmc.org/articles/pmc136939?pdf=re...    2002-12  "
      ]
     },
     "execution_count": 85,
     "metadata": {},
     "output_type": "execute_result"
    }
   ],
   "source": [
    "metadata.head()"
   ]
  },
  {
   "cell_type": "code",
   "execution_count": 86,
   "metadata": {},
   "outputs": [],
   "source": [
    "year=metadata[metadata['year_month']>='2020-01']['year_month']\n",
    "# we used this code to create a column of month(since 2020-01)"
   ]
  },
  {
   "cell_type": "code",
   "execution_count": 87,
   "metadata": {},
   "outputs": [],
   "source": [
    "paper=metadata[metadata['year_month']>='2020-01']['journal']\n",
    "# we used this code to create a column of papers from month(since 2020-01)"
   ]
  },
  {
   "cell_type": "code",
   "execution_count": 88,
   "metadata": {},
   "outputs": [
    {
     "name": "stdout",
     "output_type": "stream",
     "text": [
      "12156    2020-01\n",
      "12157    2020-01\n",
      "12158    2020-01\n",
      "12159    2020-01\n",
      "12196    2020-01\n",
      "          ...   \n",
      "59836    2020-03\n",
      "59839    2020-02\n",
      "59845    2020-03\n",
      "59876    2020-03\n",
      "59879    2020-02\n",
      "Name: year_month, Length: 10373, dtype: object\n"
     ]
    }
   ],
   "source": [
    "print(year)"
   ]
  },
  {
   "cell_type": "code",
   "execution_count": 89,
   "metadata": {},
   "outputs": [
    {
     "name": "stdout",
     "output_type": "stream",
     "text": [
      "12156                   Emerg Infect Dis\n",
      "12157                   Emerg Infect Dis\n",
      "12158                   Emerg Infect Dis\n",
      "12159                   Emerg Infect Dis\n",
      "12196                            Sci Adv\n",
      "                      ...               \n",
      "59836    Int J Environ Res Public Health\n",
      "59839                    Precis Clin Med\n",
      "59845                   J Thromb Haemost\n",
      "59876                       N Engl J Med\n",
      "59879                                QJM\n",
      "Name: journal, Length: 10373, dtype: object\n"
     ]
    }
   ],
   "source": [
    "print(paper)"
   ]
  },
  {
   "cell_type": "markdown",
   "metadata": {},
   "source": [
    "## Creating of the Table of Values"
   ]
  },
  {
   "cell_type": "code",
   "execution_count": 90,
   "metadata": {},
   "outputs": [],
   "source": [
    "table_of_values=paper.str.split('&').str.len()\n",
    "# we used this code to create the number of papers "
   ]
  },
  {
   "cell_type": "code",
   "execution_count": 55,
   "metadata": {},
   "outputs": [],
   "source": [
    "table_of_values=pd.DataFrame(table_of_values).reset_index()\n",
    "# we used this code to change the above column to dataframe"
   ]
  },
  {
   "cell_type": "code",
   "execution_count": 56,
   "metadata": {},
   "outputs": [],
   "source": [
    "table_of_values.columns=['index','number_of_papers']\n",
    "# we used this code to set the columns "
   ]
  },
  {
   "cell_type": "code",
   "execution_count": 57,
   "metadata": {},
   "outputs": [
    {
     "data": {
      "text/html": [
       "<div>\n",
       "<style scoped>\n",
       "    .dataframe tbody tr th:only-of-type {\n",
       "        vertical-align: middle;\n",
       "    }\n",
       "\n",
       "    .dataframe tbody tr th {\n",
       "        vertical-align: top;\n",
       "    }\n",
       "\n",
       "    .dataframe thead th {\n",
       "        text-align: right;\n",
       "    }\n",
       "</style>\n",
       "<table border=\"1\" class=\"dataframe\">\n",
       "  <thead>\n",
       "    <tr style=\"text-align: right;\">\n",
       "      <th></th>\n",
       "      <th>index</th>\n",
       "      <th>journal</th>\n",
       "    </tr>\n",
       "  </thead>\n",
       "  <tbody>\n",
       "    <tr>\n",
       "      <th>0</th>\n",
       "      <td>12156</td>\n",
       "      <td>Emerg Infect Dis</td>\n",
       "    </tr>\n",
       "    <tr>\n",
       "      <th>1</th>\n",
       "      <td>12157</td>\n",
       "      <td>Emerg Infect Dis</td>\n",
       "    </tr>\n",
       "    <tr>\n",
       "      <th>2</th>\n",
       "      <td>12158</td>\n",
       "      <td>Emerg Infect Dis</td>\n",
       "    </tr>\n",
       "    <tr>\n",
       "      <th>3</th>\n",
       "      <td>12159</td>\n",
       "      <td>Emerg Infect Dis</td>\n",
       "    </tr>\n",
       "    <tr>\n",
       "      <th>4</th>\n",
       "      <td>12196</td>\n",
       "      <td>Sci Adv</td>\n",
       "    </tr>\n",
       "  </tbody>\n",
       "</table>\n",
       "</div>"
      ],
      "text/plain": [
       "   index           journal\n",
       "0  12156  Emerg Infect Dis\n",
       "1  12157  Emerg Infect Dis\n",
       "2  12158  Emerg Infect Dis\n",
       "3  12159  Emerg Infect Dis\n",
       "4  12196           Sci Adv"
      ]
     },
     "execution_count": 57,
     "metadata": {},
     "output_type": "execute_result"
    }
   ],
   "source": [
    "paper=pd.DataFrame(paper).reset_index()\n",
    "paper.head()\n",
    "# we used this code to turn paper column to dataframe"
   ]
  },
  {
   "cell_type": "code",
   "execution_count": 58,
   "metadata": {},
   "outputs": [
    {
     "data": {
      "text/html": [
       "<div>\n",
       "<style scoped>\n",
       "    .dataframe tbody tr th:only-of-type {\n",
       "        vertical-align: middle;\n",
       "    }\n",
       "\n",
       "    .dataframe tbody tr th {\n",
       "        vertical-align: top;\n",
       "    }\n",
       "\n",
       "    .dataframe thead th {\n",
       "        text-align: right;\n",
       "    }\n",
       "</style>\n",
       "<table border=\"1\" class=\"dataframe\">\n",
       "  <thead>\n",
       "    <tr style=\"text-align: right;\">\n",
       "      <th></th>\n",
       "      <th>index</th>\n",
       "      <th>year_month</th>\n",
       "    </tr>\n",
       "  </thead>\n",
       "  <tbody>\n",
       "    <tr>\n",
       "      <th>0</th>\n",
       "      <td>12156</td>\n",
       "      <td>2020-01</td>\n",
       "    </tr>\n",
       "    <tr>\n",
       "      <th>1</th>\n",
       "      <td>12157</td>\n",
       "      <td>2020-01</td>\n",
       "    </tr>\n",
       "    <tr>\n",
       "      <th>2</th>\n",
       "      <td>12158</td>\n",
       "      <td>2020-01</td>\n",
       "    </tr>\n",
       "    <tr>\n",
       "      <th>3</th>\n",
       "      <td>12159</td>\n",
       "      <td>2020-01</td>\n",
       "    </tr>\n",
       "    <tr>\n",
       "      <th>4</th>\n",
       "      <td>12196</td>\n",
       "      <td>2020-01</td>\n",
       "    </tr>\n",
       "  </tbody>\n",
       "</table>\n",
       "</div>"
      ],
      "text/plain": [
       "   index year_month\n",
       "0  12156    2020-01\n",
       "1  12157    2020-01\n",
       "2  12158    2020-01\n",
       "3  12159    2020-01\n",
       "4  12196    2020-01"
      ]
     },
     "execution_count": 58,
     "metadata": {},
     "output_type": "execute_result"
    }
   ],
   "source": [
    "year=pd.DataFrame(year).reset_index()\n",
    "year.head()\n",
    "# we used this code to turn year column to dataframe"
   ]
  },
  {
   "cell_type": "code",
   "execution_count": 59,
   "metadata": {},
   "outputs": [],
   "source": [
    "table_of_values['papers']=paper['journal']\n",
    "# we used this code to create papers column"
   ]
  },
  {
   "cell_type": "code",
   "execution_count": 60,
   "metadata": {},
   "outputs": [],
   "source": [
    "table_of_values['month(since 2020-01)']=year['year_month']\n",
    "# we used this code to create month(since2020-01) column"
   ]
  },
  {
   "cell_type": "markdown",
   "metadata": {},
   "source": [
    "## Table of Values"
   ]
  },
  {
   "cell_type": "code",
   "execution_count": 61,
   "metadata": {},
   "outputs": [
    {
     "data": {
      "text/html": [
       "<div>\n",
       "<style scoped>\n",
       "    .dataframe tbody tr th:only-of-type {\n",
       "        vertical-align: middle;\n",
       "    }\n",
       "\n",
       "    .dataframe tbody tr th {\n",
       "        vertical-align: top;\n",
       "    }\n",
       "\n",
       "    .dataframe thead th {\n",
       "        text-align: right;\n",
       "    }\n",
       "</style>\n",
       "<table border=\"1\" class=\"dataframe\">\n",
       "  <thead>\n",
       "    <tr style=\"text-align: right;\">\n",
       "      <th></th>\n",
       "      <th>index</th>\n",
       "      <th>number_of_papers</th>\n",
       "      <th>papers</th>\n",
       "      <th>month(since 2020-01)</th>\n",
       "    </tr>\n",
       "  </thead>\n",
       "  <tbody>\n",
       "    <tr>\n",
       "      <th>0</th>\n",
       "      <td>12156</td>\n",
       "      <td>1</td>\n",
       "      <td>Emerg Infect Dis</td>\n",
       "      <td>2020-01</td>\n",
       "    </tr>\n",
       "    <tr>\n",
       "      <th>1</th>\n",
       "      <td>12157</td>\n",
       "      <td>1</td>\n",
       "      <td>Emerg Infect Dis</td>\n",
       "      <td>2020-01</td>\n",
       "    </tr>\n",
       "    <tr>\n",
       "      <th>2</th>\n",
       "      <td>12158</td>\n",
       "      <td>1</td>\n",
       "      <td>Emerg Infect Dis</td>\n",
       "      <td>2020-01</td>\n",
       "    </tr>\n",
       "    <tr>\n",
       "      <th>3</th>\n",
       "      <td>12159</td>\n",
       "      <td>1</td>\n",
       "      <td>Emerg Infect Dis</td>\n",
       "      <td>2020-01</td>\n",
       "    </tr>\n",
       "    <tr>\n",
       "      <th>4</th>\n",
       "      <td>12196</td>\n",
       "      <td>1</td>\n",
       "      <td>Sci Adv</td>\n",
       "      <td>2020-01</td>\n",
       "    </tr>\n",
       "  </tbody>\n",
       "</table>\n",
       "</div>"
      ],
      "text/plain": [
       "   index  number_of_papers            papers month(since 2020-01)\n",
       "0  12156                 1  Emerg Infect Dis              2020-01\n",
       "1  12157                 1  Emerg Infect Dis              2020-01\n",
       "2  12158                 1  Emerg Infect Dis              2020-01\n",
       "3  12159                 1  Emerg Infect Dis              2020-01\n",
       "4  12196                 1           Sci Adv              2020-01"
      ]
     },
     "execution_count": 61,
     "metadata": {},
     "output_type": "execute_result"
    }
   ],
   "source": [
    "table_of_values.head()"
   ]
  },
  {
   "cell_type": "code",
   "execution_count": 74,
   "metadata": {},
   "outputs": [
    {
     "data": {
      "text/plain": [
       "'Diabetes & Metabolic Syndrome: Clinical Research & Reviews'"
      ]
     },
     "execution_count": 74,
     "metadata": {},
     "output_type": "execute_result"
    }
   ],
   "source": [
    "table_of_values.loc[4235]['papers']"
   ]
  },
  {
   "cell_type": "code",
   "execution_count": 66,
   "metadata": {},
   "outputs": [
    {
     "data": {
      "text/plain": [
       "2020-04    5232\n",
       "2020-03    2625\n",
       "2020-02    1035\n",
       "2020-01     918\n",
       "2020-05     207\n",
       "2020-06     129\n",
       "2020-12     128\n",
       "2020-07      47\n",
       "2020-08      40\n",
       "2020-09       5\n",
       "2020-10       3\n",
       "2021-12       3\n",
       "2020-11       1\n",
       "Name: month(since 2020-01), dtype: int64"
      ]
     },
     "execution_count": 66,
     "metadata": {},
     "output_type": "execute_result"
    }
   ],
   "source": [
    "table_of_values['month(since 2020-01)'].value_counts()"
   ]
  },
  {
   "cell_type": "markdown",
   "metadata": {},
   "source": [
    "## Visualization of the Number of Papers Per Month (since 2020-01)"
   ]
  },
  {
   "cell_type": "code",
   "execution_count": 90,
   "metadata": {},
   "outputs": [
    {
     "data": {
      "image/png": "[encoded data removed]",
      "text/plain": [
       "<Figure size 864x864 with 1 Axes>"
      ]
     },
     "metadata": {},
     "output_type": "display_data"
    }
   ],
   "source": [
    "# create figure and plot space\n",
    "fig,ax = plt.subplots(figsize=(12,12))\n",
    "\n",
    "# Add x-axis and y-axis\n",
    "ax.bar(table_of_values['month(since 2020-01)'], table_of_values['number_of_papers'],color='purple')\n",
    "\n",
    "# Set title and labels for axes\n",
    "ax.set(xlabel='year(since 2020-01)',ylabel='number_of_papers',title='Visual of number of papers per month(since 2020-01)')\n",
    "\n",
    " \n",
    "plt.show()"
   ]
  },
  {
   "cell_type": "markdown",
   "metadata": {},
   "source": []
  }
 ],
 "metadata": {
  "kernelspec": {
   "display_name": "Python 3",
   "language": "python",
   "name": "python3"
  },
  "language_info": {
   "codemirror_mode": {
    "name": "ipython",
    "version": 3
   },
   "file_extension": ".py",
   "mimetype": "text/x-python",
   "name": "python",
   "nbconvert_exporter": "python",
   "pygments_lexer": "ipython3",
   "version": "3.7.6"
  }
 },
 "nbformat": 4,
 "nbformat_minor": 4
}
